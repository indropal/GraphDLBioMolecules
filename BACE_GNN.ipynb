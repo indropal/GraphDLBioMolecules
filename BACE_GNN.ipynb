{
 "cells": [
  {
   "cell_type": "markdown",
   "metadata": {},
   "source": [
    "<h2>Predicting Qualitative Binding results for inhibitors of human β-secretase 1 <em>(BACE-1)</em></h2>\n",
    "\n",
    "In this project a model is built to predict the <em><b>inhibition / binding capacity</b></em> of inhibitors of human β-secretase 1(BACE-1) from the corresponding inhibitor molecular structure which are used as features for the Deep Learning (<em>Graph</em>) Model. \n",
    "<br>\n",
    "\n",
    "To train and validate the model, we make use of the <a href=\"https://moleculenet.org/datasets-1\">BACE Dataset</a> - which comprises of <em>1513</em> organic molecules. In the dataset each molecule's structure is represented by its respective <b>SMILES</b> string."
   ]
  },
  {
   "cell_type": "code",
   "execution_count": 1,
   "metadata": {},
   "outputs": [
    {
     "name": "stderr",
     "output_type": "stream",
     "text": [
      "C:\\Users\\palin\\Anaconda3\\lib\\site-packages\\statsmodels\\tools\\_testing.py:19: FutureWarning: pandas.util.testing is deprecated. Use the functions in the public API at pandas.testing instead.\n",
      "  import pandas.util.testing as tm\n"
     ]
    }
   ],
   "source": [
    "import sys\n",
    "from rdkit import Chem\n",
    "import torch\n",
    "import torch.nn.functional as F\n",
    "\n",
    "from torch_geometric.nn import GCNConv, TopKPooling\n",
    "from torch_geometric.nn import global_mean_pool as gap\n",
    "from torch_geometric.nn import global_max_pool as gmp\n",
    "from torch_geometric.datasets import MoleculeNet\n",
    "from torch_geometric.data import DataLoader\n",
    "\n",
    "import seaborn as sns\n",
    "import pandas as pd\n",
    "import numpy as np\n",
    "from sklearn.metrics import mean_absolute_error, log_loss, roc_curve, roc_auc_score, accuracy_score, confusion_matrix\n",
    "import matplotlib.pyplot as plt\n",
    "import warnings\n",
    "\n",
    "sys.path.append(\"./gnns/\")\n",
    "from baseBACEModel import baseBACEModel\n",
    "from baceModel import baceModel"
   ]
  },
  {
   "cell_type": "markdown",
   "metadata": {},
   "source": [
    "<h3>Load & Inspect the <em>BACE</em> dataset</h3>"
   ]
  },
  {
   "cell_type": "code",
   "execution_count": 2,
   "metadata": {},
   "outputs": [
    {
     "data": {
      "text/plain": [
       "BACE(1513)"
      ]
     },
     "execution_count": 2,
     "metadata": {},
     "output_type": "execute_result"
    }
   ],
   "source": [
    "# Load the 'ESOL' component of the dataset\n",
    "data = MoleculeNet(root='.', name=\"BACE\")\n",
    "data"
   ]
  },
  {
   "cell_type": "code",
   "execution_count": 3,
   "metadata": {},
   "outputs": [
    {
     "name": "stdout",
     "output_type": "stream",
     "text": [
      "Inspecting the dataset...\n",
      "Dataset Type: <class 'torch_geometric.datasets.molecule_net.MoleculeNet'>\n",
      "Number of features per molecule: 9 | Number of Classes: 2\n",
      "Number of Datapoints: <bound method InMemoryDataset.len of BACE(1513)>\n",
      "Inspecting a Molecule Graph data sample..\n",
      "First Molecule Graph Data in dataset: Data(x=[32, 9], edge_index=[2, 70], edge_attr=[70, 3], y=[1, 1], smiles='O1CC[C@@H](NC(=O)[C@@H](Cc2cc3cc(ccc3nc2N)-c2ccccc2C)C)CC1(C)C')\n",
      "Number of Nodes in Molecule Graph: 32 | Number of Edges in Molecule Graph: 70\n",
      "\n",
      "Inspect the features in the data sample:\n"
     ]
    },
    {
     "data": {
      "text/plain": [
       "tensor([[8, 0, 2, 5, 0, 0, 4, 0, 1],\n",
       "        [6, 0, 4, 5, 2, 0, 4, 0, 1],\n",
       "        [6, 0, 4, 5, 2, 0, 4, 0, 1],\n",
       "        [6, 1, 4, 5, 1, 0, 4, 0, 1],\n",
       "        [7, 0, 3, 5, 1, 0, 3, 0, 0],\n",
       "        [6, 0, 3, 5, 0, 0, 3, 0, 0],\n",
       "        [8, 0, 1, 5, 0, 0, 3, 0, 0],\n",
       "        [6, 1, 4, 5, 1, 0, 4, 0, 0],\n",
       "        [6, 0, 4, 5, 2, 0, 4, 0, 0],\n",
       "        [6, 0, 3, 5, 0, 0, 3, 1, 1],\n",
       "        [6, 0, 3, 5, 1, 0, 3, 1, 1],\n",
       "        [6, 0, 3, 5, 0, 0, 3, 1, 1],\n",
       "        [6, 0, 3, 5, 1, 0, 3, 1, 1],\n",
       "        [6, 0, 3, 5, 0, 0, 3, 1, 1],\n",
       "        [6, 0, 3, 5, 1, 0, 3, 1, 1],\n",
       "        [6, 0, 3, 5, 1, 0, 3, 1, 1],\n",
       "        [6, 0, 3, 5, 0, 0, 3, 1, 1],\n",
       "        [7, 0, 2, 5, 0, 0, 3, 1, 1],\n",
       "        [6, 0, 3, 5, 0, 0, 3, 1, 1],\n",
       "        [7, 0, 3, 5, 2, 0, 3, 0, 0],\n",
       "        [6, 0, 3, 5, 0, 0, 3, 1, 1],\n",
       "        [6, 0, 3, 5, 1, 0, 3, 1, 1],\n",
       "        [6, 0, 3, 5, 1, 0, 3, 1, 1],\n",
       "        [6, 0, 3, 5, 1, 0, 3, 1, 1],\n",
       "        [6, 0, 3, 5, 1, 0, 3, 1, 1],\n",
       "        [6, 0, 3, 5, 0, 0, 3, 1, 1],\n",
       "        [6, 0, 4, 5, 3, 0, 4, 0, 0],\n",
       "        [6, 0, 4, 5, 3, 0, 4, 0, 0],\n",
       "        [6, 0, 4, 5, 2, 0, 4, 0, 1],\n",
       "        [6, 0, 4, 5, 0, 0, 4, 0, 1],\n",
       "        [6, 0, 4, 5, 3, 0, 4, 0, 0],\n",
       "        [6, 0, 4, 5, 3, 0, 4, 0, 0]])"
      ]
     },
     "metadata": {},
     "output_type": "display_data"
    },
    {
     "name": "stdout",
     "output_type": "stream",
     "text": [
      "\n",
      "The target variable for the Graph Data sample:\n"
     ]
    },
    {
     "data": {
      "text/plain": [
       "tensor([[1.]])"
      ]
     },
     "metadata": {},
     "output_type": "display_data"
    },
    {
     "name": "stdout",
     "output_type": "stream",
     "text": [
      "The graph data has 32 nodes & each node is comprised of Node-features which consists of a tensor of 9 features for each node.\n"
     ]
    }
   ],
   "source": [
    "# inspect the dataset\n",
    "print(\"Inspecting the dataset...\\nDataset Type: {}\\nNumber of features per molecule: {} | Number of Classes: {}\\nNumber of Datapoints: {}\".format(type(data), data.num_features, data.num_classes, data.len))\n",
    "\n",
    "# inspecting a sample of the dataset\n",
    "print(\"Inspecting a Molecule Graph data sample..\\nFirst Molecule Graph Data in dataset: {}\\nNumber of Nodes in Molecule Graph: {} | Number of Edges in Molecule Graph: {}\".format(data[0], data[0].num_nodes, data[0].num_edges))\n",
    "print(\"\\nInspect the features in the data sample:\")\n",
    "display(data[0].x)\n",
    "print(\"\\nThe target variable for the Graph Data sample:\")\n",
    "display(data[0].y)\n",
    "# print(data[0].edge_index.t()) # Get the Edge Insformation i.e. tuple of nodes connected by an edge.\n",
    "print(\"The graph data has 32 nodes & each node is comprised of Node-features which consists of a tensor of 9 features for each node.\")"
   ]
  },
  {
   "cell_type": "markdown",
   "metadata": {},
   "source": [
    "<h3>Inspect the Classification Target Label distribution</h3>"
   ]
  },
  {
   "cell_type": "code",
   "execution_count": 4,
   "metadata": {},
   "outputs": [
    {
     "data": {
      "text/plain": [
       "labels\n",
       "0.0       822\n",
       "1.0       691\n",
       "dtype: int64"
      ]
     },
     "execution_count": 4,
     "metadata": {},
     "output_type": "execute_result"
    }
   ],
   "source": [
    "targets = []\n",
    "\"\"\"\n",
    "Binary-label binding results for a set of inhibitors of human β-secretase 1(BACE-1) \n",
    "\n",
    "The Binary indicated as : \n",
    "    - 1 : Binding Successfully inhibited\n",
    "    - 0 : Binding occured\n",
    "\n",
    "Task is to successfully predict Binary-Binding label from molecular structure.\n",
    "\"\"\"\n",
    "for d in data:\n",
    "    targets.append(*d.y.numpy()[0])\n",
    "    \n",
    "pd.DataFrame({'labels': targets}).value_counts()"
   ]
  },
  {
   "cell_type": "markdown",
   "metadata": {},
   "source": [
    "Upon inspection the target class labels are not equally distributed i.e. all the target classes do not have equal distribution. We need to prevent class-imbalance in our training dataset.\n",
    "\n",
    "<h4>re-organizing the dataset to prevent class-imbalance</h4>"
   ]
  },
  {
   "cell_type": "code",
   "execution_count": 5,
   "metadata": {},
   "outputs": [
    {
     "name": "stdout",
     "output_type": "stream",
     "text": [
      "640 640 51 182\n"
     ]
    }
   ],
   "source": [
    "\"\"\"\n",
    "In order to train the predictive model appropriately, we need to have equitable distribution of each label\n",
    "in the train dataset.\n",
    "\n",
    "Since there's not a whole lot of data ~ we need to alot as much as possible to the train dataset. Upon inspecting\n",
    "822 data-instances have label '0' while 691 data-instances have label '1'. \n",
    "\n",
    "Going ahead with 640 data-instance of each class-label in the train-dataset. i.e. 640 instances of '0',\n",
    "640 instances of '1' ~ Overall 1280 data points in our train dataset.\n",
    "\n",
    "- while 233 data-instances in test-dataset.\n",
    "\"\"\"\n",
    "\n",
    "# Set out the train dataset\n",
    "num_train_class_label = 640\n",
    "train_label1 = []\n",
    "train_label0 = []\n",
    "\n",
    "test_label1 = []\n",
    "test_label0 = []\n",
    "\n",
    "for d in data:\n",
    "    if (len(train_label1) < num_train_class_label) and (int(d.y.numpy()[0][0]) == 1):\n",
    "        train_label1.append(d)\n",
    "    elif (len(train_label0) < num_train_class_label) and (int(d.y.numpy()[0][0]) == 0):\n",
    "        train_label0.append(d)\n",
    "    else:\n",
    "        if int(d.y.numpy()[0][0]) == 0:\n",
    "            test_label0.append(d)\n",
    "        else:\n",
    "            test_label1.append(d)\n",
    "            \n",
    "print(len(train_label1), len(train_label0), len(test_label1), len(test_label0))\n",
    "\n",
    "assert (len(train_label1) == 640) and (len(train_label0) == 640), \"There's something wrong with the collated Train dataset\"\n",
    "assert len(train_label1)+len(train_label0)+len(test_label1)+len(test_label0) == len(data), \"There's something wrong with the collated Train/Test dataset - they dont add up to the total data in dataset\""
   ]
  },
  {
   "cell_type": "markdown",
   "metadata": {},
   "source": [
    "<h4>Revising & collating the Train-Test datasets for the model</h4>"
   ]
  },
  {
   "cell_type": "code",
   "execution_count": 6,
   "metadata": {},
   "outputs": [],
   "source": [
    "# collate the train dataset entirely\n",
    "train_data = train_label1 + train_label0\n",
    "\n",
    "assert len(train_data) == 2*num_train_class_label, \"There's something wrong while collating the training data\""
   ]
  },
  {
   "cell_type": "code",
   "execution_count": 7,
   "metadata": {},
   "outputs": [],
   "source": [
    "# collate the test dataset entirely\n",
    "test_data = test_label1 + test_label0\n",
    "\n",
    "assert len(test_data) == len(test_label1) + len(test_label0), \"There's something wrong while collating the testing data\""
   ]
  },
  {
   "cell_type": "markdown",
   "metadata": {},
   "source": [
    "<hr style=\"border: 3px double gray\"></hr>\n",
    "Upon inspecting the dataset - The target variable is of <em>Binary</em> nature - which indicates this as a <b><em>graph-level prediction problem</em></b>.\n",
    "Each data-point in the dataset represents the molecular structure as a combination of <b>nodes</b> with associated features, i.e. <b>'node-features'</b>. Each node has corresponding <b>9 features</b> associated with it which encapsulates edge features associated with the respective node as well.\n",
    "<h4>For each <em>SMILE string</em> - there is only <u>one</u> target variable for the entire molecule (graph data)</h4>\n",
    "\n",
    "Inspect a sample of molecule SMILES and the corresponding molecular structure."
   ]
  },
  {
   "cell_type": "code",
   "execution_count": 8,
   "metadata": {},
   "outputs": [
    {
     "name": "stdout",
     "output_type": "stream",
     "text": [
      "Molecule SMILES string:  S1(=O)(=O)C[C@@H](Cc2cc(C[C@@H]3N(CCC)C(OC3)=O)c(O)cc2)[C@H](O)[C@@H]([NH2+]Cc2cc(ccc2)C(C)C)C1\n"
     ]
    },
    {
     "data": {
      "image/png": "[encoded data removed]",
      "text/plain": [
       "<rdkit.Chem.rdchem.Mol at 0x2433ae21850>"
      ]
     },
     "metadata": {},
     "output_type": "display_data"
    },
    {
     "name": "stdout",
     "output_type": "stream",
     "text": [
      "---------------------------------------------\n",
      "Molecule SMILES string:  S1C[C@H](NC(OC(C)(C)C)=O)C(=O)N[C@@H](C)C(=O)N[C@@H](CSC\\C=C\\C1)[C@@H](O)C[C@H](C(=O)N[C@@H](C(C)C)C(=O)NCCCC)C\n"
     ]
    },
    {
     "data": {
      "image/png": "[encoded data removed]",
      "text/plain": [
       "<rdkit.Chem.rdchem.Mol at 0x2436b3d5620>"
      ]
     },
     "metadata": {},
     "output_type": "display_data"
    },
    {
     "name": "stdout",
     "output_type": "stream",
     "text": [
      "---------------------------------------------\n",
      "Molecule SMILES string:  O(C)c1ccc(cc1C)[C@@]1(N=C(N)N(C)C1=O)C12CC3CC(C1)CC(C2)C3\n"
     ]
    },
    {
     "data": {
      "image/png": "[encoded data removed]",
      "text/plain": [
       "<rdkit.Chem.rdchem.Mol at 0x2436b3d5670>"
      ]
     },
     "metadata": {},
     "output_type": "display_data"
    },
    {
     "name": "stdout",
     "output_type": "stream",
     "text": [
      "---------------------------------------------\n",
      "Molecule SMILES string:  Clc1cc2CC([NH+]=C(N[C@@H](Cc3ccccc3)C=3NC(=O)c4c(N=3)ccnc4)c2cc1)(C)C\n"
     ]
    },
    {
     "data": {
      "image/png": "[encoded data removed]",
      "text/plain": [
       "<rdkit.Chem.rdchem.Mol at 0x2436b3d54e0>"
      ]
     },
     "metadata": {},
     "output_type": "display_data"
    },
    {
     "name": "stdout",
     "output_type": "stream",
     "text": [
      "---------------------------------------------\n",
      "Molecule SMILES string:  O=C1N(CCC1)c1cc(cc(NCC)c1)C(=O)N[C@H]([C@H](O)C[NH2+]C1CCCCC1)Cc1ccccc1\n"
     ]
    },
    {
     "data": {
      "image/png": "[encoded data removed]",
      "text/plain": [
       "<rdkit.Chem.rdchem.Mol at 0x2436b3d5300>"
      ]
     },
     "metadata": {},
     "output_type": "display_data"
    },
    {
     "name": "stdout",
     "output_type": "stream",
     "text": [
      "---------------------------------------------\n",
      "Molecule SMILES string:  Fc1ccc(NC(=O)c2ncc(OCC)cc2)cc1[C@]1(N=C(OCC1(F)F)N)C\n"
     ]
    },
    {
     "data": {
      "image/png": "[encoded data removed]",
      "text/plain": [
       "<rdkit.Chem.rdchem.Mol at 0x2436b3c2a30>"
      ]
     },
     "metadata": {},
     "output_type": "display_data"
    },
    {
     "name": "stdout",
     "output_type": "stream",
     "text": [
      "---------------------------------------------\n",
      "Molecule SMILES string:  O(C(=O)[C@H]1N(CCC1)C(=O)[C@H](N(C(=O)[C@@H](NC(=O)[C@@H](NC(=O)C[C@H](O)[C@@H](NC(=O)[C@@H](N(C(=O)[C@@H](NC(=O)[C@@H](O)C)C(C)C)C)CCC(=O)N)CC1CCCCC1)CC(C)C)C)C)CC1CCCCC1)C\n"
     ]
    },
    {
     "data": {
      "image/png": "[encoded data removed]",
      "text/plain": [
       "<rdkit.Chem.rdchem.Mol at 0x2436b3d5080>"
      ]
     },
     "metadata": {},
     "output_type": "display_data"
    },
    {
     "name": "stdout",
     "output_type": "stream",
     "text": [
      "---------------------------------------------\n",
      "Molecule SMILES string:  S1C[C@H](NC(=O)[C@@H](NC(=O)[C@@H]2[NH2+]CCC[C@@H]2SC\\C=C\\C1)C)[C@@H](O)C[C@H](C(=O)NCCCC)C\n"
     ]
    },
    {
     "data": {
      "image/png": "[encoded data removed]",
      "text/plain": [
       "<rdkit.Chem.rdchem.Mol at 0x2436b3c2080>"
      ]
     },
     "metadata": {},
     "output_type": "display_data"
    },
    {
     "name": "stdout",
     "output_type": "stream",
     "text": [
      "---------------------------------------------\n",
      "Molecule SMILES string:  O(C)c1cc(ccc1)C[NH2+]C[C@@H](O)[C@@H](NC(=O)c1cc(ccc1)C(=O)N(CCC)CCC)Cc1ccccc1\n"
     ]
    },
    {
     "data": {
      "image/png": "[encoded data removed]",
      "text/plain": [
       "<rdkit.Chem.rdchem.Mol at 0x2436b3989e0>"
      ]
     },
     "metadata": {},
     "output_type": "display_data"
    },
    {
     "name": "stdout",
     "output_type": "stream",
     "text": [
      "---------------------------------------------\n",
      "Molecule SMILES string:  O=C(NC[C@H]([NH3+])C(=O)N[C@@H](C(C)C)C(=O)N[C@@H](CC(C)C)C(=O)NC[C@](O)(CCc1ccccc1)C(=O)Nc1cc(ccc1)C(=O)[O-])c1nnn[n-]1\n"
     ]
    },
    {
     "data": {
      "image/png": "[encoded data removed]",
      "text/plain": [
       "<rdkit.Chem.rdchem.Mol at 0x2436b4e3710>"
      ]
     },
     "metadata": {},
     "output_type": "display_data"
    },
    {
     "name": "stdout",
     "output_type": "stream",
     "text": [
      "---------------------------------------------\n",
      "Molecule SMILES string:  Fc1ccc(cc1-c1cncnc1)[C@]1([NH+]=C(N)c2c1cccc2F)c1cc(ncc1)C(F)(F)F\n"
     ]
    },
    {
     "data": {
      "image/png": "[encoded data removed]",
      "text/plain": [
       "<rdkit.Chem.rdchem.Mol at 0x2436b4e3760>"
      ]
     },
     "metadata": {},
     "output_type": "display_data"
    },
    {
     "name": "stdout",
     "output_type": "stream",
     "text": [
      "---------------------------------------------\n"
     ]
    }
   ],
   "source": [
    "# Visualizing Molecules\n",
    "# Use RDKit to visualize molecular features of first 10 graph data samples\n",
    "\n",
    "for i in range(645,656):\n",
    "    molecule = Chem.MolFromSmiles(train_data[i]['smiles'])\n",
    "    print(\"Molecule SMILES string: \", train_data[i]['smiles'])\n",
    "    display(molecule)\n",
    "    print('---------------------------------------------')"
   ]
  },
  {
   "cell_type": "markdown",
   "metadata": {},
   "source": [
    "<hr style=\"border: 4px double orange;\"></hr>\n",
    "<h3>Modelling with Deep Graph Neural Nets</h3>\n",
    "\n",
    "Create a baseline Model to benchmark the performance, on top of which a refined GNN model can be built to obtain improved predictions on predicting the inhibitive nature of the molecule."
   ]
  },
  {
   "cell_type": "code",
   "execution_count": 9,
   "metadata": {},
   "outputs": [
    {
     "data": {
      "text/plain": [
       "baseBACEModel(\n",
       "  (in_conv): GCNConv(9, 128)\n",
       "  (conv1): TransformerConv(128, 128, heads=2)\n",
       "  (lin1): Linear(in_features=256, out_features=128, bias=True)\n",
       "  (g_norm): GraphNorm(128)\n",
       "  (conv2): GCNConv(128, 128)\n",
       "  (pool): TopKPooling(128, ratio=0.3, multiplier=1.0)\n",
       "  (out): Linear(in_features=256, out_features=1, bias=True)\n",
       ")"
      ]
     },
     "metadata": {},
     "output_type": "display_data"
    },
    {
     "name": "stdout",
     "output_type": "stream",
     "text": [
      "Number of Model Parameters:  184321\n"
     ]
    }
   ],
   "source": [
    "# instantiate the baseline Model\n",
    "emb_size = 128 # Embedding size for each Graph NN layer\n",
    "\n",
    "# Instantiating the Base Model\n",
    "base_model = baseBACEModel(data.num_features, emb_size)\n",
    "\n",
    "device = torch.device(\"cuda:0\" if torch.cuda.is_available() else \"cpu\")\n",
    "base_model = base_model.to(device)\n",
    "display(base_model)\n",
    "\n",
    "# summarize the model\n",
    "print(\"Number of Model Parameters: \", sum(p.numel() for p in base_model.parameters()))"
   ]
  },
  {
   "cell_type": "markdown",
   "metadata": {},
   "source": [
    "<h4>Defining a Learning-Rate Schedule to ensure proper training of the NN</h4>"
   ]
  },
  {
   "cell_type": "code",
   "execution_count": 10,
   "metadata": {},
   "outputs": [
    {
     "data": {
      "text/plain": [
       "<matplotlib.axes._subplots.AxesSubplot at 0x2d1d09f5e88>"
      ]
     },
     "execution_count": 10,
     "metadata": {},
     "output_type": "execute_result"
    },
    {
     "data": {
      "image/png": "[encoded data removed]",
      "text/plain": [
       "<Figure size 432x288 with 1 Axes>"
      ]
     },
     "metadata": {
      "needs_background": "light"
     },
     "output_type": "display_data"
    }
   ],
   "source": [
    "%matplotlib inline\n",
    "\n",
    "lrs = []\n",
    "initLR = 0.0001\n",
    "\n",
    "# Visualizing the Learning-rate decay over successive iterations : figuring out the decay-constant\n",
    "for epo in range(5000):\n",
    "    lrs.append(initLR*(np.e**(-epo/7500))) \n",
    "\n",
    "# plot the learning rate value over successive epochs as it decays over training iterations\n",
    "pd.DataFrame({'lrs' : lrs}).plot()"
   ]
  },
  {
   "cell_type": "markdown",
   "metadata": {},
   "source": [
    "<h3>Compile the <em>baseline</em> model & define the Loss & Optimisation functions as well as the Training Method</h3>"
   ]
  },
  {
   "cell_type": "code",
   "execution_count": 11,
   "metadata": {},
   "outputs": [
    {
     "name": "stderr",
     "output_type": "stream",
     "text": [
      "C:\\Users\\palin\\Anaconda3\\lib\\site-packages\\torch_geometric\\deprecation.py:12: UserWarning: 'data.DataLoader' is deprecated, use 'loader.DataLoader' instead\n",
      "  warnings.warn(out)\n"
     ]
    }
   ],
   "source": [
    "# Orgainize the train & test data loaders\n",
    "\n",
    "batch_size = 64\n",
    "train_data_loader = DataLoader(train_data, batch_size=batch_size, shuffle=True)\n",
    "\n",
    "test_data_loader = DataLoader(test_data, batch_size=batch_size, shuffle=True)\n",
    "\n",
    "loss_function = torch.nn.BCEWithLogitsLoss()\n",
    "optimizer = torch.optim.Adam(base_model.parameters(), lr=0.00015)\n",
    "\n",
    "decay_const = 7500\n",
    "lr_schedule = lambda epoch: (np.e)**(-epoch/decay_const)\n",
    "\n",
    "scehdule_lr = torch.optim.lr_scheduler.LambdaLR(optimizer, lr_lambda=lr_schedule)\n",
    "\n",
    "def model_train(train_data_loader=train_data_loader, model=base_model):    \n",
    "    \n",
    "    for batch_data in train_data_loader:\n",
    "        \n",
    "        batch_data = batch_data.to(device)\n",
    "        optimizer.zero_grad()\n",
    "        prediction, embedding = model(batch_data.x.float(), batch_data.edge_index, batch_data.batch)\n",
    "        loss_val = loss_function(prediction, batch_data.y)\n",
    "        loss_val.backward()\n",
    "        optimizer.step()\n",
    "        \n",
    "    return loss_val, embedding"
   ]
  },
  {
   "cell_type": "markdown",
   "metadata": {},
   "source": [
    "<h4>Training the Baseline Model</h4>"
   ]
  },
  {
   "cell_type": "code",
   "execution_count": 12,
   "metadata": {
    "scrolled": true
   },
   "outputs": [
    {
     "name": "stderr",
     "output_type": "stream",
     "text": [
      "C:\\Users\\palin\\Anaconda3\\lib\\site-packages\\torch\\nn\\functional.py:1795: UserWarning: nn.functional.tanh is deprecated. Use torch.tanh instead.\n",
      "  warnings.warn(\"nn.functional.tanh is deprecated. Use torch.tanh instead.\")\n"
     ]
    },
    {
     "name": "stdout",
     "output_type": "stream",
     "text": [
      "Completed Epochs: 0 -> Loss: 0.6599819660186768\n",
      "Completed Epochs: 50 -> Loss: 0.636189341545105\n",
      "Completed Epochs: 100 -> Loss: 0.6054078340530396\n",
      "Completed Epochs: 150 -> Loss: 0.5125834941864014\n",
      "Completed Epochs: 200 -> Loss: 0.5313101410865784\n",
      "Completed Epochs: 250 -> Loss: 0.4563218653202057\n",
      "Completed Epochs: 300 -> Loss: 0.4429900348186493\n",
      "Completed Epochs: 350 -> Loss: 0.46490731835365295\n",
      "Completed Epochs: 400 -> Loss: 0.3669341206550598\n",
      "Completed Epochs: 450 -> Loss: 0.4062894582748413\n",
      "Completed Epochs: 500 -> Loss: 0.4127052426338196\n",
      "Completed Epochs: 550 -> Loss: 0.3832409381866455\n",
      "Completed Epochs: 600 -> Loss: 0.46656733751296997\n",
      "Completed Epochs: 650 -> Loss: 0.38682693243026733\n",
      "Completed Epochs: 700 -> Loss: 0.5180543065071106\n",
      "Completed Epochs: 750 -> Loss: 0.4195837080478668\n",
      "Completed Epochs: 800 -> Loss: 0.3279774785041809\n",
      "Completed Epochs: 850 -> Loss: 0.35351264476776123\n",
      "Completed Epochs: 900 -> Loss: 0.3078058958053589\n",
      "Completed Epochs: 950 -> Loss: 0.29526403546333313\n",
      "Completed Epochs: 1000 -> Loss: 0.26939094066619873\n",
      "Completed Epochs: 1050 -> Loss: 0.392739474773407\n",
      "Completed Epochs: 1100 -> Loss: 0.327167272567749\n",
      "Completed Epochs: 1150 -> Loss: 0.22341513633728027\n",
      "Completed Epochs: 1200 -> Loss: 0.2811373174190521\n",
      "Completed Epochs: 1250 -> Loss: 0.23873066902160645\n",
      "Completed Epochs: 1300 -> Loss: 0.2092723548412323\n",
      "Completed Epochs: 1350 -> Loss: 0.3134755492210388\n",
      "Completed Epochs: 1400 -> Loss: 0.29468095302581787\n",
      "Completed Epochs: 1450 -> Loss: 0.2765234708786011\n",
      "Completed Epochs: 1500 -> Loss: 0.2671331763267517\n",
      "Completed Epochs: 1550 -> Loss: 0.2649722397327423\n",
      "Completed Epochs: 1600 -> Loss: 0.37875378131866455\n",
      "Completed Epochs: 1650 -> Loss: 0.22142980992794037\n",
      "Completed Epochs: 1700 -> Loss: 0.3193812370300293\n",
      "Completed Epochs: 1750 -> Loss: 0.30947959423065186\n",
      "Completed Epochs: 1800 -> Loss: 0.19773204624652863\n",
      "Completed Epochs: 1850 -> Loss: 0.31276267766952515\n",
      "Completed Epochs: 1900 -> Loss: 0.25178763270378113\n",
      "Completed Epochs: 1950 -> Loss: 0.1861257255077362\n",
      "Completed Epochs: 2000 -> Loss: 0.1682550013065338\n",
      "Completed Epochs: 2050 -> Loss: 0.17477263510227203\n",
      "Completed Epochs: 2100 -> Loss: 0.20070818066596985\n",
      "Completed Epochs: 2150 -> Loss: 0.2602475583553314\n",
      "Completed Epochs: 2200 -> Loss: 0.16043619811534882\n",
      "Completed Epochs: 2250 -> Loss: 0.2543751001358032\n",
      "Completed Epochs: 2300 -> Loss: 0.2505359351634979\n",
      "Completed Epochs: 2350 -> Loss: 0.1637830287218094\n",
      "Completed Epochs: 2400 -> Loss: 0.3193855285644531\n",
      "Completed Epochs: 2450 -> Loss: 0.21464133262634277\n"
     ]
    }
   ],
   "source": [
    "epochs = 2500\n",
    "hist_loss = []\n",
    "\n",
    "for epoch in range(epochs):\n",
    "    loss, h = model_train(train_data_loader)\n",
    "    hist_loss.append(loss)\n",
    "    \n",
    "    if epoch%50 == 0:\n",
    "        print(\"Completed Epochs: {} -> Loss: {}\".format(epoch, loss))\n",
    "    \n",
    "    scehdule_lr.step()"
   ]
  },
  {
   "cell_type": "code",
   "execution_count": 17,
   "metadata": {},
   "outputs": [
    {
     "name": "stderr",
     "output_type": "stream",
     "text": [
      "C:\\Users\\palin\\Anaconda3\\lib\\site-packages\\torch\\nn\\functional.py:1795: UserWarning: nn.functional.tanh is deprecated. Use torch.tanh instead.\n",
      "  warnings.warn(\"nn.functional.tanh is deprecated. Use torch.tanh instead.\")\n"
     ]
    },
    {
     "name": "stdout",
     "output_type": "stream",
     "text": [
      "Completed Epochs: 0 -> Loss: 0.3324030339717865\n",
      "Completed Epochs: 50 -> Loss: 0.18425288796424866\n",
      "Completed Epochs: 100 -> Loss: 0.1932656168937683\n",
      "Completed Epochs: 150 -> Loss: 0.1558550000190735\n",
      "Completed Epochs: 200 -> Loss: 0.22110983729362488\n",
      "Completed Epochs: 250 -> Loss: 0.10018539428710938\n",
      "Completed Epochs: 300 -> Loss: 0.1472035050392151\n",
      "Completed Epochs: 350 -> Loss: 0.21514268219470978\n",
      "Completed Epochs: 400 -> Loss: 0.19291478395462036\n",
      "Completed Epochs: 450 -> Loss: 0.17907235026359558\n"
     ]
    }
   ],
   "source": [
    "epochs = 500\n",
    "\n",
    "for epoch in range(epochs):\n",
    "    loss, h = model_train(train_data_loader)\n",
    "    hist_loss.append(loss)\n",
    "    \n",
    "    if epoch%50 == 0:\n",
    "        print(\"Completed Epochs: {} -> Loss: {}\".format(epoch, loss))\n",
    "    \n",
    "    scehdule_lr.step()"
   ]
  },
  {
   "cell_type": "code",
   "execution_count": 18,
   "metadata": {},
   "outputs": [
    {
     "data": {
      "text/plain": [
       "<matplotlib.axes._subplots.AxesSubplot at 0x2d1d2d7b288>"
      ]
     },
     "execution_count": 18,
     "metadata": {},
     "output_type": "execute_result"
    },
    {
     "data": {
      "image/png": "[encoded data removed]",
      "text/plain": [
       "<Figure size 432x288 with 1 Axes>"
      ]
     },
     "metadata": {
      "needs_background": "light"
     },
     "output_type": "display_data"
    }
   ],
   "source": [
    "%matplotlib inline\n",
    "\n",
    "# Baseline Model was trained at 7500 epochs - visualizing only the last 2500 epochs\n",
    "hist_losses = [float(loss.cpu().detach().numpy()) for loss in hist_loss[:]]\n",
    "loss_index = [i for i in range(len(hist_losses))]\n",
    "\n",
    "plt = sns.lineplot(loss_index, hist_losses)\n",
    "plt"
   ]
  },
  {
   "cell_type": "markdown",
   "metadata": {},
   "source": [
    "<h4>Saving the trained Baseline Model</h4>"
   ]
  },
  {
   "cell_type": "code",
   "execution_count": 19,
   "metadata": {},
   "outputs": [],
   "source": [
    "torch.save(base_model, \"./models/BACE_baseModel.pth\")"
   ]
  },
  {
   "cell_type": "markdown",
   "metadata": {},
   "source": [
    "<h4>Assess the Performance of the Model</h4>\n",
    "\n",
    "In this section evaluation of the trained Baseline Model is being done on the entire dataset rather than just the training data. The respective <em>'thresholds'</em> for classification are also obtained from the evaluation of the AUC Score & ROC over the entire dataset rather than just the train dataset. This is done just for demonstrative purposes which also introduces data-leakage into the baseline model. However, this will be avoided in the refined version of the inhibitor classification model."
   ]
  },
  {
   "cell_type": "code",
   "execution_count": 18,
   "metadata": {},
   "outputs": [],
   "source": [
    "def all_data_eval(data, model, device=torch.device(\"cuda:0\" if torch.cuda.is_available() else \"cpu\"), batch_size = 64 ):\n",
    "    all_data = DataLoader(data, batch_size=batch_size, shuffle=True)\n",
    "    # all_data_iter = next(iter(all_data))\n",
    "    model.eval()\n",
    "    df = {'y_truth': [], 'y_predict': []}\n",
    "    with torch.no_grad():\n",
    "        for all_data_batch in all_data:\n",
    "            all_data_batch = all_data_batch.to(device)\n",
    "            prediction, embedding = model(all_data_batch.x.float(), all_data_batch.edge_index, all_data_batch.batch)\n",
    "            \n",
    "            # Take the Sigmoid of the output predictions\n",
    "            prediction = F.sigmoid(prediction)\n",
    "            \n",
    "            df['y_truth']+= all_data_batch.y.tolist()\n",
    "            df['y_predict']+= prediction.tolist()\n",
    "    \n",
    "    df = pd.DataFrame(df)\n",
    "    df['y_truth'] = df['y_truth'].apply(lambda row: row[0])\n",
    "    df['y_predict'] = df['y_predict'].apply(lambda row: row[0])\n",
    "    \n",
    "    return df"
   ]
  },
  {
   "cell_type": "code",
   "execution_count": 8,
   "metadata": {},
   "outputs": [
    {
     "name": "stderr",
     "output_type": "stream",
     "text": [
      "C:\\Users\\palin\\Anaconda3\\lib\\site-packages\\torch_geometric\\deprecation.py:12: UserWarning: 'data.DataLoader' is deprecated, use 'loader.DataLoader' instead\n",
      "  warnings.warn(out)\n",
      "C:\\Users\\palin\\Anaconda3\\lib\\site-packages\\torch\\nn\\functional.py:1795: UserWarning: nn.functional.tanh is deprecated. Use torch.tanh instead.\n",
      "  warnings.warn(\"nn.functional.tanh is deprecated. Use torch.tanh instead.\")\n",
      "C:\\Users\\palin\\Anaconda3\\lib\\site-packages\\torch\\nn\\functional.py:1806: UserWarning: nn.functional.sigmoid is deprecated. Use torch.sigmoid instead.\n",
      "  warnings.warn(\"nn.functional.sigmoid is deprecated. Use torch.sigmoid instead.\")\n"
     ]
    },
    {
     "data": {
      "text/html": [
       "<div>\n",
       "<style scoped>\n",
       "    .dataframe tbody tr th:only-of-type {\n",
       "        vertical-align: middle;\n",
       "    }\n",
       "\n",
       "    .dataframe tbody tr th {\n",
       "        vertical-align: top;\n",
       "    }\n",
       "\n",
       "    .dataframe thead th {\n",
       "        text-align: right;\n",
       "    }\n",
       "</style>\n",
       "<table border=\"1\" class=\"dataframe\">\n",
       "  <thead>\n",
       "    <tr style=\"text-align: right;\">\n",
       "      <th></th>\n",
       "      <th>y_truth</th>\n",
       "      <th>y_predict</th>\n",
       "    </tr>\n",
       "  </thead>\n",
       "  <tbody>\n",
       "    <tr>\n",
       "      <th>0</th>\n",
       "      <td>1.0</td>\n",
       "      <td>0.932877</td>\n",
       "    </tr>\n",
       "    <tr>\n",
       "      <th>1</th>\n",
       "      <td>1.0</td>\n",
       "      <td>0.927833</td>\n",
       "    </tr>\n",
       "    <tr>\n",
       "      <th>2</th>\n",
       "      <td>1.0</td>\n",
       "      <td>0.997869</td>\n",
       "    </tr>\n",
       "    <tr>\n",
       "      <th>3</th>\n",
       "      <td>0.0</td>\n",
       "      <td>0.111808</td>\n",
       "    </tr>\n",
       "    <tr>\n",
       "      <th>4</th>\n",
       "      <td>0.0</td>\n",
       "      <td>0.000024</td>\n",
       "    </tr>\n",
       "    <tr>\n",
       "      <th>...</th>\n",
       "      <td>...</td>\n",
       "      <td>...</td>\n",
       "    </tr>\n",
       "    <tr>\n",
       "      <th>1508</th>\n",
       "      <td>1.0</td>\n",
       "      <td>0.243098</td>\n",
       "    </tr>\n",
       "    <tr>\n",
       "      <th>1509</th>\n",
       "      <td>1.0</td>\n",
       "      <td>0.763375</td>\n",
       "    </tr>\n",
       "    <tr>\n",
       "      <th>1510</th>\n",
       "      <td>1.0</td>\n",
       "      <td>0.940399</td>\n",
       "    </tr>\n",
       "    <tr>\n",
       "      <th>1511</th>\n",
       "      <td>0.0</td>\n",
       "      <td>0.000602</td>\n",
       "    </tr>\n",
       "    <tr>\n",
       "      <th>1512</th>\n",
       "      <td>0.0</td>\n",
       "      <td>0.028560</td>\n",
       "    </tr>\n",
       "  </tbody>\n",
       "</table>\n",
       "<p>1513 rows × 2 columns</p>\n",
       "</div>"
      ],
      "text/plain": [
       "      y_truth  y_predict\n",
       "0         1.0   0.932877\n",
       "1         1.0   0.927833\n",
       "2         1.0   0.997869\n",
       "3         0.0   0.111808\n",
       "4         0.0   0.000024\n",
       "...       ...        ...\n",
       "1508      1.0   0.243098\n",
       "1509      1.0   0.763375\n",
       "1510      1.0   0.940399\n",
       "1511      0.0   0.000602\n",
       "1512      0.0   0.028560\n",
       "\n",
       "[1513 rows x 2 columns]"
      ]
     },
     "execution_count": 8,
     "metadata": {},
     "output_type": "execute_result"
    }
   ],
   "source": [
    "base_pred_df = all_data_eval(data, base_model)\n",
    "base_pred_df"
   ]
  },
  {
   "cell_type": "markdown",
   "metadata": {},
   "source": [
    "<h4>Evaluate the AUC Score</h4>"
   ]
  },
  {
   "cell_type": "code",
   "execution_count": 9,
   "metadata": {},
   "outputs": [
    {
     "name": "stdout",
     "output_type": "stream",
     "text": [
      "ROC-AUC_SCORE of the base_model on the entire dataset is :  0.983822240062535\n"
     ]
    }
   ],
   "source": [
    "auc_score = roc_auc_score(base_pred_df.y_truth.to_list(), base_pred_df.y_predict.to_list())\n",
    "print(\"ROC-AUC_SCORE of the base_model on the entire dataset is : \", auc_score)"
   ]
  },
  {
   "cell_type": "markdown",
   "metadata": {},
   "source": [
    "<h4>Obtain the ROC curves for the corresponding Thresholds for classification</h4>\n",
    "\n",
    "Observe the Classifier Performance with varying Classification Thresholds."
   ]
  },
  {
   "cell_type": "code",
   "execution_count": 12,
   "metadata": {},
   "outputs": [],
   "source": [
    "# obtain the thresholds for each of the ROC-curves to be generated with their corresponding FPR, TPR\n",
    "false_pos_rate, true_pos_rate, thresholds = roc_curve(base_pred_df.y_truth.to_list(), base_pred_df.y_predict.to_list())\n",
    "\n",
    "acc_th = {'acc': [], 'threshold': []}\n",
    "\n",
    "for th in thresholds:\n",
    "    ground_truth = base_pred_df.y_truth.to_list()\n",
    "    predicted_val = base_pred_df.y_predict.to_list()\n",
    "    predicted_val = [ 1.0 if th <= pred else 0.0 for pred in predicted_val ]\n",
    "    \n",
    "    acc_th['acc'].append( accuracy_score(ground_truth, predicted_val) )\n",
    "    acc_th['threshold'].append( th )\n",
    "    \n",
    "acc_df = pd.DataFrame(acc_th)"
   ]
  },
  {
   "cell_type": "code",
   "execution_count": 32,
   "metadata": {},
   "outputs": [
    {
     "data": {
      "text/html": [
       "<div>\n",
       "<style scoped>\n",
       "    .dataframe tbody tr th:only-of-type {\n",
       "        vertical-align: middle;\n",
       "    }\n",
       "\n",
       "    .dataframe tbody tr th {\n",
       "        vertical-align: top;\n",
       "    }\n",
       "\n",
       "    .dataframe thead th {\n",
       "        text-align: right;\n",
       "    }\n",
       "</style>\n",
       "<table border=\"1\" class=\"dataframe\">\n",
       "  <thead>\n",
       "    <tr style=\"text-align: right;\">\n",
       "      <th></th>\n",
       "      <th>FPR</th>\n",
       "      <th>TPR</th>\n",
       "      <th>Threshold</th>\n",
       "    </tr>\n",
       "  </thead>\n",
       "  <tbody>\n",
       "    <tr>\n",
       "      <th>0</th>\n",
       "      <td>0.0</td>\n",
       "      <td>0.000000</td>\n",
       "      <td>1.999991</td>\n",
       "    </tr>\n",
       "    <tr>\n",
       "      <th>1</th>\n",
       "      <td>0.0</td>\n",
       "      <td>0.001447</td>\n",
       "      <td>0.999991</td>\n",
       "    </tr>\n",
       "    <tr>\n",
       "      <th>2</th>\n",
       "      <td>0.0</td>\n",
       "      <td>0.083936</td>\n",
       "      <td>0.999247</td>\n",
       "    </tr>\n",
       "    <tr>\n",
       "      <th>3</th>\n",
       "      <td>0.0</td>\n",
       "      <td>0.086831</td>\n",
       "      <td>0.999219</td>\n",
       "    </tr>\n",
       "    <tr>\n",
       "      <th>4</th>\n",
       "      <td>0.0</td>\n",
       "      <td>0.138929</td>\n",
       "      <td>0.998397</td>\n",
       "    </tr>\n",
       "  </tbody>\n",
       "</table>\n",
       "</div>"
      ],
      "text/plain": [
       "   FPR       TPR  Threshold\n",
       "0  0.0  0.000000   1.999991\n",
       "1  0.0  0.001447   0.999991\n",
       "2  0.0  0.083936   0.999247\n",
       "3  0.0  0.086831   0.999219\n",
       "4  0.0  0.138929   0.998397"
      ]
     },
     "execution_count": 32,
     "metadata": {},
     "output_type": "execute_result"
    }
   ],
   "source": [
    "# Having a threshold of 0.571743 seems to be an ideal value by keeping in mind the FPR & TPR\n",
    "# Corresponding value of TPR & FPR ->\n",
    "fpr_tpr_thresh_DF = pd.DataFrame({'FPR': false_pos_rate, 'TPR': true_pos_rate, 'Threshold': thresholds})\n",
    "fpr_tpr_thresh_DF.head()"
   ]
  },
  {
   "cell_type": "code",
   "execution_count": 15,
   "metadata": {
    "scrolled": false
   },
   "outputs": [
    {
     "data": {
      "text/html": [
       "<div>\n",
       "<style scoped>\n",
       "    .dataframe tbody tr th:only-of-type {\n",
       "        vertical-align: middle;\n",
       "    }\n",
       "\n",
       "    .dataframe tbody tr th {\n",
       "        vertical-align: top;\n",
       "    }\n",
       "\n",
       "    .dataframe thead th {\n",
       "        text-align: right;\n",
       "    }\n",
       "</style>\n",
       "<table border=\"1\" class=\"dataframe\">\n",
       "  <thead>\n",
       "    <tr style=\"text-align: right;\">\n",
       "      <th></th>\n",
       "      <th>acc</th>\n",
       "      <th>threshold</th>\n",
       "    </tr>\n",
       "  </thead>\n",
       "  <tbody>\n",
       "    <tr>\n",
       "      <th>0</th>\n",
       "      <td>0.543291</td>\n",
       "      <td>1.999991</td>\n",
       "    </tr>\n",
       "    <tr>\n",
       "      <th>1</th>\n",
       "      <td>0.543952</td>\n",
       "      <td>0.999991</td>\n",
       "    </tr>\n",
       "    <tr>\n",
       "      <th>2</th>\n",
       "      <td>0.581626</td>\n",
       "      <td>0.999247</td>\n",
       "    </tr>\n",
       "    <tr>\n",
       "      <th>3</th>\n",
       "      <td>0.582948</td>\n",
       "      <td>0.999219</td>\n",
       "    </tr>\n",
       "    <tr>\n",
       "      <th>4</th>\n",
       "      <td>0.606742</td>\n",
       "      <td>0.998397</td>\n",
       "    </tr>\n",
       "  </tbody>\n",
       "</table>\n",
       "</div>"
      ],
      "text/plain": [
       "        acc  threshold\n",
       "0  0.543291   1.999991\n",
       "1  0.543952   0.999991\n",
       "2  0.581626   0.999247\n",
       "3  0.582948   0.999219\n",
       "4  0.606742   0.998397"
      ]
     },
     "execution_count": 15,
     "metadata": {},
     "output_type": "execute_result"
    }
   ],
   "source": [
    "# Inspecting the Accuracy wrt to the Thresholds\n",
    "acc_df.head()"
   ]
  },
  {
   "cell_type": "code",
   "execution_count": 79,
   "metadata": {},
   "outputs": [],
   "source": [
    "%matplotlib inline\n",
    "\n",
    "def plot_ROC(false_positive_rate, true_positive_rate):\n",
    "    plt.plot(false_positive_rate, true_positive_rate, color='blue', label='ROC')\n",
    "    plt.plot([0, 1], [0, 1], color='orange', linestyle='--')\n",
    "    plt.xlabel('False Positive Rate') #plt.set_xlabel('False Positive Rate')\n",
    "    plt.ylabel('True Positive Rate') #plt.set_ylabel('True Positive Rate')\n",
    "    plt.title('Receiver Operating Characteristics (ROC) Curve') #plt.set_title('Receiver Operating Characteristics (ROC) Curve')\n",
    "    plt.legend()\n",
    "    plt.show()"
   ]
  },
  {
   "cell_type": "code",
   "execution_count": null,
   "metadata": {},
   "outputs": [],
   "source": [
    "plot_ROC(false_pos_rate, true_pos_rate)"
   ]
  },
  {
   "cell_type": "markdown",
   "metadata": {},
   "source": [
    "<h4>Collating the Overall Model Performance wrt Different Values of the Classifier Threshold</h4>"
   ]
  },
  {
   "cell_type": "code",
   "execution_count": 35,
   "metadata": {},
   "outputs": [
    {
     "data": {
      "text/html": [
       "<div>\n",
       "<style scoped>\n",
       "    .dataframe tbody tr th:only-of-type {\n",
       "        vertical-align: middle;\n",
       "    }\n",
       "\n",
       "    .dataframe tbody tr th {\n",
       "        vertical-align: top;\n",
       "    }\n",
       "\n",
       "    .dataframe thead th {\n",
       "        text-align: right;\n",
       "    }\n",
       "</style>\n",
       "<table border=\"1\" class=\"dataframe\">\n",
       "  <thead>\n",
       "    <tr style=\"text-align: right;\">\n",
       "      <th></th>\n",
       "      <th>FPR</th>\n",
       "      <th>TPR</th>\n",
       "      <th>Threshold</th>\n",
       "      <th>acc</th>\n",
       "      <th>threshold</th>\n",
       "    </tr>\n",
       "  </thead>\n",
       "  <tbody>\n",
       "    <tr>\n",
       "      <th>0</th>\n",
       "      <td>0.0</td>\n",
       "      <td>0.000000</td>\n",
       "      <td>1.999991</td>\n",
       "      <td>0.543291</td>\n",
       "      <td>1.999991</td>\n",
       "    </tr>\n",
       "    <tr>\n",
       "      <th>1</th>\n",
       "      <td>0.0</td>\n",
       "      <td>0.001447</td>\n",
       "      <td>0.999991</td>\n",
       "      <td>0.543952</td>\n",
       "      <td>0.999991</td>\n",
       "    </tr>\n",
       "    <tr>\n",
       "      <th>2</th>\n",
       "      <td>0.0</td>\n",
       "      <td>0.083936</td>\n",
       "      <td>0.999247</td>\n",
       "      <td>0.581626</td>\n",
       "      <td>0.999247</td>\n",
       "    </tr>\n",
       "    <tr>\n",
       "      <th>3</th>\n",
       "      <td>0.0</td>\n",
       "      <td>0.086831</td>\n",
       "      <td>0.999219</td>\n",
       "      <td>0.582948</td>\n",
       "      <td>0.999219</td>\n",
       "    </tr>\n",
       "    <tr>\n",
       "      <th>4</th>\n",
       "      <td>0.0</td>\n",
       "      <td>0.138929</td>\n",
       "      <td>0.998397</td>\n",
       "      <td>0.606742</td>\n",
       "      <td>0.998397</td>\n",
       "    </tr>\n",
       "  </tbody>\n",
       "</table>\n",
       "</div>"
      ],
      "text/plain": [
       "   FPR       TPR  Threshold       acc  threshold\n",
       "0  0.0  0.000000   1.999991  0.543291   1.999991\n",
       "1  0.0  0.001447   0.999991  0.543952   0.999991\n",
       "2  0.0  0.083936   0.999247  0.581626   0.999247\n",
       "3  0.0  0.086831   0.999219  0.582948   0.999219\n",
       "4  0.0  0.138929   0.998397  0.606742   0.998397"
      ]
     },
     "execution_count": 35,
     "metadata": {},
     "output_type": "execute_result"
    }
   ],
   "source": [
    "class_metric_df = fpr_tpr_thresh_DF.merge(acc_df, left_on='Threshold', right_on='threshold', how=\"inner\")\n",
    "class_metric_df.head()"
   ]
  },
  {
   "cell_type": "code",
   "execution_count": 36,
   "metadata": {},
   "outputs": [
    {
     "data": {
      "text/html": [
       "<div>\n",
       "<style scoped>\n",
       "    .dataframe tbody tr th:only-of-type {\n",
       "        vertical-align: middle;\n",
       "    }\n",
       "\n",
       "    .dataframe tbody tr th {\n",
       "        vertical-align: top;\n",
       "    }\n",
       "\n",
       "    .dataframe thead th {\n",
       "        text-align: right;\n",
       "    }\n",
       "</style>\n",
       "<table border=\"1\" class=\"dataframe\">\n",
       "  <thead>\n",
       "    <tr style=\"text-align: right;\">\n",
       "      <th></th>\n",
       "      <th>FPR</th>\n",
       "      <th>TPR</th>\n",
       "      <th>Threshold</th>\n",
       "      <th>acc</th>\n",
       "      <th>threshold</th>\n",
       "    </tr>\n",
       "  </thead>\n",
       "  <tbody>\n",
       "    <tr>\n",
       "      <th>72</th>\n",
       "      <td>0.045012</td>\n",
       "      <td>0.929088</td>\n",
       "      <td>0.515965</td>\n",
       "      <td>0.943159</td>\n",
       "      <td>0.515965</td>\n",
       "    </tr>\n",
       "  </tbody>\n",
       "</table>\n",
       "</div>"
      ],
      "text/plain": [
       "         FPR       TPR  Threshold       acc  threshold\n",
       "72  0.045012  0.929088   0.515965  0.943159   0.515965"
      ]
     },
     "execution_count": 36,
     "metadata": {},
     "output_type": "execute_result"
    }
   ],
   "source": [
    "# Take the threshold which has the highest accuracy while maintaining min. FPR & max TPR \n",
    "class_metric_df[ class_metric_df.acc == max(class_metric_df.acc) ]"
   ]
  },
  {
   "cell_type": "code",
   "execution_count": 37,
   "metadata": {},
   "outputs": [
    {
     "data": {
      "text/html": [
       "<div>\n",
       "<style scoped>\n",
       "    .dataframe tbody tr th:only-of-type {\n",
       "        vertical-align: middle;\n",
       "    }\n",
       "\n",
       "    .dataframe tbody tr th {\n",
       "        vertical-align: top;\n",
       "    }\n",
       "\n",
       "    .dataframe thead th {\n",
       "        text-align: right;\n",
       "    }\n",
       "</style>\n",
       "<table border=\"1\" class=\"dataframe\">\n",
       "  <thead>\n",
       "    <tr style=\"text-align: right;\">\n",
       "      <th></th>\n",
       "      <th>FPR</th>\n",
       "      <th>TPR</th>\n",
       "      <th>Threshold</th>\n",
       "      <th>acc</th>\n",
       "      <th>threshold</th>\n",
       "    </tr>\n",
       "  </thead>\n",
       "  <tbody>\n",
       "    <tr>\n",
       "      <th>136</th>\n",
       "      <td>0.784672</td>\n",
       "      <td>1.0</td>\n",
       "      <td>0.000844</td>\n",
       "      <td>0.573695</td>\n",
       "      <td>0.000844</td>\n",
       "    </tr>\n",
       "    <tr>\n",
       "      <th>137</th>\n",
       "      <td>1.000000</td>\n",
       "      <td>1.0</td>\n",
       "      <td>0.000002</td>\n",
       "      <td>0.456709</td>\n",
       "      <td>0.000002</td>\n",
       "    </tr>\n",
       "  </tbody>\n",
       "</table>\n",
       "</div>"
      ],
      "text/plain": [
       "          FPR  TPR  Threshold       acc  threshold\n",
       "136  0.784672  1.0   0.000844  0.573695   0.000844\n",
       "137  1.000000  1.0   0.000002  0.456709   0.000002"
      ]
     },
     "execution_count": 37,
     "metadata": {},
     "output_type": "execute_result"
    }
   ],
   "source": [
    "# ust inspect the ROC values....\n",
    "class_metric_df[ class_metric_df.TPR == max(class_metric_df.TPR) ]"
   ]
  },
  {
   "cell_type": "code",
   "execution_count": 40,
   "metadata": {},
   "outputs": [
    {
     "data": {
      "text/html": [
       "<div>\n",
       "<style scoped>\n",
       "    .dataframe tbody tr th:only-of-type {\n",
       "        vertical-align: middle;\n",
       "    }\n",
       "\n",
       "    .dataframe tbody tr th {\n",
       "        vertical-align: top;\n",
       "    }\n",
       "\n",
       "    .dataframe thead th {\n",
       "        text-align: right;\n",
       "    }\n",
       "</style>\n",
       "<table border=\"1\" class=\"dataframe\">\n",
       "  <thead>\n",
       "    <tr style=\"text-align: right;\">\n",
       "      <th></th>\n",
       "      <th>y_truth</th>\n",
       "      <th>y_predict</th>\n",
       "      <th>y_thresh_predict</th>\n",
       "    </tr>\n",
       "  </thead>\n",
       "  <tbody>\n",
       "    <tr>\n",
       "      <th>0</th>\n",
       "      <td>1.0</td>\n",
       "      <td>0.932877</td>\n",
       "      <td>1.0</td>\n",
       "    </tr>\n",
       "    <tr>\n",
       "      <th>1</th>\n",
       "      <td>1.0</td>\n",
       "      <td>0.927833</td>\n",
       "      <td>1.0</td>\n",
       "    </tr>\n",
       "    <tr>\n",
       "      <th>2</th>\n",
       "      <td>1.0</td>\n",
       "      <td>0.997869</td>\n",
       "      <td>1.0</td>\n",
       "    </tr>\n",
       "    <tr>\n",
       "      <th>3</th>\n",
       "      <td>0.0</td>\n",
       "      <td>0.111808</td>\n",
       "      <td>0.0</td>\n",
       "    </tr>\n",
       "    <tr>\n",
       "      <th>4</th>\n",
       "      <td>0.0</td>\n",
       "      <td>0.000024</td>\n",
       "      <td>0.0</td>\n",
       "    </tr>\n",
       "  </tbody>\n",
       "</table>\n",
       "</div>"
      ],
      "text/plain": [
       "   y_truth  y_predict  y_thresh_predict\n",
       "0      1.0   0.932877               1.0\n",
       "1      1.0   0.927833               1.0\n",
       "2      1.0   0.997869               1.0\n",
       "3      0.0   0.111808               0.0\n",
       "4      0.0   0.000024               0.0"
      ]
     },
     "execution_count": 40,
     "metadata": {},
     "output_type": "execute_result"
    }
   ],
   "source": [
    "# applying the found threshold on the base_model predictions\n",
    "thresh = 0.51\n",
    "base_pred_df['y_thresh_predict'] = base_pred_df.y_predict.apply(lambda p: 1.0 if p > thresh else 0.0)\n",
    "base_pred_df.head()"
   ]
  },
  {
   "cell_type": "markdown",
   "metadata": {},
   "source": [
    "<h4>Accuracy of the Model with the finalized Classification Threshold </h4>"
   ]
  },
  {
   "cell_type": "code",
   "execution_count": 41,
   "metadata": {},
   "outputs": [
    {
     "name": "stdout",
     "output_type": "stream",
     "text": [
      "ROC-AUC Score for the Base-model predictions:  0.9420380562040275\n"
     ]
    }
   ],
   "source": [
    "# Inspect the Accuracy...\n",
    "print('ROC-AUC Score for the Base-model predictions: ', roc_auc_score(base_pred_df.y_truth.to_list(), base_pred_df.y_thresh_predict.to_list()))"
   ]
  },
  {
   "cell_type": "markdown",
   "metadata": {},
   "source": [
    "<h4>Visualizing the Confusion Matrix of the Baseline Model</h4>"
   ]
  },
  {
   "cell_type": "code",
   "execution_count": 45,
   "metadata": {},
   "outputs": [
    {
     "data": {
      "text/plain": [
       "array([[785,  37],\n",
       "       [ 49, 642]], dtype=int64)"
      ]
     },
     "execution_count": 45,
     "metadata": {},
     "output_type": "execute_result"
    }
   ],
   "source": [
    "c_matrix = confusion_matrix(base_pred_df.y_truth.to_list(), base_pred_df.y_thresh_predict.to_list())\n",
    "c_matrix"
   ]
  },
  {
   "cell_type": "code",
   "execution_count": 46,
   "metadata": {},
   "outputs": [
    {
     "name": "stdout",
     "output_type": "stream",
     "text": [
      "True Positives: 642 | True Negatives: 785 | False Negatives: 49 | False Positives: 37\n"
     ]
    }
   ],
   "source": [
    "\"\"\"\n",
    "Both 'True Positive' & 'True Negative' are desirable metrics:\n",
    "\n",
    "    True Positives -> A positive class correctly predicted as positive (here say class label 1.0)\n",
    "    True Negatives -> A negative class correctly predicted as negative (here say class label 0.0)\n",
    "\n",
    "\n",
    "    False Positives -> Incorrectly labeled as a positive class\n",
    "    False Negatives -> Incorrectly labeled as a negative class\n",
    "\n",
    "\"\"\"\n",
    "print(\"True Positives: {} | True Negatives: {} | False Negatives: {} | False Positives: {}\".format(c_matrix[1][1],\n",
    "                                                                                                   c_matrix[0][0],\n",
    "                                                                                                   c_matrix[1][0],\n",
    "                                                                                                   c_matrix[0][1]\n",
    "                                                                                                  )\n",
    "     )"
   ]
  },
  {
   "cell_type": "markdown",
   "metadata": {},
   "source": [
    "\n",
    "The baseline model has correctly classified <b>1427</b> instances out of <b>1513</b> elements in the dataset. However, there's quite a bit of False Positive's & Negative's - the Refined Model will be built to limit these instances of mis-classification.\n",
    "\n",
    "<hr style=\"border: 3px red double;\"></hr>\n",
    "<h3>Building a refined Model & Evaluting its Performance</h3>\n",
    "\n",
    "Before instantiating the refined model, we need to figure out a <b>Learning-Rate Scheduler</b> which decays the learning-rate over successive epochs."
   ]
  },
  {
   "cell_type": "code",
   "execution_count": 8,
   "metadata": {},
   "outputs": [
    {
     "data": {
      "text/plain": [
       "baceModel(\n",
       "  (in_conv): GCNConv(9, 128)\n",
       "  (conv1): GATv2Conv(128, 128, heads=4)\n",
       "  (lin1): Linear(in_features=512, out_features=128, bias=True)\n",
       "  (conv2): TransformerConv(128, 128, heads=2)\n",
       "  (lin2): Linear(in_features=256, out_features=128, bias=True)\n",
       "  (g_norm): GraphNorm(128)\n",
       "  (pool): TopKPooling(128, ratio=0.4, multiplier=1.0)\n",
       "  (conv3): GATv2Conv(128, 128, heads=2)\n",
       "  (lin3): Linear(in_features=256, out_features=128, bias=True)\n",
       "  (pool2): TopKPooling(128, ratio=0.4, multiplier=1.0)\n",
       "  (out): Linear(in_features=384, out_features=1, bias=True)\n",
       ")"
      ]
     },
     "metadata": {},
     "output_type": "display_data"
    },
    {
     "name": "stdout",
     "output_type": "stream",
     "text": [
      "Number of Model Parameters:  466305\n"
     ]
    }
   ],
   "source": [
    "# instantiate the Model\n",
    "emb_size = 128 # Embedding size for each Graph NN layer\n",
    "\n",
    "# Instantiating the Base Model\n",
    "model = baceModel(data.num_features, emb_size)\n",
    "\n",
    "device = torch.device(\"cuda:0\" if torch.cuda.is_available() else \"cpu\")\n",
    "model = model.to(device)\n",
    "display(model)\n",
    "\n",
    "# summarize the model\n",
    "print(\"Number of Model Parameters: \", sum(p.numel() for p in model.parameters()))"
   ]
  },
  {
   "cell_type": "markdown",
   "metadata": {},
   "source": [
    "The refined-model has more number of parameters than the original Baseline Model.\n",
    "<br>\n",
    "\n",
    "<b>Figuring out the decay-rate for diminishing the <em>'learning-rate'</em> as progressing over successive iterations.</b>"
   ]
  },
  {
   "cell_type": "code",
   "execution_count": 9,
   "metadata": {},
   "outputs": [
    {
     "data": {
      "text/plain": [
       "<matplotlib.axes._subplots.AxesSubplot at 0x26d2b847708>"
      ]
     },
     "execution_count": 9,
     "metadata": {},
     "output_type": "execute_result"
    },
    {
     "data": {
      "image/png": "[encoded data removed]",
      "text/plain": [
       "<Figure size 432x288 with 1 Axes>"
      ]
     },
     "metadata": {
      "needs_background": "light"
     },
     "output_type": "display_data"
    }
   ],
   "source": [
    "%matplotlib inline\n",
    "\n",
    "lrs = []\n",
    "initLR = 0.0002\n",
    "\n",
    "for epo in range(5000):\n",
    "    lrs.append(initLR*(np.e**(-epo/7500))) \n",
    "\n",
    "# plot the learning rate value over successive epochs as it decays over training iterations\n",
    "pd.DataFrame({'lrs' : lrs}).plot()"
   ]
  },
  {
   "cell_type": "markdown",
   "metadata": {},
   "source": [
    "<h3>Compile & Train the Model</h3>"
   ]
  },
  {
   "cell_type": "code",
   "execution_count": 10,
   "metadata": {},
   "outputs": [
    {
     "name": "stderr",
     "output_type": "stream",
     "text": [
      "C:\\Users\\palin\\Anaconda3\\lib\\site-packages\\torch_geometric\\deprecation.py:12: UserWarning: 'data.DataLoader' is deprecated, use 'loader.DataLoader' instead\n",
      "  warnings.warn(out)\n"
     ]
    }
   ],
   "source": [
    "# Orgainize the train & test data loaders\n",
    "batch_size = 64\n",
    "train_data_loader = DataLoader(train_data, batch_size=batch_size, shuffle=True)\n",
    "\n",
    "test_data_loader = DataLoader(test_data, batch_size=batch_size, shuffle=True)\n",
    "\n",
    "loss_function = torch.nn.BCEWithLogitsLoss()\n",
    "optimizer = torch.optim.Adam(model.parameters(), lr=0.0002)\n",
    "\n",
    "decay_const = 7500\n",
    "lr_schedule = lambda epoch: (np.e)**(-epoch/decay_const)\n",
    "\n",
    "scehdule_lr = torch.optim.lr_scheduler.LambdaLR(optimizer, lr_lambda=lr_schedule)\n",
    "\n",
    "def model_train(train_data_loader=train_data_loader, model=model):    \n",
    "    \n",
    "    for batch_data in train_data_loader:\n",
    "        \n",
    "        batch_data = batch_data.to(device)\n",
    "        optimizer.zero_grad()\n",
    "        prediction, embedding = model(batch_data.x.float(), batch_data.edge_index, batch_data.batch)\n",
    "        loss_val = loss_function(prediction, batch_data.y)\n",
    "        loss_val.backward()\n",
    "        optimizer.step()\n",
    "        \n",
    "    return loss_val, embedding"
   ]
  },
  {
   "cell_type": "code",
   "execution_count": 47,
   "metadata": {},
   "outputs": [
    {
     "name": "stderr",
     "output_type": "stream",
     "text": [
      "C:\\Users\\palin\\Anaconda3\\lib\\site-packages\\torch\\nn\\functional.py:1795: UserWarning: nn.functional.tanh is deprecated. Use torch.tanh instead.\n",
      "  warnings.warn(\"nn.functional.tanh is deprecated. Use torch.tanh instead.\")\n"
     ]
    },
    {
     "name": "stdout",
     "output_type": "stream",
     "text": [
      "Completed Epochs: 0 -> Loss: 0.05521010607481003 | elapsed seconds : 1.0630342960357666 s\n",
      "Completed Epochs: 50 -> Loss: 0.016507653519511223 | elapsed seconds : 43.38688039779663 s\n",
      "Completed Epochs: 100 -> Loss: 0.07196535915136337 | elapsed seconds : 84.80636024475098 s\n",
      "Completed Epochs: 150 -> Loss: 0.06515420973300934 | elapsed seconds : 137.92279601097107 s\n",
      "Completed Epochs: 200 -> Loss: 0.05490480735898018 | elapsed seconds : 209.16932272911072 s\n",
      "Completed Epochs: 250 -> Loss: 0.02881472371518612 | elapsed seconds : 279.7771317958832 s\n",
      "Completed Epochs: 300 -> Loss: 0.03346279636025429 | elapsed seconds : 365.2055344581604 s\n",
      "Completed Epochs: 350 -> Loss: 0.04596180096268654 | elapsed seconds : 443.9872407913208 s\n",
      "Completed Epochs: 400 -> Loss: 0.05149246007204056 | elapsed seconds : 517.5904870033264 s\n",
      "Completed Epochs: 450 -> Loss: 0.06280762702226639 | elapsed seconds : 595.7142853736877 s\n",
      "Completed Epochs: 500 -> Loss: 0.03569909557700157 | elapsed seconds : 656.8047087192535 s\n",
      "Completed Epochs: 550 -> Loss: 0.07516804337501526 | elapsed seconds : 733.1540966033936 s\n",
      "Completed Epochs: 600 -> Loss: 0.019502991810441017 | elapsed seconds : 816.7374413013458 s\n",
      "Completed Epochs: 650 -> Loss: 0.05166036635637283 | elapsed seconds : 901.3508729934692 s\n",
      "Completed Epochs: 700 -> Loss: 0.04534314200282097 | elapsed seconds : 972.9620695114136 s\n",
      "Completed Epochs: 750 -> Loss: 0.06908115744590759 | elapsed seconds : 1033.7677705287933 s\n",
      "Completed Epochs: 800 -> Loss: 0.05596497654914856 | elapsed seconds : 1104.7478618621826 s\n",
      "Completed Epochs: 850 -> Loss: 0.055781036615371704 | elapsed seconds : 1165.6584091186523 s\n",
      "Completed Epochs: 900 -> Loss: 0.03471052646636963 | elapsed seconds : 1238.750232219696 s\n",
      "Completed Epochs: 950 -> Loss: 0.01831742748618126 | elapsed seconds : 1312.9901025295258 s\n"
     ]
    }
   ],
   "source": [
    "import time\n",
    "epochs = 1000 #3000\n",
    "#hist_loss = []\n",
    "\n",
    "optimizer = torch.optim.Adam(model.parameters(), lr=0.00001)\n",
    "\n",
    "t1 = time.time()\n",
    "for epoch in range(epochs):\n",
    "    \n",
    "    loss, h = model_train(train_data_loader, model)\n",
    "    hist_loss.append(loss)\n",
    "    \n",
    "    if epoch%50 == 0:\n",
    "        t2 = time.time()\n",
    "        print(\"Completed Epochs: {} -> Loss: {} | elapsed seconds : {} s\".format(epoch, loss, t2 - t1))\n",
    "        \n",
    "    \n",
    "    scehdule_lr.step()"
   ]
  },
  {
   "cell_type": "code",
   "execution_count": 81,
   "metadata": {},
   "outputs": [
    {
     "data": {
      "text/plain": [
       "6000"
      ]
     },
     "execution_count": 81,
     "metadata": {},
     "output_type": "execute_result"
    }
   ],
   "source": [
    "# model = torch.load('./models/BACE_beta_Model_v2.0.pth')\n",
    "# tmp_hist_loss = hist_loss\n",
    "# display(len(hist_loss))\n",
    "# del hist_loss[-1000:]\n",
    "len(hist_loss)"
   ]
  },
  {
   "cell_type": "markdown",
   "metadata": {},
   "source": [
    "<h4>Plot the Train-stats of the refined-model</h4>"
   ]
  },
  {
   "cell_type": "code",
   "execution_count": 48,
   "metadata": {},
   "outputs": [
    {
     "data": {
      "text/plain": [
       "<matplotlib.axes._subplots.AxesSubplot at 0x26d6c179608>"
      ]
     },
     "execution_count": 48,
     "metadata": {},
     "output_type": "execute_result"
    },
    {
     "data": {
      "image/png": "[encoded data removed]",
      "text/plain": [
       "<Figure size 432x288 with 1 Axes>"
      ]
     },
     "metadata": {
      "needs_background": "light"
     },
     "output_type": "display_data"
    }
   ],
   "source": [
    "%matplotlib inline\n",
    "\n",
    "# Baseline Model was trained at 7500 epochs - visualizing only the last 2500 epochs\n",
    "hist_losses = [float(loss.cpu().detach().numpy()) for loss in hist_loss[:]]\n",
    "loss_index = [i for i in range(len(hist_losses))]\n",
    "\n",
    "plt = sns.lineplot(loss_index, hist_losses)\n",
    "plt"
   ]
  },
  {
   "cell_type": "markdown",
   "metadata": {},
   "source": [
    "<h4>Store the Trained Model</h4>"
   ]
  },
  {
   "cell_type": "code",
   "execution_count": 52,
   "metadata": {},
   "outputs": [],
   "source": [
    "# torch.save(model, './models/BACE_Model.pth')\n",
    "# torch.save(model, './models/BACE_beta_Model_v1.0.pth')\n",
    "# torch.save(model, './models/BACE_beta_Model_v2.0.pth')\n",
    "torch.save(model, './models/BACE_beta_Model_v3.0.pth')"
   ]
  },
  {
   "cell_type": "markdown",
   "metadata": {},
   "source": [
    "<h3>Evaluate the performance of the Refined-Model</h3>\n",
    "\n",
    "In this section, we'll be first evaluating the performance of the refined model on the <b><em>'train'</em> dataset and obtain the corresponding classification threshold from the ROC-AUC details from this portion of the (<em>'train'</em>) dataset.</b>"
   ]
  },
  {
   "cell_type": "code",
   "execution_count": 85,
   "metadata": {},
   "outputs": [],
   "source": [
    "def data_eval(data_loader, model, device=torch.device(\"cuda:0\" if torch.cuda.is_available() else \"cpu\"), batch_size=64):\n",
    "    \n",
    "    model.eval()\n",
    "    df = {'y_truth': [], 'y_predict': []}\n",
    "    \n",
    "    with torch.no_grad():\n",
    "        for data_batch in data_loader:\n",
    "            data_batch = data_batch.to(device)\n",
    "            prediction, embedding = model(data_batch.x.float(), data_batch.edge_index, data_batch.batch)\n",
    "            \n",
    "            # Take the Sigmoid of the output predictions\n",
    "            prediction = F.sigmoid(prediction)\n",
    "            \n",
    "            df['y_truth']+= data_batch.y.tolist()\n",
    "            df['y_predict']+= prediction.tolist()\n",
    "    \n",
    "    df = pd.DataFrame(df)\n",
    "    df['y_truth'] = df['y_truth'].apply(lambda row: row[0])\n",
    "    df['y_predict'] = df['y_predict'].apply(lambda row: row[0])\n",
    "    \n",
    "    return df"
   ]
  },
  {
   "cell_type": "markdown",
   "metadata": {},
   "source": [
    "<h4>Obtain the ROC-AUC Score of the classification model</h4>\n",
    "\n",
    "Evaluate the <em>ROC-AUC</em> on the 'train' dataset"
   ]
  },
  {
   "cell_type": "code",
   "execution_count": 88,
   "metadata": {},
   "outputs": [
    {
     "name": "stdout",
     "output_type": "stream",
     "text": [
      "ROC-AUC_SCORE of the model on the TRAIN dataset is :  0.99905517578125\n"
     ]
    }
   ],
   "source": [
    "train_preds = data_eval(train_data_loader, model)\n",
    "\n",
    "train_auc_score = roc_auc_score(train_preds.y_truth.to_list(), train_preds.y_predict.to_list())\n",
    "print(\"ROC-AUC_SCORE of the model on the TRAIN dataset is : \", train_auc_score)"
   ]
  },
  {
   "cell_type": "markdown",
   "metadata": {},
   "source": [
    "Evaluate the <em>ROC-AUC</em> on the 'test' dataset"
   ]
  },
  {
   "cell_type": "code",
   "execution_count": 90,
   "metadata": {},
   "outputs": [
    {
     "name": "stdout",
     "output_type": "stream",
     "text": [
      "ROC-AUC_SCORE of the model on the TEST dataset is :  0.8745959922430511\n"
     ]
    }
   ],
   "source": [
    "test_preds = data_eval(test_data_loader, model)\n",
    "\n",
    "test_auc_score = roc_auc_score(test_preds.y_truth.to_list(), test_preds.y_predict.to_list())\n",
    "print(\"ROC-AUC_SCORE of the model on the TEST dataset is : \", test_auc_score)"
   ]
  },
  {
   "cell_type": "markdown",
   "metadata": {},
   "source": [
    "The refined model seems to have overfit quite a bit."
   ]
  },
  {
   "cell_type": "code",
   "execution_count": 96,
   "metadata": {},
   "outputs": [
    {
     "data": {
      "text/html": [
       "<div>\n",
       "<style scoped>\n",
       "    .dataframe tbody tr th:only-of-type {\n",
       "        vertical-align: middle;\n",
       "    }\n",
       "\n",
       "    .dataframe tbody tr th {\n",
       "        vertical-align: top;\n",
       "    }\n",
       "\n",
       "    .dataframe thead th {\n",
       "        text-align: right;\n",
       "    }\n",
       "</style>\n",
       "<table border=\"1\" class=\"dataframe\">\n",
       "  <thead>\n",
       "    <tr style=\"text-align: right;\">\n",
       "      <th></th>\n",
       "      <th>FPR</th>\n",
       "      <th>TPR</th>\n",
       "      <th>Threshold</th>\n",
       "    </tr>\n",
       "  </thead>\n",
       "  <tbody>\n",
       "    <tr>\n",
       "      <th>0</th>\n",
       "      <td>0.0</td>\n",
       "      <td>0.000000</td>\n",
       "      <td>2.0</td>\n",
       "    </tr>\n",
       "    <tr>\n",
       "      <th>1</th>\n",
       "      <td>0.0</td>\n",
       "      <td>0.051562</td>\n",
       "      <td>1.0</td>\n",
       "    </tr>\n",
       "    <tr>\n",
       "      <th>2</th>\n",
       "      <td>0.0</td>\n",
       "      <td>0.073438</td>\n",
       "      <td>1.0</td>\n",
       "    </tr>\n",
       "    <tr>\n",
       "      <th>3</th>\n",
       "      <td>0.0</td>\n",
       "      <td>0.082812</td>\n",
       "      <td>1.0</td>\n",
       "    </tr>\n",
       "    <tr>\n",
       "      <th>4</th>\n",
       "      <td>0.0</td>\n",
       "      <td>0.098437</td>\n",
       "      <td>1.0</td>\n",
       "    </tr>\n",
       "  </tbody>\n",
       "</table>\n",
       "</div>"
      ],
      "text/plain": [
       "   FPR       TPR  Threshold\n",
       "0  0.0  0.000000        2.0\n",
       "1  0.0  0.051562        1.0\n",
       "2  0.0  0.073438        1.0\n",
       "3  0.0  0.082812        1.0\n",
       "4  0.0  0.098437        1.0"
      ]
     },
     "execution_count": 96,
     "metadata": {},
     "output_type": "execute_result"
    }
   ],
   "source": [
    "# obtain the thresholds for each of the ROC-curves to be generated with their corresponding FPR, TPR\n",
    "train_false_pos_rate, train_true_pos_rate, train_thresholds = roc_curve(train_preds.y_truth.to_list(), train_preds.y_predict.to_list())\n",
    "\n",
    "acc_th = {'acc': [], 'threshold': []}\n",
    "\n",
    "for th in thresholds:\n",
    "    ground_truth = train_preds.y_truth.to_list()\n",
    "    predicted_val = train_preds.y_predict.to_list()\n",
    "    predicted_val = [ 1.0 if th <= pred else 0.0 for pred in predicted_val ]\n",
    "    \n",
    "    acc_th['acc'].append( accuracy_score(ground_truth, predicted_val) )\n",
    "    acc_th['threshold'].append( th )\n",
    "    \n",
    "train_acc_df = pd.DataFrame(acc_th)\n",
    "\n",
    "# Having a threshold of 0.571743 seems to be an ideal value by keeping in mind the FPR & TPR\n",
    "# Corresponding value of TPR & FPR ->\n",
    "fpr_tpr_thresh_DF = pd.DataFrame({'FPR': train_false_pos_rate, 'TPR': train_true_pos_rate, 'Threshold': train_thresholds})\n",
    "fpr_tpr_thresh_DF.head()"
   ]
  },
  {
   "cell_type": "markdown",
   "metadata": {},
   "source": [
    "<h4>Obtain the ROC curve from the 'train' dataset</h4>"
   ]
  },
  {
   "cell_type": "code",
   "execution_count": 97,
   "metadata": {},
   "outputs": [
    {
     "data": {
      "image/png": "[encoded data removed]",
      "text/plain": [
       "<Figure size 432x288 with 1 Axes>"
      ]
     },
     "metadata": {
      "needs_background": "light"
     },
     "output_type": "display_data"
    }
   ],
   "source": [
    "%matplotlib inline\n",
    "\n",
    "plot_ROC(train_false_pos_rate, train_true_pos_rate)"
   ]
  },
  {
   "cell_type": "markdown",
   "metadata": {},
   "source": [
    "<h3>Inspecting & Isolating appropriate Classification Threshold values</h3"
   ]
  },
  {
   "cell_type": "code",
   "execution_count": 95,
   "metadata": {},
   "outputs": [
    {
     "data": {
      "text/html": [
       "<div>\n",
       "<style scoped>\n",
       "    .dataframe tbody tr th:only-of-type {\n",
       "        vertical-align: middle;\n",
       "    }\n",
       "\n",
       "    .dataframe tbody tr th {\n",
       "        vertical-align: top;\n",
       "    }\n",
       "\n",
       "    .dataframe thead th {\n",
       "        text-align: right;\n",
       "    }\n",
       "</style>\n",
       "<table border=\"1\" class=\"dataframe\">\n",
       "  <thead>\n",
       "    <tr style=\"text-align: right;\">\n",
       "      <th></th>\n",
       "      <th>FPR</th>\n",
       "      <th>TPR</th>\n",
       "      <th>Threshold</th>\n",
       "    </tr>\n",
       "  </thead>\n",
       "  <tbody>\n",
       "    <tr>\n",
       "      <th>0</th>\n",
       "      <td>0.0</td>\n",
       "      <td>0.000000</td>\n",
       "      <td>2.0</td>\n",
       "    </tr>\n",
       "    <tr>\n",
       "      <th>1</th>\n",
       "      <td>0.0</td>\n",
       "      <td>0.051562</td>\n",
       "      <td>1.0</td>\n",
       "    </tr>\n",
       "    <tr>\n",
       "      <th>2</th>\n",
       "      <td>0.0</td>\n",
       "      <td>0.073438</td>\n",
       "      <td>1.0</td>\n",
       "    </tr>\n",
       "    <tr>\n",
       "      <th>3</th>\n",
       "      <td>0.0</td>\n",
       "      <td>0.082812</td>\n",
       "      <td>1.0</td>\n",
       "    </tr>\n",
       "    <tr>\n",
       "      <th>4</th>\n",
       "      <td>0.0</td>\n",
       "      <td>0.098437</td>\n",
       "      <td>1.0</td>\n",
       "    </tr>\n",
       "  </tbody>\n",
       "</table>\n",
       "</div>"
      ],
      "text/plain": [
       "   FPR       TPR  Threshold\n",
       "0  0.0  0.000000        2.0\n",
       "1  0.0  0.051562        1.0\n",
       "2  0.0  0.073438        1.0\n",
       "3  0.0  0.082812        1.0\n",
       "4  0.0  0.098437        1.0"
      ]
     },
     "execution_count": 95,
     "metadata": {},
     "output_type": "execute_result"
    }
   ],
   "source": [
    "# Having a threshold of 0.571743 seems to be an ideal value by keeping in mind the FPR & TPR\n",
    "# Corresponding value of TPR & FPR ->\n",
    "train_fpr_tpr_thresh_DF = pd.DataFrame({'FPR': train_false_pos_rate, 'TPR': train_true_pos_rate,\n",
    "                                        'Threshold': train_thresholds\n",
    "                                       }\n",
    "                                      )\n",
    "train_fpr_tpr_thresh_DF.head()"
   ]
  },
  {
   "cell_type": "code",
   "execution_count": 98,
   "metadata": {},
   "outputs": [
    {
     "data": {
      "text/html": [
       "<div>\n",
       "<style scoped>\n",
       "    .dataframe tbody tr th:only-of-type {\n",
       "        vertical-align: middle;\n",
       "    }\n",
       "\n",
       "    .dataframe tbody tr th {\n",
       "        vertical-align: top;\n",
       "    }\n",
       "\n",
       "    .dataframe thead th {\n",
       "        text-align: right;\n",
       "    }\n",
       "</style>\n",
       "<table border=\"1\" class=\"dataframe\">\n",
       "  <thead>\n",
       "    <tr style=\"text-align: right;\">\n",
       "      <th></th>\n",
       "      <th>FPR</th>\n",
       "      <th>TPR</th>\n",
       "      <th>Threshold</th>\n",
       "      <th>acc</th>\n",
       "      <th>threshold</th>\n",
       "    </tr>\n",
       "  </thead>\n",
       "  <tbody>\n",
       "    <tr>\n",
       "      <th>0</th>\n",
       "      <td>0.0</td>\n",
       "      <td>0.000000</td>\n",
       "      <td>2.0</td>\n",
       "      <td>0.500000</td>\n",
       "      <td>2.0</td>\n",
       "    </tr>\n",
       "    <tr>\n",
       "      <th>1</th>\n",
       "      <td>0.0</td>\n",
       "      <td>0.051562</td>\n",
       "      <td>1.0</td>\n",
       "      <td>0.525781</td>\n",
       "      <td>1.0</td>\n",
       "    </tr>\n",
       "    <tr>\n",
       "      <th>2</th>\n",
       "      <td>0.0</td>\n",
       "      <td>0.073438</td>\n",
       "      <td>1.0</td>\n",
       "      <td>0.536719</td>\n",
       "      <td>1.0</td>\n",
       "    </tr>\n",
       "    <tr>\n",
       "      <th>3</th>\n",
       "      <td>0.0</td>\n",
       "      <td>0.082812</td>\n",
       "      <td>1.0</td>\n",
       "      <td>0.541406</td>\n",
       "      <td>1.0</td>\n",
       "    </tr>\n",
       "    <tr>\n",
       "      <th>4</th>\n",
       "      <td>0.0</td>\n",
       "      <td>0.098437</td>\n",
       "      <td>1.0</td>\n",
       "      <td>0.549219</td>\n",
       "      <td>1.0</td>\n",
       "    </tr>\n",
       "  </tbody>\n",
       "</table>\n",
       "</div>"
      ],
      "text/plain": [
       "   FPR       TPR  Threshold       acc  threshold\n",
       "0  0.0  0.000000        2.0  0.500000        2.0\n",
       "1  0.0  0.051562        1.0  0.525781        1.0\n",
       "2  0.0  0.073438        1.0  0.536719        1.0\n",
       "3  0.0  0.082812        1.0  0.541406        1.0\n",
       "4  0.0  0.098437        1.0  0.549219        1.0"
      ]
     },
     "execution_count": 98,
     "metadata": {},
     "output_type": "execute_result"
    }
   ],
   "source": [
    "train_class_metric_df = train_fpr_tpr_thresh_DF.merge(train_acc_df, left_on='Threshold', right_on='threshold', how=\"inner\")\n",
    "train_class_metric_df.head()"
   ]
  },
  {
   "cell_type": "code",
   "execution_count": 108,
   "metadata": {
    "scrolled": true
   },
   "outputs": [
    {
     "data": {
      "text/html": [
       "<div>\n",
       "<style scoped>\n",
       "    .dataframe tbody tr th:only-of-type {\n",
       "        vertical-align: middle;\n",
       "    }\n",
       "\n",
       "    .dataframe tbody tr th {\n",
       "        vertical-align: top;\n",
       "    }\n",
       "\n",
       "    .dataframe thead th {\n",
       "        text-align: right;\n",
       "    }\n",
       "</style>\n",
       "<table border=\"1\" class=\"dataframe\">\n",
       "  <thead>\n",
       "    <tr style=\"text-align: right;\">\n",
       "      <th></th>\n",
       "      <th>FPR</th>\n",
       "      <th>TPR</th>\n",
       "      <th>Threshold</th>\n",
       "      <th>acc</th>\n",
       "      <th>threshold</th>\n",
       "    </tr>\n",
       "  </thead>\n",
       "  <tbody>\n",
       "    <tr>\n",
       "      <th>126</th>\n",
       "      <td>1.000000</td>\n",
       "      <td>1.000000</td>\n",
       "      <td>1.520089e-13</td>\n",
       "      <td>0.500000</td>\n",
       "      <td>1.520089e-13</td>\n",
       "    </tr>\n",
       "    <tr>\n",
       "      <th>125</th>\n",
       "      <td>0.575000</td>\n",
       "      <td>1.000000</td>\n",
       "      <td>4.771417e-05</td>\n",
       "      <td>0.712500</td>\n",
       "      <td>4.771417e-05</td>\n",
       "    </tr>\n",
       "    <tr>\n",
       "      <th>124</th>\n",
       "      <td>0.571875</td>\n",
       "      <td>1.000000</td>\n",
       "      <td>5.016645e-05</td>\n",
       "      <td>0.714063</td>\n",
       "      <td>5.016645e-05</td>\n",
       "    </tr>\n",
       "    <tr>\n",
       "      <th>123</th>\n",
       "      <td>0.543750</td>\n",
       "      <td>1.000000</td>\n",
       "      <td>6.735347e-05</td>\n",
       "      <td>0.728125</td>\n",
       "      <td>6.735347e-05</td>\n",
       "    </tr>\n",
       "    <tr>\n",
       "      <th>122</th>\n",
       "      <td>0.540625</td>\n",
       "      <td>1.000000</td>\n",
       "      <td>6.782624e-05</td>\n",
       "      <td>0.729688</td>\n",
       "      <td>6.782624e-05</td>\n",
       "    </tr>\n",
       "    <tr>\n",
       "      <th>121</th>\n",
       "      <td>0.185938</td>\n",
       "      <td>1.000000</td>\n",
       "      <td>4.936322e-03</td>\n",
       "      <td>0.907031</td>\n",
       "      <td>4.936322e-03</td>\n",
       "    </tr>\n",
       "    <tr>\n",
       "      <th>120</th>\n",
       "      <td>0.182812</td>\n",
       "      <td>1.000000</td>\n",
       "      <td>5.217905e-03</td>\n",
       "      <td>0.908594</td>\n",
       "      <td>5.217905e-03</td>\n",
       "    </tr>\n",
       "    <tr>\n",
       "      <th>119</th>\n",
       "      <td>0.064062</td>\n",
       "      <td>1.000000</td>\n",
       "      <td>1.293892e-01</td>\n",
       "      <td>0.967969</td>\n",
       "      <td>1.293892e-01</td>\n",
       "    </tr>\n",
       "    <tr>\n",
       "      <th>118</th>\n",
       "      <td>0.064062</td>\n",
       "      <td>0.998437</td>\n",
       "      <td>1.293892e-01</td>\n",
       "      <td>0.967187</td>\n",
       "      <td>1.293892e-01</td>\n",
       "    </tr>\n",
       "    <tr>\n",
       "      <th>117</th>\n",
       "      <td>0.056250</td>\n",
       "      <td>0.998437</td>\n",
       "      <td>1.658733e-01</td>\n",
       "      <td>0.971094</td>\n",
       "      <td>1.658733e-01</td>\n",
       "    </tr>\n",
       "    <tr>\n",
       "      <th>116</th>\n",
       "      <td>0.056250</td>\n",
       "      <td>0.996875</td>\n",
       "      <td>1.668535e-01</td>\n",
       "      <td>0.970313</td>\n",
       "      <td>1.668535e-01</td>\n",
       "    </tr>\n",
       "    <tr>\n",
       "      <th>115</th>\n",
       "      <td>0.053125</td>\n",
       "      <td>0.996875</td>\n",
       "      <td>1.824541e-01</td>\n",
       "      <td>0.971875</td>\n",
       "      <td>1.824541e-01</td>\n",
       "    </tr>\n",
       "    <tr>\n",
       "      <th>114</th>\n",
       "      <td>0.053125</td>\n",
       "      <td>0.995313</td>\n",
       "      <td>1.888513e-01</td>\n",
       "      <td>0.971094</td>\n",
       "      <td>1.888513e-01</td>\n",
       "    </tr>\n",
       "    <tr>\n",
       "      <th>113</th>\n",
       "      <td>0.046875</td>\n",
       "      <td>0.995313</td>\n",
       "      <td>2.012764e-01</td>\n",
       "      <td>0.974219</td>\n",
       "      <td>2.012764e-01</td>\n",
       "    </tr>\n",
       "    <tr>\n",
       "      <th>111</th>\n",
       "      <td>0.035937</td>\n",
       "      <td>0.993750</td>\n",
       "      <td>2.967494e-01</td>\n",
       "      <td>0.978906</td>\n",
       "      <td>2.967494e-01</td>\n",
       "    </tr>\n",
       "    <tr>\n",
       "      <th>112</th>\n",
       "      <td>0.046875</td>\n",
       "      <td>0.993750</td>\n",
       "      <td>2.056181e-01</td>\n",
       "      <td>0.973437</td>\n",
       "      <td>2.056181e-01</td>\n",
       "    </tr>\n",
       "    <tr>\n",
       "      <th>110</th>\n",
       "      <td>0.035937</td>\n",
       "      <td>0.989062</td>\n",
       "      <td>3.192622e-01</td>\n",
       "      <td>0.976562</td>\n",
       "      <td>3.192622e-01</td>\n",
       "    </tr>\n",
       "    <tr>\n",
       "      <th>109</th>\n",
       "      <td>0.032813</td>\n",
       "      <td>0.989062</td>\n",
       "      <td>3.221205e-01</td>\n",
       "      <td>0.978125</td>\n",
       "      <td>3.221205e-01</td>\n",
       "    </tr>\n",
       "    <tr>\n",
       "      <th>108</th>\n",
       "      <td>0.032813</td>\n",
       "      <td>0.987500</td>\n",
       "      <td>3.265844e-01</td>\n",
       "      <td>0.977344</td>\n",
       "      <td>3.265844e-01</td>\n",
       "    </tr>\n",
       "    <tr>\n",
       "      <th>107</th>\n",
       "      <td>0.031250</td>\n",
       "      <td>0.987500</td>\n",
       "      <td>3.314106e-01</td>\n",
       "      <td>0.978125</td>\n",
       "      <td>3.314106e-01</td>\n",
       "    </tr>\n",
       "    <tr>\n",
       "      <th>106</th>\n",
       "      <td>0.031250</td>\n",
       "      <td>0.985938</td>\n",
       "      <td>3.341735e-01</td>\n",
       "      <td>0.977344</td>\n",
       "      <td>3.341735e-01</td>\n",
       "    </tr>\n",
       "    <tr>\n",
       "      <th>105</th>\n",
       "      <td>0.026562</td>\n",
       "      <td>0.985938</td>\n",
       "      <td>3.512403e-01</td>\n",
       "      <td>0.979688</td>\n",
       "      <td>3.512403e-01</td>\n",
       "    </tr>\n",
       "    <tr>\n",
       "      <th>104</th>\n",
       "      <td>0.026562</td>\n",
       "      <td>0.984375</td>\n",
       "      <td>3.760709e-01</td>\n",
       "      <td>0.978906</td>\n",
       "      <td>3.760709e-01</td>\n",
       "    </tr>\n",
       "    <tr>\n",
       "      <th>103</th>\n",
       "      <td>0.017188</td>\n",
       "      <td>0.984375</td>\n",
       "      <td>4.860027e-01</td>\n",
       "      <td>0.983594</td>\n",
       "      <td>4.860027e-01</td>\n",
       "    </tr>\n",
       "    <tr>\n",
       "      <th>102</th>\n",
       "      <td>0.017188</td>\n",
       "      <td>0.982812</td>\n",
       "      <td>4.869752e-01</td>\n",
       "      <td>0.982812</td>\n",
       "      <td>4.869752e-01</td>\n",
       "    </tr>\n",
       "    <tr>\n",
       "      <th>101</th>\n",
       "      <td>0.015625</td>\n",
       "      <td>0.982812</td>\n",
       "      <td>5.214986e-01</td>\n",
       "      <td>0.983594</td>\n",
       "      <td>5.214986e-01</td>\n",
       "    </tr>\n",
       "    <tr>\n",
       "      <th>100</th>\n",
       "      <td>0.015625</td>\n",
       "      <td>0.978125</td>\n",
       "      <td>5.559686e-01</td>\n",
       "      <td>0.981250</td>\n",
       "      <td>5.559686e-01</td>\n",
       "    </tr>\n",
       "    <tr>\n",
       "      <th>99</th>\n",
       "      <td>0.014063</td>\n",
       "      <td>0.978125</td>\n",
       "      <td>5.583147e-01</td>\n",
       "      <td>0.982031</td>\n",
       "      <td>5.583147e-01</td>\n",
       "    </tr>\n",
       "    <tr>\n",
       "      <th>98</th>\n",
       "      <td>0.014063</td>\n",
       "      <td>0.976562</td>\n",
       "      <td>5.615893e-01</td>\n",
       "      <td>0.981250</td>\n",
       "      <td>5.615893e-01</td>\n",
       "    </tr>\n",
       "    <tr>\n",
       "      <th>97</th>\n",
       "      <td>0.012500</td>\n",
       "      <td>0.976562</td>\n",
       "      <td>5.623586e-01</td>\n",
       "      <td>0.982031</td>\n",
       "      <td>5.623586e-01</td>\n",
       "    </tr>\n",
       "    <tr>\n",
       "      <th>95</th>\n",
       "      <td>0.010937</td>\n",
       "      <td>0.975000</td>\n",
       "      <td>5.984375e-01</td>\n",
       "      <td>0.982031</td>\n",
       "      <td>5.984375e-01</td>\n",
       "    </tr>\n",
       "    <tr>\n",
       "      <th>96</th>\n",
       "      <td>0.012500</td>\n",
       "      <td>0.975000</td>\n",
       "      <td>5.648981e-01</td>\n",
       "      <td>0.981250</td>\n",
       "      <td>5.648981e-01</td>\n",
       "    </tr>\n",
       "    <tr>\n",
       "      <th>94</th>\n",
       "      <td>0.010937</td>\n",
       "      <td>0.973437</td>\n",
       "      <td>6.261004e-01</td>\n",
       "      <td>0.981250</td>\n",
       "      <td>6.261004e-01</td>\n",
       "    </tr>\n",
       "    <tr>\n",
       "      <th>93</th>\n",
       "      <td>0.009375</td>\n",
       "      <td>0.973437</td>\n",
       "      <td>6.491563e-01</td>\n",
       "      <td>0.982031</td>\n",
       "      <td>6.491563e-01</td>\n",
       "    </tr>\n",
       "    <tr>\n",
       "      <th>92</th>\n",
       "      <td>0.009375</td>\n",
       "      <td>0.967187</td>\n",
       "      <td>6.809687e-01</td>\n",
       "      <td>0.978906</td>\n",
       "      <td>6.809687e-01</td>\n",
       "    </tr>\n",
       "    <tr>\n",
       "      <th>91</th>\n",
       "      <td>0.007812</td>\n",
       "      <td>0.967187</td>\n",
       "      <td>6.928135e-01</td>\n",
       "      <td>0.979688</td>\n",
       "      <td>6.928135e-01</td>\n",
       "    </tr>\n",
       "    <tr>\n",
       "      <th>90</th>\n",
       "      <td>0.007812</td>\n",
       "      <td>0.964063</td>\n",
       "      <td>6.980649e-01</td>\n",
       "      <td>0.978125</td>\n",
       "      <td>6.980649e-01</td>\n",
       "    </tr>\n",
       "    <tr>\n",
       "      <th>89</th>\n",
       "      <td>0.004687</td>\n",
       "      <td>0.964063</td>\n",
       "      <td>7.037297e-01</td>\n",
       "      <td>0.979688</td>\n",
       "      <td>7.037297e-01</td>\n",
       "    </tr>\n",
       "    <tr>\n",
       "      <th>88</th>\n",
       "      <td>0.004687</td>\n",
       "      <td>0.954688</td>\n",
       "      <td>7.326359e-01</td>\n",
       "      <td>0.975000</td>\n",
       "      <td>7.326359e-01</td>\n",
       "    </tr>\n",
       "    <tr>\n",
       "      <th>87</th>\n",
       "      <td>0.001563</td>\n",
       "      <td>0.954688</td>\n",
       "      <td>7.363855e-01</td>\n",
       "      <td>0.976562</td>\n",
       "      <td>7.363855e-01</td>\n",
       "    </tr>\n",
       "    <tr>\n",
       "      <th>86</th>\n",
       "      <td>0.001563</td>\n",
       "      <td>0.951562</td>\n",
       "      <td>7.821844e-01</td>\n",
       "      <td>0.975000</td>\n",
       "      <td>7.821844e-01</td>\n",
       "    </tr>\n",
       "    <tr>\n",
       "      <th>85</th>\n",
       "      <td>0.000000</td>\n",
       "      <td>0.951562</td>\n",
       "      <td>8.081846e-01</td>\n",
       "      <td>0.975781</td>\n",
       "      <td>8.081846e-01</td>\n",
       "    </tr>\n",
       "    <tr>\n",
       "      <th>84</th>\n",
       "      <td>0.000000</td>\n",
       "      <td>0.885938</td>\n",
       "      <td>9.891639e-01</td>\n",
       "      <td>0.942969</td>\n",
       "      <td>9.891639e-01</td>\n",
       "    </tr>\n",
       "    <tr>\n",
       "      <th>83</th>\n",
       "      <td>0.000000</td>\n",
       "      <td>0.882812</td>\n",
       "      <td>9.893783e-01</td>\n",
       "      <td>0.941406</td>\n",
       "      <td>9.893783e-01</td>\n",
       "    </tr>\n",
       "    <tr>\n",
       "      <th>82</th>\n",
       "      <td>0.000000</td>\n",
       "      <td>0.771875</td>\n",
       "      <td>9.974723e-01</td>\n",
       "      <td>0.885938</td>\n",
       "      <td>9.974723e-01</td>\n",
       "    </tr>\n",
       "    <tr>\n",
       "      <th>81</th>\n",
       "      <td>0.000000</td>\n",
       "      <td>0.768750</td>\n",
       "      <td>9.974744e-01</td>\n",
       "      <td>0.884375</td>\n",
       "      <td>9.974744e-01</td>\n",
       "    </tr>\n",
       "    <tr>\n",
       "      <th>80</th>\n",
       "      <td>0.000000</td>\n",
       "      <td>0.742188</td>\n",
       "      <td>9.977844e-01</td>\n",
       "      <td>0.871094</td>\n",
       "      <td>9.977844e-01</td>\n",
       "    </tr>\n",
       "    <tr>\n",
       "      <th>79</th>\n",
       "      <td>0.000000</td>\n",
       "      <td>0.739062</td>\n",
       "      <td>9.977864e-01</td>\n",
       "      <td>0.869531</td>\n",
       "      <td>9.977864e-01</td>\n",
       "    </tr>\n",
       "    <tr>\n",
       "      <th>78</th>\n",
       "      <td>0.000000</td>\n",
       "      <td>0.695312</td>\n",
       "      <td>9.988474e-01</td>\n",
       "      <td>0.847656</td>\n",
       "      <td>9.988474e-01</td>\n",
       "    </tr>\n",
       "    <tr>\n",
       "      <th>77</th>\n",
       "      <td>0.000000</td>\n",
       "      <td>0.692187</td>\n",
       "      <td>9.988618e-01</td>\n",
       "      <td>0.846094</td>\n",
       "      <td>9.988618e-01</td>\n",
       "    </tr>\n",
       "  </tbody>\n",
       "</table>\n",
       "</div>"
      ],
      "text/plain": [
       "          FPR       TPR     Threshold       acc     threshold\n",
       "126  1.000000  1.000000  1.520089e-13  0.500000  1.520089e-13\n",
       "125  0.575000  1.000000  4.771417e-05  0.712500  4.771417e-05\n",
       "124  0.571875  1.000000  5.016645e-05  0.714063  5.016645e-05\n",
       "123  0.543750  1.000000  6.735347e-05  0.728125  6.735347e-05\n",
       "122  0.540625  1.000000  6.782624e-05  0.729688  6.782624e-05\n",
       "121  0.185938  1.000000  4.936322e-03  0.907031  4.936322e-03\n",
       "120  0.182812  1.000000  5.217905e-03  0.908594  5.217905e-03\n",
       "119  0.064062  1.000000  1.293892e-01  0.967969  1.293892e-01\n",
       "118  0.064062  0.998437  1.293892e-01  0.967187  1.293892e-01\n",
       "117  0.056250  0.998437  1.658733e-01  0.971094  1.658733e-01\n",
       "116  0.056250  0.996875  1.668535e-01  0.970313  1.668535e-01\n",
       "115  0.053125  0.996875  1.824541e-01  0.971875  1.824541e-01\n",
       "114  0.053125  0.995313  1.888513e-01  0.971094  1.888513e-01\n",
       "113  0.046875  0.995313  2.012764e-01  0.974219  2.012764e-01\n",
       "111  0.035937  0.993750  2.967494e-01  0.978906  2.967494e-01\n",
       "112  0.046875  0.993750  2.056181e-01  0.973437  2.056181e-01\n",
       "110  0.035937  0.989062  3.192622e-01  0.976562  3.192622e-01\n",
       "109  0.032813  0.989062  3.221205e-01  0.978125  3.221205e-01\n",
       "108  0.032813  0.987500  3.265844e-01  0.977344  3.265844e-01\n",
       "107  0.031250  0.987500  3.314106e-01  0.978125  3.314106e-01\n",
       "106  0.031250  0.985938  3.341735e-01  0.977344  3.341735e-01\n",
       "105  0.026562  0.985938  3.512403e-01  0.979688  3.512403e-01\n",
       "104  0.026562  0.984375  3.760709e-01  0.978906  3.760709e-01\n",
       "103  0.017188  0.984375  4.860027e-01  0.983594  4.860027e-01\n",
       "102  0.017188  0.982812  4.869752e-01  0.982812  4.869752e-01\n",
       "101  0.015625  0.982812  5.214986e-01  0.983594  5.214986e-01\n",
       "100  0.015625  0.978125  5.559686e-01  0.981250  5.559686e-01\n",
       "99   0.014063  0.978125  5.583147e-01  0.982031  5.583147e-01\n",
       "98   0.014063  0.976562  5.615893e-01  0.981250  5.615893e-01\n",
       "97   0.012500  0.976562  5.623586e-01  0.982031  5.623586e-01\n",
       "95   0.010937  0.975000  5.984375e-01  0.982031  5.984375e-01\n",
       "96   0.012500  0.975000  5.648981e-01  0.981250  5.648981e-01\n",
       "94   0.010937  0.973437  6.261004e-01  0.981250  6.261004e-01\n",
       "93   0.009375  0.973437  6.491563e-01  0.982031  6.491563e-01\n",
       "92   0.009375  0.967187  6.809687e-01  0.978906  6.809687e-01\n",
       "91   0.007812  0.967187  6.928135e-01  0.979688  6.928135e-01\n",
       "90   0.007812  0.964063  6.980649e-01  0.978125  6.980649e-01\n",
       "89   0.004687  0.964063  7.037297e-01  0.979688  7.037297e-01\n",
       "88   0.004687  0.954688  7.326359e-01  0.975000  7.326359e-01\n",
       "87   0.001563  0.954688  7.363855e-01  0.976562  7.363855e-01\n",
       "86   0.001563  0.951562  7.821844e-01  0.975000  7.821844e-01\n",
       "85   0.000000  0.951562  8.081846e-01  0.975781  8.081846e-01\n",
       "84   0.000000  0.885938  9.891639e-01  0.942969  9.891639e-01\n",
       "83   0.000000  0.882812  9.893783e-01  0.941406  9.893783e-01\n",
       "82   0.000000  0.771875  9.974723e-01  0.885938  9.974723e-01\n",
       "81   0.000000  0.768750  9.974744e-01  0.884375  9.974744e-01\n",
       "80   0.000000  0.742188  9.977844e-01  0.871094  9.977844e-01\n",
       "79   0.000000  0.739062  9.977864e-01  0.869531  9.977864e-01\n",
       "78   0.000000  0.695312  9.988474e-01  0.847656  9.988474e-01\n",
       "77   0.000000  0.692187  9.988618e-01  0.846094  9.988618e-01"
      ]
     },
     "execution_count": 108,
     "metadata": {},
     "output_type": "execute_result"
    }
   ],
   "source": [
    "train_class_metric_df.sort_values(['TPR'], ascending=[False]).head(50)"
   ]
  },
  {
   "cell_type": "code",
   "execution_count": 104,
   "metadata": {
    "collapsed": true
   },
   "outputs": [
    {
     "data": {
      "text/html": [
       "<div>\n",
       "<style scoped>\n",
       "    .dataframe tbody tr th:only-of-type {\n",
       "        vertical-align: middle;\n",
       "    }\n",
       "\n",
       "    .dataframe tbody tr th {\n",
       "        vertical-align: top;\n",
       "    }\n",
       "\n",
       "    .dataframe thead th {\n",
       "        text-align: right;\n",
       "    }\n",
       "</style>\n",
       "<table border=\"1\" class=\"dataframe\">\n",
       "  <thead>\n",
       "    <tr style=\"text-align: right;\">\n",
       "      <th></th>\n",
       "      <th>FPR</th>\n",
       "      <th>TPR</th>\n",
       "      <th>Threshold</th>\n",
       "      <th>acc</th>\n",
       "      <th>threshold</th>\n",
       "    </tr>\n",
       "  </thead>\n",
       "  <tbody>\n",
       "    <tr>\n",
       "      <th>85</th>\n",
       "      <td>0.000000</td>\n",
       "      <td>0.951562</td>\n",
       "      <td>8.081846e-01</td>\n",
       "      <td>0.975781</td>\n",
       "      <td>8.081846e-01</td>\n",
       "    </tr>\n",
       "    <tr>\n",
       "      <th>84</th>\n",
       "      <td>0.000000</td>\n",
       "      <td>0.885938</td>\n",
       "      <td>9.891639e-01</td>\n",
       "      <td>0.942969</td>\n",
       "      <td>9.891639e-01</td>\n",
       "    </tr>\n",
       "    <tr>\n",
       "      <th>83</th>\n",
       "      <td>0.000000</td>\n",
       "      <td>0.882812</td>\n",
       "      <td>9.893783e-01</td>\n",
       "      <td>0.941406</td>\n",
       "      <td>9.893783e-01</td>\n",
       "    </tr>\n",
       "    <tr>\n",
       "      <th>82</th>\n",
       "      <td>0.000000</td>\n",
       "      <td>0.771875</td>\n",
       "      <td>9.974723e-01</td>\n",
       "      <td>0.885938</td>\n",
       "      <td>9.974723e-01</td>\n",
       "    </tr>\n",
       "    <tr>\n",
       "      <th>81</th>\n",
       "      <td>0.000000</td>\n",
       "      <td>0.768750</td>\n",
       "      <td>9.974744e-01</td>\n",
       "      <td>0.884375</td>\n",
       "      <td>9.974744e-01</td>\n",
       "    </tr>\n",
       "    <tr>\n",
       "      <th>...</th>\n",
       "      <td>...</td>\n",
       "      <td>...</td>\n",
       "      <td>...</td>\n",
       "      <td>...</td>\n",
       "      <td>...</td>\n",
       "    </tr>\n",
       "    <tr>\n",
       "      <th>122</th>\n",
       "      <td>0.540625</td>\n",
       "      <td>1.000000</td>\n",
       "      <td>6.782624e-05</td>\n",
       "      <td>0.729688</td>\n",
       "      <td>6.782624e-05</td>\n",
       "    </tr>\n",
       "    <tr>\n",
       "      <th>123</th>\n",
       "      <td>0.543750</td>\n",
       "      <td>1.000000</td>\n",
       "      <td>6.735347e-05</td>\n",
       "      <td>0.728125</td>\n",
       "      <td>6.735347e-05</td>\n",
       "    </tr>\n",
       "    <tr>\n",
       "      <th>124</th>\n",
       "      <td>0.571875</td>\n",
       "      <td>1.000000</td>\n",
       "      <td>5.016645e-05</td>\n",
       "      <td>0.714063</td>\n",
       "      <td>5.016645e-05</td>\n",
       "    </tr>\n",
       "    <tr>\n",
       "      <th>125</th>\n",
       "      <td>0.575000</td>\n",
       "      <td>1.000000</td>\n",
       "      <td>4.771417e-05</td>\n",
       "      <td>0.712500</td>\n",
       "      <td>4.771417e-05</td>\n",
       "    </tr>\n",
       "    <tr>\n",
       "      <th>126</th>\n",
       "      <td>1.000000</td>\n",
       "      <td>1.000000</td>\n",
       "      <td>1.520089e-13</td>\n",
       "      <td>0.500000</td>\n",
       "      <td>1.520089e-13</td>\n",
       "    </tr>\n",
       "  </tbody>\n",
       "</table>\n",
       "<p>127 rows × 5 columns</p>\n",
       "</div>"
      ],
      "text/plain": [
       "          FPR       TPR     Threshold       acc     threshold\n",
       "85   0.000000  0.951562  8.081846e-01  0.975781  8.081846e-01\n",
       "84   0.000000  0.885938  9.891639e-01  0.942969  9.891639e-01\n",
       "83   0.000000  0.882812  9.893783e-01  0.941406  9.893783e-01\n",
       "82   0.000000  0.771875  9.974723e-01  0.885938  9.974723e-01\n",
       "81   0.000000  0.768750  9.974744e-01  0.884375  9.974744e-01\n",
       "..        ...       ...           ...       ...           ...\n",
       "122  0.540625  1.000000  6.782624e-05  0.729688  6.782624e-05\n",
       "123  0.543750  1.000000  6.735347e-05  0.728125  6.735347e-05\n",
       "124  0.571875  1.000000  5.016645e-05  0.714063  5.016645e-05\n",
       "125  0.575000  1.000000  4.771417e-05  0.712500  4.771417e-05\n",
       "126  1.000000  1.000000  1.520089e-13  0.500000  1.520089e-13\n",
       "\n",
       "[127 rows x 5 columns]"
      ]
     },
     "execution_count": 104,
     "metadata": {},
     "output_type": "execute_result"
    }
   ],
   "source": [
    "train_class_metric_df.sort_values(['FPR', 'TPR'], ascending = [True, False])"
   ]
  },
  {
   "cell_type": "code",
   "execution_count": 113,
   "metadata": {
    "collapsed": true
   },
   "outputs": [
    {
     "name": "stdout",
     "output_type": "stream",
     "text": [
      "Threshold:0.48\n",
      "             ROC-AUC Score: 0.9828125 \n",
      "             True Positives: 630 | True Negatives: 628\n",
      "             False Negatives: 10 | False Positives: 12\n",
      "          \n",
      "--------------------------------------------------\n",
      "\n",
      "Threshold:0.521\n",
      "             ROC-AUC Score: 0.98359375 \n",
      "             True Positives: 629 | True Negatives: 630\n",
      "             False Negatives: 11 | False Positives: 10\n",
      "          \n",
      "--------------------------------------------------\n",
      "\n",
      "Threshold:0.55\n",
      "             ROC-AUC Score: 0.98203125 \n",
      "             True Positives: 627 | True Negatives: 630\n",
      "             False Negatives: 13 | False Positives: 10\n",
      "          \n",
      "--------------------------------------------------\n",
      "\n",
      "Threshold:0.562\n",
      "             ROC-AUC Score: 0.98203125 \n",
      "             True Positives: 625 | True Negatives: 632\n",
      "             False Negatives: 15 | False Positives: 8\n",
      "          \n",
      "--------------------------------------------------\n",
      "\n",
      "Threshold:0.626\n",
      "             ROC-AUC Score: 0.9812499999999998 \n",
      "             True Positives: 623 | True Negatives: 633\n",
      "             False Negatives: 17 | False Positives: 7\n",
      "          \n",
      "--------------------------------------------------\n",
      "\n",
      "Threshold:0.7\n",
      "             ROC-AUC Score: 0.9796875 \n",
      "             True Positives: 617 | True Negatives: 637\n",
      "             False Negatives: 23 | False Positives: 3\n",
      "          \n",
      "--------------------------------------------------\n",
      "\n",
      "Threshold:0.73\n",
      "             ROC-AUC Score: 0.975 \n",
      "             True Positives: 611 | True Negatives: 637\n",
      "             False Negatives: 29 | False Positives: 3\n",
      "          \n",
      "--------------------------------------------------\n",
      "\n",
      "Threshold:0.98\n",
      "             ROC-AUC Score: 0.9515625 \n",
      "             True Positives: 578 | True Negatives: 640\n",
      "             False Negatives: 62 | False Positives: 0\n",
      "          \n",
      "--------------------------------------------------\n",
      "\n"
     ]
    }
   ],
   "source": [
    "# possible Thresholds -> 0.521, 0.562, 0.626, 0.7\n",
    "threshs = [0.48, 0.521, 0.55, 0.562, 0.626, 0.7, 0.73, 0.98]\n",
    "\n",
    "for th in threshs:\n",
    "    # Apply Prediction Threshold\n",
    "    thresh_preds = train_preds.y_predict.apply(lambda p: 1.0 if p > th else 0.0)\n",
    "    \n",
    "    # Obtain the ROC-AUC Score for the corresponding Threshold\n",
    "    thresh_roc_auc_score = roc_auc_score( train_preds.y_truth.to_list(),thresh_preds.to_list() )\n",
    "    \n",
    "    # Confusion Matrix for the specific Threshold\n",
    "    thresh_c_matrix = confusion_matrix( train_preds.y_truth.to_list(), thresh_preds.to_list() )\n",
    "    \n",
    "    print(\"\"\"Threshold:{}\n",
    "             ROC-AUC Score: {} \n",
    "             True Positives: {} | True Negatives: {}\n",
    "             False Negatives: {} | False Positives: {}\n",
    "          \"\"\".format(th, thresh_roc_auc_score, thresh_c_matrix[1][1],\n",
    "                     thresh_c_matrix[0][0], thresh_c_matrix[1][0], thresh_c_matrix[0][1]\n",
    "                    )\n",
    "         )\n",
    "    print(\"--------------------------------------------------\\n\")"
   ]
  },
  {
   "cell_type": "code",
   "execution_count": 114,
   "metadata": {
    "collapsed": true
   },
   "outputs": [
    {
     "name": "stdout",
     "output_type": "stream",
     "text": [
      "Threshold:0.48\n",
      "             ROC-AUC Score: 0.7603425985778927 \n",
      "             True Positives: 33 | True Negatives: 159\n",
      "             False Negatives: 18 | False Positives: 23\n",
      "          \n",
      "--------------------------------------------------\n",
      "\n",
      "Threshold:0.521\n",
      "             ROC-AUC Score: 0.7603425985778927 \n",
      "             True Positives: 33 | True Negatives: 159\n",
      "             False Negatives: 18 | False Positives: 23\n",
      "          \n",
      "--------------------------------------------------\n",
      "\n",
      "Threshold:0.55\n",
      "             ROC-AUC Score: 0.7603425985778927 \n",
      "             True Positives: 33 | True Negatives: 159\n",
      "             False Negatives: 18 | False Positives: 23\n",
      "          \n",
      "--------------------------------------------------\n",
      "\n",
      "Threshold:0.562\n",
      "             ROC-AUC Score: 0.7505386770092652 \n",
      "             True Positives: 32 | True Negatives: 159\n",
      "             False Negatives: 19 | False Positives: 23\n",
      "          \n",
      "--------------------------------------------------\n",
      "\n",
      "Threshold:0.626\n",
      "             ROC-AUC Score: 0.7434820081878906 \n",
      "             True Positives: 31 | True Negatives: 160\n",
      "             False Negatives: 20 | False Positives: 22\n",
      "          \n",
      "--------------------------------------------------\n",
      "\n",
      "Threshold:0.7\n",
      "             ROC-AUC Score: 0.7336780866192631 \n",
      "             True Positives: 30 | True Negatives: 160\n",
      "             False Negatives: 21 | False Positives: 22\n",
      "          \n",
      "--------------------------------------------------\n",
      "\n",
      "Threshold:0.73\n",
      "             ROC-AUC Score: 0.7364253393665159 \n",
      "             True Positives: 30 | True Negatives: 161\n",
      "             False Negatives: 21 | False Positives: 21\n",
      "          \n",
      "--------------------------------------------------\n",
      "\n",
      "Threshold:0.98\n",
      "             ROC-AUC Score: 0.6897759103641457 \n",
      "             True Positives: 23 | True Negatives: 169\n",
      "             False Negatives: 28 | False Positives: 13\n",
      "          \n",
      "--------------------------------------------------\n",
      "\n"
     ]
    }
   ],
   "source": [
    "# Perform the Same evaluation on the TEST dataset\n",
    "threshs = [0.48, 0.521, 0.55, 0.562, 0.626, 0.7, 0.73, 0.98]\n",
    "\n",
    "for th in threshs:\n",
    "    # Apply Prediction Threshold\n",
    "    thresh_preds = test_preds.y_predict.apply(lambda p: 1.0 if p > th else 0.0)\n",
    "    \n",
    "    # Obtain the ROC-AUC Score for the corresponding Threshold\n",
    "    thresh_roc_auc_score = roc_auc_score( test_preds.y_truth.to_list(),thresh_preds.to_list() )\n",
    "    \n",
    "    # Confusion Matrix for the specific Threshold\n",
    "    thresh_c_matrix = confusion_matrix( test_preds.y_truth.to_list(), thresh_preds.to_list() )\n",
    "    \n",
    "    print(\"\"\"Threshold:{}\n",
    "             ROC-AUC Score: {} \n",
    "             True Positives: {} | True Negatives: {}\n",
    "             False Negatives: {} | False Positives: {}\n",
    "          \"\"\".format(th, thresh_roc_auc_score, thresh_c_matrix[1][1],\n",
    "                     thresh_c_matrix[0][0], thresh_c_matrix[1][0], thresh_c_matrix[0][1]\n",
    "                    )\n",
    "         )\n",
    "    print(\"--------------------------------------------------\\n\")"
   ]
  },
  {
   "cell_type": "markdown",
   "metadata": {},
   "source": [
    "<h4>Finalizing the Binary-Classification-Threshold</h4>"
   ]
  },
  {
   "cell_type": "code",
   "execution_count": 117,
   "metadata": {
    "collapsed": true
   },
   "outputs": [
    {
     "data": {
      "text/html": [
       "<div>\n",
       "<style scoped>\n",
       "    .dataframe tbody tr th:only-of-type {\n",
       "        vertical-align: middle;\n",
       "    }\n",
       "\n",
       "    .dataframe tbody tr th {\n",
       "        vertical-align: top;\n",
       "    }\n",
       "\n",
       "    .dataframe thead th {\n",
       "        text-align: right;\n",
       "    }\n",
       "</style>\n",
       "<table border=\"1\" class=\"dataframe\">\n",
       "  <thead>\n",
       "    <tr style=\"text-align: right;\">\n",
       "      <th></th>\n",
       "      <th>y_truth</th>\n",
       "      <th>y_predict</th>\n",
       "      <th>y_thresh_predict</th>\n",
       "    </tr>\n",
       "  </thead>\n",
       "  <tbody>\n",
       "    <tr>\n",
       "      <th>0</th>\n",
       "      <td>1.0</td>\n",
       "      <td>0.977620</td>\n",
       "      <td>1.0</td>\n",
       "    </tr>\n",
       "    <tr>\n",
       "      <th>1</th>\n",
       "      <td>1.0</td>\n",
       "      <td>0.891898</td>\n",
       "      <td>1.0</td>\n",
       "    </tr>\n",
       "    <tr>\n",
       "      <th>2</th>\n",
       "      <td>1.0</td>\n",
       "      <td>0.999555</td>\n",
       "      <td>1.0</td>\n",
       "    </tr>\n",
       "    <tr>\n",
       "      <th>3</th>\n",
       "      <td>1.0</td>\n",
       "      <td>1.000000</td>\n",
       "      <td>1.0</td>\n",
       "    </tr>\n",
       "    <tr>\n",
       "      <th>4</th>\n",
       "      <td>0.0</td>\n",
       "      <td>0.000018</td>\n",
       "      <td>0.0</td>\n",
       "    </tr>\n",
       "    <tr>\n",
       "      <th>5</th>\n",
       "      <td>0.0</td>\n",
       "      <td>0.000018</td>\n",
       "      <td>0.0</td>\n",
       "    </tr>\n",
       "    <tr>\n",
       "      <th>6</th>\n",
       "      <td>1.0</td>\n",
       "      <td>1.000000</td>\n",
       "      <td>1.0</td>\n",
       "    </tr>\n",
       "    <tr>\n",
       "      <th>7</th>\n",
       "      <td>1.0</td>\n",
       "      <td>0.999538</td>\n",
       "      <td>1.0</td>\n",
       "    </tr>\n",
       "    <tr>\n",
       "      <th>8</th>\n",
       "      <td>1.0</td>\n",
       "      <td>0.999371</td>\n",
       "      <td>1.0</td>\n",
       "    </tr>\n",
       "    <tr>\n",
       "      <th>9</th>\n",
       "      <td>0.0</td>\n",
       "      <td>0.000066</td>\n",
       "      <td>0.0</td>\n",
       "    </tr>\n",
       "  </tbody>\n",
       "</table>\n",
       "</div>"
      ],
      "text/plain": [
       "   y_truth  y_predict  y_thresh_predict\n",
       "0      1.0   0.977620               1.0\n",
       "1      1.0   0.891898               1.0\n",
       "2      1.0   0.999555               1.0\n",
       "3      1.0   1.000000               1.0\n",
       "4      0.0   0.000018               0.0\n",
       "5      0.0   0.000018               0.0\n",
       "6      1.0   1.000000               1.0\n",
       "7      1.0   0.999538               1.0\n",
       "8      1.0   0.999371               1.0\n",
       "9      0.0   0.000066               0.0"
      ]
     },
     "execution_count": 117,
     "metadata": {},
     "output_type": "execute_result"
    }
   ],
   "source": [
    "\"\"\"\n",
    "Going ahead with threshold: 0.521\n",
    "\n",
    "The model seems to have overfit on the Training Dataset. For the time being we'll be moving ahead with the\n",
    "current version of the Trained model.\n",
    "\n",
    "Future areas of improvement could be by taking K-Fold approach to creating our dataset for training / evaluating the\n",
    "model.\n",
    "\"\"\"\n",
    "\n",
    "threshold = 0.521\n",
    "train_preds['y_thresh_predict'] = train_preds.y_predict.apply(lambda p: 1.0 if threshold <= p else 0.0)\n",
    "train_preds.head(10)"
   ]
  },
  {
   "cell_type": "markdown",
   "metadata": {},
   "source": [
    "<b>Inspect the performance of the Model with the specific threshold on the 'train' data</b>"
   ]
  },
  {
   "cell_type": "code",
   "execution_count": 118,
   "metadata": {},
   "outputs": [
    {
     "data": {
      "text/plain": [
       "array([[630,  10],\n",
       "       [ 11, 629]], dtype=int64)"
      ]
     },
     "execution_count": 118,
     "metadata": {},
     "output_type": "execute_result"
    }
   ],
   "source": [
    "# Get the Confusion Matrix\n",
    "c_matrix = confusion_matrix(train_preds.y_truth.to_list(), train_preds.y_thresh_predict.to_list())\n",
    "c_matrix"
   ]
  },
  {
   "cell_type": "markdown",
   "metadata": {},
   "source": [
    "<hr style=\"border: 3px double gray;\"></hr>\n",
    "On the 'train' dataset - we have observed the following - <br>\n",
    "\n",
    "<em><b>True-Positives: </b>630</em> | <em><b>True-Negatives: </b>629</em> <br>\n",
    "Instances of <em><b>mis-classification: </b> 21</em>\n",
    "\n",
    "<h3>Use the finalized Classification-threshold to inspect the performance of the model on entire dataset</h3>"
   ]
  },
  {
   "cell_type": "code",
   "execution_count": 119,
   "metadata": {
    "collapsed": true
   },
   "outputs": [
    {
     "name": "stderr",
     "output_type": "stream",
     "text": [
      "C:\\Users\\palin\\Anaconda3\\lib\\site-packages\\torch_geometric\\deprecation.py:12: UserWarning: 'data.DataLoader' is deprecated, use 'loader.DataLoader' instead\n",
      "  warnings.warn(out)\n",
      "C:\\Users\\palin\\Anaconda3\\lib\\site-packages\\torch\\nn\\functional.py:1795: UserWarning: nn.functional.tanh is deprecated. Use torch.tanh instead.\n",
      "  warnings.warn(\"nn.functional.tanh is deprecated. Use torch.tanh instead.\")\n",
      "C:\\Users\\palin\\Anaconda3\\lib\\site-packages\\torch\\nn\\functional.py:1806: UserWarning: nn.functional.sigmoid is deprecated. Use torch.sigmoid instead.\n",
      "  warnings.warn(\"nn.functional.sigmoid is deprecated. Use torch.sigmoid instead.\")\n"
     ]
    },
    {
     "data": {
      "text/html": [
       "<div>\n",
       "<style scoped>\n",
       "    .dataframe tbody tr th:only-of-type {\n",
       "        vertical-align: middle;\n",
       "    }\n",
       "\n",
       "    .dataframe tbody tr th {\n",
       "        vertical-align: top;\n",
       "    }\n",
       "\n",
       "    .dataframe thead th {\n",
       "        text-align: right;\n",
       "    }\n",
       "</style>\n",
       "<table border=\"1\" class=\"dataframe\">\n",
       "  <thead>\n",
       "    <tr style=\"text-align: right;\">\n",
       "      <th></th>\n",
       "      <th>y_truth</th>\n",
       "      <th>y_predict</th>\n",
       "    </tr>\n",
       "  </thead>\n",
       "  <tbody>\n",
       "    <tr>\n",
       "      <th>0</th>\n",
       "      <td>0.0</td>\n",
       "      <td>0.022766</td>\n",
       "    </tr>\n",
       "    <tr>\n",
       "      <th>1</th>\n",
       "      <td>0.0</td>\n",
       "      <td>0.238455</td>\n",
       "    </tr>\n",
       "    <tr>\n",
       "      <th>2</th>\n",
       "      <td>1.0</td>\n",
       "      <td>0.999996</td>\n",
       "    </tr>\n",
       "    <tr>\n",
       "      <th>3</th>\n",
       "      <td>0.0</td>\n",
       "      <td>0.002407</td>\n",
       "    </tr>\n",
       "    <tr>\n",
       "      <th>4</th>\n",
       "      <td>0.0</td>\n",
       "      <td>0.000252</td>\n",
       "    </tr>\n",
       "    <tr>\n",
       "      <th>...</th>\n",
       "      <td>...</td>\n",
       "      <td>...</td>\n",
       "    </tr>\n",
       "    <tr>\n",
       "      <th>1508</th>\n",
       "      <td>0.0</td>\n",
       "      <td>0.327205</td>\n",
       "    </tr>\n",
       "    <tr>\n",
       "      <th>1509</th>\n",
       "      <td>1.0</td>\n",
       "      <td>0.999763</td>\n",
       "    </tr>\n",
       "    <tr>\n",
       "      <th>1510</th>\n",
       "      <td>1.0</td>\n",
       "      <td>0.987881</td>\n",
       "    </tr>\n",
       "    <tr>\n",
       "      <th>1511</th>\n",
       "      <td>1.0</td>\n",
       "      <td>0.999426</td>\n",
       "    </tr>\n",
       "    <tr>\n",
       "      <th>1512</th>\n",
       "      <td>0.0</td>\n",
       "      <td>0.000099</td>\n",
       "    </tr>\n",
       "  </tbody>\n",
       "</table>\n",
       "<p>1513 rows × 2 columns</p>\n",
       "</div>"
      ],
      "text/plain": [
       "      y_truth  y_predict\n",
       "0         0.0   0.022766\n",
       "1         0.0   0.238455\n",
       "2         1.0   0.999996\n",
       "3         0.0   0.002407\n",
       "4         0.0   0.000252\n",
       "...       ...        ...\n",
       "1508      0.0   0.327205\n",
       "1509      1.0   0.999763\n",
       "1510      1.0   0.987881\n",
       "1511      1.0   0.999426\n",
       "1512      0.0   0.000099\n",
       "\n",
       "[1513 rows x 2 columns]"
      ]
     },
     "execution_count": 119,
     "metadata": {},
     "output_type": "execute_result"
    }
   ],
   "source": [
    "\"\"\"\n",
    "Use the current threshold to obtain predictions over the entire dataset.\n",
    "\"\"\"\n",
    "pred_df = all_data_eval(data, model)\n",
    "pred_df"
   ]
  },
  {
   "cell_type": "code",
   "execution_count": 121,
   "metadata": {
    "collapsed": true
   },
   "outputs": [
    {
     "data": {
      "text/html": [
       "<div>\n",
       "<style scoped>\n",
       "    .dataframe tbody tr th:only-of-type {\n",
       "        vertical-align: middle;\n",
       "    }\n",
       "\n",
       "    .dataframe tbody tr th {\n",
       "        vertical-align: top;\n",
       "    }\n",
       "\n",
       "    .dataframe thead th {\n",
       "        text-align: right;\n",
       "    }\n",
       "</style>\n",
       "<table border=\"1\" class=\"dataframe\">\n",
       "  <thead>\n",
       "    <tr style=\"text-align: right;\">\n",
       "      <th></th>\n",
       "      <th>y_truth</th>\n",
       "      <th>y_predict</th>\n",
       "      <th>y_predict_thresh</th>\n",
       "    </tr>\n",
       "  </thead>\n",
       "  <tbody>\n",
       "    <tr>\n",
       "      <th>0</th>\n",
       "      <td>0.0</td>\n",
       "      <td>0.022766</td>\n",
       "      <td>0.0</td>\n",
       "    </tr>\n",
       "    <tr>\n",
       "      <th>1</th>\n",
       "      <td>0.0</td>\n",
       "      <td>0.238455</td>\n",
       "      <td>0.0</td>\n",
       "    </tr>\n",
       "    <tr>\n",
       "      <th>2</th>\n",
       "      <td>1.0</td>\n",
       "      <td>0.999996</td>\n",
       "      <td>1.0</td>\n",
       "    </tr>\n",
       "    <tr>\n",
       "      <th>3</th>\n",
       "      <td>0.0</td>\n",
       "      <td>0.002407</td>\n",
       "      <td>0.0</td>\n",
       "    </tr>\n",
       "    <tr>\n",
       "      <th>4</th>\n",
       "      <td>0.0</td>\n",
       "      <td>0.000252</td>\n",
       "      <td>0.0</td>\n",
       "    </tr>\n",
       "    <tr>\n",
       "      <th>5</th>\n",
       "      <td>0.0</td>\n",
       "      <td>0.000098</td>\n",
       "      <td>0.0</td>\n",
       "    </tr>\n",
       "    <tr>\n",
       "      <th>6</th>\n",
       "      <td>1.0</td>\n",
       "      <td>0.999995</td>\n",
       "      <td>1.0</td>\n",
       "    </tr>\n",
       "    <tr>\n",
       "      <th>7</th>\n",
       "      <td>0.0</td>\n",
       "      <td>0.000005</td>\n",
       "      <td>0.0</td>\n",
       "    </tr>\n",
       "    <tr>\n",
       "      <th>8</th>\n",
       "      <td>0.0</td>\n",
       "      <td>0.000011</td>\n",
       "      <td>0.0</td>\n",
       "    </tr>\n",
       "    <tr>\n",
       "      <th>9</th>\n",
       "      <td>1.0</td>\n",
       "      <td>0.999828</td>\n",
       "      <td>1.0</td>\n",
       "    </tr>\n",
       "    <tr>\n",
       "      <th>10</th>\n",
       "      <td>0.0</td>\n",
       "      <td>0.035903</td>\n",
       "      <td>0.0</td>\n",
       "    </tr>\n",
       "    <tr>\n",
       "      <th>11</th>\n",
       "      <td>1.0</td>\n",
       "      <td>0.999994</td>\n",
       "      <td>1.0</td>\n",
       "    </tr>\n",
       "    <tr>\n",
       "      <th>12</th>\n",
       "      <td>0.0</td>\n",
       "      <td>0.000070</td>\n",
       "      <td>0.0</td>\n",
       "    </tr>\n",
       "    <tr>\n",
       "      <th>13</th>\n",
       "      <td>1.0</td>\n",
       "      <td>0.999995</td>\n",
       "      <td>1.0</td>\n",
       "    </tr>\n",
       "    <tr>\n",
       "      <th>14</th>\n",
       "      <td>0.0</td>\n",
       "      <td>0.000014</td>\n",
       "      <td>0.0</td>\n",
       "    </tr>\n",
       "  </tbody>\n",
       "</table>\n",
       "</div>"
      ],
      "text/plain": [
       "    y_truth  y_predict  y_predict_thresh\n",
       "0       0.0   0.022766               0.0\n",
       "1       0.0   0.238455               0.0\n",
       "2       1.0   0.999996               1.0\n",
       "3       0.0   0.002407               0.0\n",
       "4       0.0   0.000252               0.0\n",
       "5       0.0   0.000098               0.0\n",
       "6       1.0   0.999995               1.0\n",
       "7       0.0   0.000005               0.0\n",
       "8       0.0   0.000011               0.0\n",
       "9       1.0   0.999828               1.0\n",
       "10      0.0   0.035903               0.0\n",
       "11      1.0   0.999994               1.0\n",
       "12      0.0   0.000070               0.0\n",
       "13      1.0   0.999995               1.0\n",
       "14      0.0   0.000014               0.0"
      ]
     },
     "execution_count": 121,
     "metadata": {},
     "output_type": "execute_result"
    }
   ],
   "source": [
    "threshold = 0.521\n",
    "pred_df['y_predict_thresh'] = pred_df.y_predict.apply(lambda p: 1.0 if threshold <= p else 0.0)\n",
    "pred_df.head(15)"
   ]
  },
  {
   "cell_type": "code",
   "execution_count": 122,
   "metadata": {},
   "outputs": [
    {
     "name": "stdout",
     "output_type": "stream",
     "text": [
      "ROC-AUC_SCORE of the base_model on the entire dataset is :  0.9558179372607843\n"
     ]
    }
   ],
   "source": [
    "auc_score = roc_auc_score(pred_df.y_truth.to_list(), pred_df.y_predict_thresh.to_list())\n",
    "print(\"ROC-AUC_SCORE of the base_model on the entire dataset is : \", auc_score)"
   ]
  },
  {
   "cell_type": "code",
   "execution_count": 123,
   "metadata": {},
   "outputs": [
    {
     "data": {
      "text/plain": [
       "array([[791,  31],\n",
       "       [ 35, 656]], dtype=int64)"
      ]
     },
     "execution_count": 123,
     "metadata": {},
     "output_type": "execute_result"
    }
   ],
   "source": [
    "# Obtain the Confusion Matrix for the Entire dataset.\n",
    "c_matrix = confusion_matrix(pred_df.y_truth.to_list(), pred_df.y_predict_thresh.to_list())\n",
    "c_matrix"
   ]
  },
  {
   "cell_type": "code",
   "execution_count": 124,
   "metadata": {},
   "outputs": [
    {
     "name": "stdout",
     "output_type": "stream",
     "text": [
      "True Positives: 656 | True Negatives: 791 | False Negatives: 35 | False Positives: 31\n"
     ]
    }
   ],
   "source": [
    "print(\"True Positives: {} | True Negatives: {} | False Negatives: {} | False Positives: {}\".format(c_matrix[1][1],\n",
    "                                                                                                   c_matrix[0][0],\n",
    "                                                                                                   c_matrix[1][0],\n",
    "                                                                                                   c_matrix[0][1]\n",
    "                                                                                                  )\n",
    "     )"
   ]
  },
  {
   "cell_type": "markdown",
   "metadata": {},
   "source": [
    "<hr style=\"border: 4px double blue;\"></hr>\n",
    "\n",
    "<h3>Observation- Refined Model Performance</h3>\n",
    "\n",
    "The Model performs better than the baseline with improved classification accuracy <em>(True Positive / Negative rate)</em>. However, the refined model has deffinitely overfit quite abit on the training dataset. The instances of mis-classification on the entire dataset has been reduced by a decent margin. <br>\n",
    "\n",
    "A future version of this project will explore ways to minimize the cases of mis-classficiation by exploring building custom-features from the molecular graph data which are then to be passed to our GNN models."
   ]
  }
 ],
 "metadata": {
  "kernelspec": {
   "display_name": "Python 3",
   "language": "python",
   "name": "python3"
  },
  "language_info": {
   "codemirror_mode": {
    "name": "ipython",
    "version": 3
   },
   "file_extension": ".py",
   "mimetype": "text/x-python",
   "name": "python",
   "nbconvert_exporter": "python",
   "pygments_lexer": "ipython3",
   "version": "3.7.4"
  }
 },
 "nbformat": 4,
 "nbformat_minor": 2
}
