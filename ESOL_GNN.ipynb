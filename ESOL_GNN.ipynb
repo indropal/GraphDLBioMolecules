{
 "cells": [
  {
   "cell_type": "markdown",
   "metadata": {},
   "source": [
    "<h1>Predicting Solubility of Organic Molecules from Molecular Structure</h1>\n",
    "\n",
    "In this project a model is built to predict the degree of <em>Water Solubility - <b>(logarithm of solubility in mols per litre)</b></em> by using the molecular structure as features for the Deep Learning Model. \n",
    "<br>\n",
    "To train and validate the model, we make use of the <a href=\"https://moleculenet.org/datasets-1\">ESOL Dataset</a> - which comprises of <em>1128</em> common organic molecules. In the dataset each molecule's structure is represented by its respective <b>SMILES</b> string. As water solubility is a <b><em>physical property</em></b> - not requiring assessment of any of its molecular chemical properties, hence information of the relative molecular conformers is not necessary i.e. 3D coordinates of molecular components."
   ]
  },
  {
   "cell_type": "code",
   "execution_count": 1,
   "metadata": {
    "scrolled": true
   },
   "outputs": [
    {
     "name": "stderr",
     "output_type": "stream",
     "text": [
      "C:\\Users\\palin\\Anaconda3\\lib\\site-packages\\statsmodels\\tools\\_testing.py:19: FutureWarning: pandas.util.testing is deprecated. Use the functions in the public API at pandas.testing instead.\n",
      "  import pandas.util.testing as tm\n"
     ]
    }
   ],
   "source": [
    "import sys\n",
    "from rdkit import Chem\n",
    "import torch\n",
    "import torch.nn.functional as F\n",
    "\n",
    "from torch_geometric.nn import GCNConv, TopKPooling\n",
    "from torch_geometric.nn import global_mean_pool as gap\n",
    "from torch_geometric.nn import global_max_pool as gmp\n",
    "from torch_geometric.datasets import MoleculeNet\n",
    "from torch_geometric.data import DataLoader\n",
    "\n",
    "import seaborn as sns\n",
    "import pandas as pd\n",
    "import numpy as np\n",
    "from sklearn.metrics import mean_squared_error, mean_absolute_error\n",
    "\n",
    "import warnings\n",
    "\n",
    "sys.path.append(\"./gnns/\")\n",
    "from esolModel import esolModel"
   ]
  },
  {
   "cell_type": "markdown",
   "metadata": {},
   "source": [
    "<h3>Load & Inspect the ESOL Dataset</h3>"
   ]
  },
  {
   "cell_type": "code",
   "execution_count": 2,
   "metadata": {},
   "outputs": [
    {
     "data": {
      "text/plain": [
       "ESOL(1128)"
      ]
     },
     "execution_count": 2,
     "metadata": {},
     "output_type": "execute_result"
    }
   ],
   "source": [
    "# Load the 'ESOL' component of the dataset\n",
    "data = MoleculeNet(root='.', name=\"ESOL\")\n",
    "data"
   ]
  },
  {
   "cell_type": "code",
   "execution_count": 3,
   "metadata": {},
   "outputs": [
    {
     "name": "stdout",
     "output_type": "stream",
     "text": [
      "Inspecting the dataset...\n",
      "Dataset Type: <class 'torch_geometric.datasets.molecule_net.MoleculeNet'>\n",
      "Number of features per molecule: 9 | Number of Classes: 734\n",
      "Number of Datapoints: <bound method InMemoryDataset.len of ESOL(1128)>\n"
     ]
    }
   ],
   "source": [
    "# inspect the dataset\n",
    "print(\"Inspecting the dataset...\\nDataset Type: {}\\nNumber of features per molecule: {} | Number of Classes: {}\\nNumber of Datapoints: {}\".format(type(data), data.num_features, data.num_classes, data.len))"
   ]
  },
  {
   "cell_type": "code",
   "execution_count": 4,
   "metadata": {},
   "outputs": [
    {
     "name": "stdout",
     "output_type": "stream",
     "text": [
      "Inspecting a Molecule Graph data sample..\n",
      "First Molecule Graph Data in dataset: Data(x=[32, 9], edge_index=[2, 68], edge_attr=[68, 3], y=[1, 1], smiles='OCC3OC(OCC2OC(OC(C#N)c1ccccc1)C(O)C(O)C2O)C(O)C(O)C3O ')\n",
      "Number of Nodes in Molecule Graph: 32 | Number of Edges in Molecule Graph: 68\n",
      "\n",
      "Inspect the features in the data sample:\n"
     ]
    },
    {
     "data": {
      "text/plain": [
       "tensor([[8, 0, 2, 5, 1, 0, 4, 0, 0],\n",
       "        [6, 0, 4, 5, 2, 0, 4, 0, 0],\n",
       "        [6, 0, 4, 5, 1, 0, 4, 0, 1],\n",
       "        [8, 0, 2, 5, 0, 0, 4, 0, 1],\n",
       "        [6, 0, 4, 5, 1, 0, 4, 0, 1],\n",
       "        [8, 0, 2, 5, 0, 0, 4, 0, 0],\n",
       "        [6, 0, 4, 5, 2, 0, 4, 0, 0],\n",
       "        [6, 0, 4, 5, 1, 0, 4, 0, 1],\n",
       "        [8, 0, 2, 5, 0, 0, 4, 0, 1],\n",
       "        [6, 0, 4, 5, 1, 0, 4, 0, 1],\n",
       "        [8, 0, 2, 5, 0, 0, 4, 0, 0],\n",
       "        [6, 0, 4, 5, 1, 0, 4, 0, 0],\n",
       "        [6, 0, 2, 5, 0, 0, 2, 0, 0],\n",
       "        [7, 0, 1, 5, 0, 0, 2, 0, 0],\n",
       "        [6, 0, 3, 5, 0, 0, 3, 1, 1],\n",
       "        [6, 0, 3, 5, 1, 0, 3, 1, 1],\n",
       "        [6, 0, 3, 5, 1, 0, 3, 1, 1],\n",
       "        [6, 0, 3, 5, 1, 0, 3, 1, 1],\n",
       "        [6, 0, 3, 5, 1, 0, 3, 1, 1],\n",
       "        [6, 0, 3, 5, 1, 0, 3, 1, 1],\n",
       "        [6, 0, 4, 5, 1, 0, 4, 0, 1],\n",
       "        [8, 0, 2, 5, 1, 0, 4, 0, 0],\n",
       "        [6, 0, 4, 5, 1, 0, 4, 0, 1],\n",
       "        [8, 0, 2, 5, 1, 0, 4, 0, 0],\n",
       "        [6, 0, 4, 5, 1, 0, 4, 0, 1],\n",
       "        [8, 0, 2, 5, 1, 0, 4, 0, 0],\n",
       "        [6, 0, 4, 5, 1, 0, 4, 0, 1],\n",
       "        [8, 0, 2, 5, 1, 0, 4, 0, 0],\n",
       "        [6, 0, 4, 5, 1, 0, 4, 0, 1],\n",
       "        [8, 0, 2, 5, 1, 0, 4, 0, 0],\n",
       "        [6, 0, 4, 5, 1, 0, 4, 0, 1],\n",
       "        [8, 0, 2, 5, 1, 0, 4, 0, 0]])"
      ]
     },
     "metadata": {},
     "output_type": "display_data"
    },
    {
     "name": "stdout",
     "output_type": "stream",
     "text": [
      "\n",
      "The target variable for the Graph Data sample:\n"
     ]
    },
    {
     "data": {
      "text/plain": [
       "tensor([[-0.7700]])"
      ]
     },
     "metadata": {},
     "output_type": "display_data"
    },
    {
     "name": "stdout",
     "output_type": "stream",
     "text": [
      "The graph data has 32 nodes & each node is comprised of Node-features which consists of a tensor of 9 features for each node.\n"
     ]
    }
   ],
   "source": [
    "# inspecting a sample of the dataset\n",
    "print(\"Inspecting a Molecule Graph data sample..\\nFirst Molecule Graph Data in dataset: {}\\nNumber of Nodes in Molecule Graph: {} | Number of Edges in Molecule Graph: {}\".format(data[0], data[0].num_nodes, data[0].num_edges))\n",
    "print(\"\\nInspect the features in the data sample:\")\n",
    "display(data[0].x)\n",
    "print(\"\\nThe target variable for the Graph Data sample:\")\n",
    "display(data[0].y)\n",
    "# print(data[0].edge_index.t()) # Get the Edge Insformation i.e. tuple of nodes connected by an edge.\n",
    "print(\"The graph data has 32 nodes & each node is comprised of Node-features which consists of a tensor of 9 features for each node.\")"
   ]
  },
  {
   "cell_type": "markdown",
   "metadata": {},
   "source": [
    "<hr style=\"border: 3px double gray\"></hr>\n",
    "Upon inspecting the dataset - The target variable comprises of a single real (<em>float</em>) value - which indicates this as a <b><em>graph-level prediction problem</em></b>.\n",
    "Each data-point in the dataset represents the molecular structure as a combination of <b>nodes</b> with associated features, i.e. <b>'node-features'</b>. Each node has corresponding <b>9 features</b> associated with it which encapsulates edge features associated with the respective node as well.\n",
    "<h4>For each <em>SMILE string</em> - there is only <u>one</u> target variable for the entire molecule (graph data)</h4>\n",
    "\n",
    "Inspect a sample of molecule SMILES and the corresponding molecular structure."
   ]
  },
  {
   "cell_type": "code",
   "execution_count": 5,
   "metadata": {
    "scrolled": true
   },
   "outputs": [
    {
     "name": "stdout",
     "output_type": "stream",
     "text": [
      "Molecule SMILES string:  OCC3OC(OCC2OC(OC(C#N)c1ccccc1)C(O)C(O)C2O)C(O)C(O)C3O \n"
     ]
    },
    {
     "data": {
      "image/png": "[encoded data removed]",
      "text/plain": [
       "<rdkit.Chem.rdchem.Mol at 0x21fb8c20ad0>"
      ]
     },
     "metadata": {},
     "output_type": "display_data"
    },
    {
     "name": "stdout",
     "output_type": "stream",
     "text": [
      "---------------------------------------------\n",
      "Molecule SMILES string:  Cc1occc1C(=O)Nc2ccccc2\n"
     ]
    },
    {
     "data": {
      "image/png": "[encoded data removed]",
      "text/plain": [
       "<rdkit.Chem.rdchem.Mol at 0x21fcdd65670>"
      ]
     },
     "metadata": {},
     "output_type": "display_data"
    },
    {
     "name": "stdout",
     "output_type": "stream",
     "text": [
      "---------------------------------------------\n",
      "Molecule SMILES string:  CC(C)=CCCC(C)=CC(=O)\n"
     ]
    },
    {
     "data": {
      "image/png": "[encoded data removed]",
      "text/plain": [
       "<rdkit.Chem.rdchem.Mol at 0x21fcdd671c0>"
      ]
     },
     "metadata": {},
     "output_type": "display_data"
    },
    {
     "name": "stdout",
     "output_type": "stream",
     "text": [
      "---------------------------------------------\n",
      "Molecule SMILES string:  c1ccc2c(c1)ccc3c2ccc4c5ccccc5ccc43\n"
     ]
    },
    {
     "data": {
      "image/png": "[encoded data removed]",
      "text/plain": [
       "<rdkit.Chem.rdchem.Mol at 0x21fcdd67850>"
      ]
     },
     "metadata": {},
     "output_type": "display_data"
    },
    {
     "name": "stdout",
     "output_type": "stream",
     "text": [
      "---------------------------------------------\n",
      "Molecule SMILES string:  c1ccsc1\n"
     ]
    },
    {
     "data": {
      "image/png": "[encoded data removed]",
      "text/plain": [
       "<rdkit.Chem.rdchem.Mol at 0x21fcdd6c030>"
      ]
     },
     "metadata": {},
     "output_type": "display_data"
    },
    {
     "name": "stdout",
     "output_type": "stream",
     "text": [
      "---------------------------------------------\n",
      "Molecule SMILES string:  c2ccc1scnc1c2 \n"
     ]
    },
    {
     "data": {
      "image/png": "[encoded data removed]",
      "text/plain": [
       "<rdkit.Chem.rdchem.Mol at 0x21fcdd6c530>"
      ]
     },
     "metadata": {},
     "output_type": "display_data"
    },
    {
     "name": "stdout",
     "output_type": "stream",
     "text": [
      "---------------------------------------------\n",
      "Molecule SMILES string:  Clc1cc(Cl)c(c(Cl)c1)c2c(Cl)cccc2Cl\n"
     ]
    },
    {
     "data": {
      "image/png": "[encoded data removed]",
      "text/plain": [
       "<rdkit.Chem.rdchem.Mol at 0x21fcdd6cb70>"
      ]
     },
     "metadata": {},
     "output_type": "display_data"
    },
    {
     "name": "stdout",
     "output_type": "stream",
     "text": [
      "---------------------------------------------\n",
      "Molecule SMILES string:  CC12CCC3C(CCc4cc(O)ccc34)C2CCC1O\n"
     ]
    },
    {
     "data": {
      "image/png": "[encoded data removed]",
      "text/plain": [
       "<rdkit.Chem.rdchem.Mol at 0x21fcdd73210>"
      ]
     },
     "metadata": {},
     "output_type": "display_data"
    },
    {
     "name": "stdout",
     "output_type": "stream",
     "text": [
      "---------------------------------------------\n",
      "Molecule SMILES string:  ClC4=C(Cl)C5(Cl)C3C1CC(C2OC12)C3C4(Cl)C5(Cl)Cl\n"
     ]
    },
    {
     "data": {
      "image/png": "[encoded data removed]",
      "text/plain": [
       "<rdkit.Chem.rdchem.Mol at 0x21fcdd73940>"
      ]
     },
     "metadata": {},
     "output_type": "display_data"
    },
    {
     "name": "stdout",
     "output_type": "stream",
     "text": [
      "---------------------------------------------\n",
      "Molecule SMILES string:  COc5cc4OCC3Oc2c1CC(Oc1ccc2C(=O)C3c4cc5OC)C(C)=C \n"
     ]
    },
    {
     "data": {
      "image/png": "[encoded data removed]",
      "text/plain": [
       "<rdkit.Chem.rdchem.Mol at 0x21fcdd74030>"
      ]
     },
     "metadata": {},
     "output_type": "display_data"
    },
    {
     "name": "stdout",
     "output_type": "stream",
     "text": [
      "---------------------------------------------\n"
     ]
    }
   ],
   "source": [
    "# Visualizing Molecules\n",
    "# Use RDKit to visualize molecular features of first 10 graph data samples\n",
    "\n",
    "for i in range(10):\n",
    "    molecule = Chem.MolFromSmiles(data[i]['smiles'])\n",
    "    print(\"Molecule SMILES string: \", data[i]['smiles'])\n",
    "    display(molecule)\n",
    "    print('---------------------------------------------')"
   ]
  },
  {
   "cell_type": "markdown",
   "metadata": {},
   "source": [
    "<hr style=\"border: 4px double orange;\"></hr>\n",
    "<h3>Modelling with Deep Graph Neural Nets</h3>\n",
    "\n",
    "Create a baseline Model to benchmark the performance, on top of which a refined GNN model can be built to obtain improved predictions on water solubility."
   ]
  },
  {
   "cell_type": "code",
   "execution_count": 6,
   "metadata": {},
   "outputs": [
    {
     "data": {
      "text/plain": [
       "baseGCN(\n",
       "  (in_conv): GCNConv(9, 64)\n",
       "  (conv1): GCNConv(64, 64)\n",
       "  (conv2): GCNConv(64, 64)\n",
       "  (conv3): GCNConv(64, 64)\n",
       "  (out): Linear(in_features=128, out_features=1, bias=True)\n",
       ")"
      ]
     },
     "metadata": {},
     "output_type": "display_data"
    }
   ],
   "source": [
    "# Implementing Baseline Graphical Neural network\n",
    "\n",
    "class baseGCN(torch.nn.Module):\n",
    "    def __init__(self, n_features, embedding_size):\n",
    "        super(baseGCN,self).__init__()\n",
    "        torch.manual_seed(95)\n",
    "        \n",
    "        # Initialise the Base Model Architecture\n",
    "        self.in_conv = GCNConv(n_features, embedding_size)\n",
    "        self.conv1 = GCNConv(embedding_size, embedding_size)\n",
    "        self.conv2 = GCNConv(embedding_size, embedding_size)\n",
    "        self.conv3 = GCNConv(embedding_size, embedding_size)\n",
    "        \n",
    "        # output layer of the Graph Neural Net\n",
    "        self.out = torch.nn.Linear(embedding_size*2, 1)\n",
    "        \n",
    "    def forward(self, x, edge_index, batch_index):\n",
    "        \n",
    "        hidden = self.in_conv(x, edge_index)\n",
    "        hidden = F.tanh(hidden)\n",
    "        \n",
    "        # Graph Message Passing\n",
    "        hidden = self.conv1(hidden, edge_index)\n",
    "        hidden = F.tanh(hidden)\n",
    "        \n",
    "        hidden = self.conv2(hidden, edge_index)\n",
    "        hidden = F.tanh(hidden)\n",
    "        \n",
    "        hidden = self.conv3(hidden, edge_index)\n",
    "        hidden = F.tanh(hidden)\n",
    "        \n",
    "        # Apply Pooling at Graph-level i.e. Global Pooling\n",
    "        # Pooling mechanism to represent the Graph of any number of nodes in to an array of fixed size\n",
    "        # Concatenate the Global Pooling of Mean (G.A.P) & Max (G.M.P) of these features into a single representation\n",
    "        hidden = torch.cat([gmp(hidden, batch_index), gap(hidden, batch_index)], dim=1)\n",
    "        \n",
    "        # Apply a final (linear) regressor\n",
    "        out = self.out(hidden)\n",
    "        \n",
    "        return out, hidden\n",
    "    \n",
    "emb_size = 64\n",
    "baseModel = baseGCN(data.num_features, emb_size)\n",
    "\n",
    "display(baseModel)"
   ]
  },
  {
   "cell_type": "code",
   "execution_count": 7,
   "metadata": {},
   "outputs": [
    {
     "name": "stdout",
     "output_type": "stream",
     "text": [
      "Number of Model Parameters:  13249\n"
     ]
    }
   ],
   "source": [
    "# Summarize the instantiated Base Model\n",
    "print(\"Number of Model Parameters: \", sum(p.numel() for p in baseModel.parameters()))"
   ]
  },
  {
   "cell_type": "markdown",
   "metadata": {},
   "source": [
    "<h3>Compile the <em>baseline</em> model & define the Loss & Optimisation functions</h3>"
   ]
  },
  {
   "cell_type": "code",
   "execution_count": 8,
   "metadata": {},
   "outputs": [
    {
     "name": "stderr",
     "output_type": "stream",
     "text": [
      "C:\\Users\\palin\\Anaconda3\\lib\\site-packages\\torch_geometric\\deprecation.py:12: UserWarning: 'data.DataLoader' is deprecated, use 'loader.DataLoader' instead\n",
      "  warnings.warn(out)\n"
     ]
    }
   ],
   "source": [
    "# Use the GPU for Model training if available\n",
    "device = torch.device(\"cuda:0\" if torch.cuda.is_available() else \"cpu\")\n",
    "baseModel = baseModel.to(device)\n",
    "\n",
    "# Define the Objective Function for Base Model compilation\n",
    "# MSE -> Objective / Loss Funciton\n",
    "loss_function = torch.nn.MSELoss()\n",
    "optimizer = torch.optim.Adam(baseModel.parameters(), lr = 0.0005)\n",
    "\n",
    "# Use Data Loader to collate Data into batches\n",
    "data_size = len(data)\n",
    "batch_size = 64\n",
    "\n",
    "# Pass 75% of the data as Train to the Data Loader\n",
    "train_data_loader = DataLoader(data[:int(data_size * 0.75)], batch_size=batch_size, shuffle=True)\n",
    "\n",
    "# Pass 25% of the data as Test to the Data Loader\n",
    "test_data_loader = DataLoader(data[int(data_size * 0.75):], batch_size=batch_size, shuffle=True)\n",
    "\n",
    "def model_train(data):\n",
    "    \n",
    "    for batch_data in train_data_loader:\n",
    "        \n",
    "        batch_data=batch_data.to(device)\n",
    "        optimizer.zero_grad()\n",
    "        prediction, embedding = baseModel(batch_data.x.float(), batch_data.edge_index, batch_data.batch)\n",
    "        loss_val = loss_function(prediction, batch_data.y)\n",
    "        loss_val.backward()\n",
    "        optimizer.step()\n",
    "    return loss_val, embedding"
   ]
  },
  {
   "cell_type": "markdown",
   "metadata": {},
   "source": [
    "<h4>Train the Baseline Model</h4>"
   ]
  },
  {
   "cell_type": "code",
   "execution_count": 9,
   "metadata": {},
   "outputs": [
    {
     "name": "stderr",
     "output_type": "stream",
     "text": [
      "C:\\Users\\palin\\Anaconda3\\lib\\site-packages\\torch\\nn\\functional.py:1795: UserWarning: nn.functional.tanh is deprecated. Use torch.tanh instead.\n",
      "  warnings.warn(\"nn.functional.tanh is deprecated. Use torch.tanh instead.\")\n"
     ]
    },
    {
     "name": "stdout",
     "output_type": "stream",
     "text": [
      "Completed Epochs: 0 -> Loss: 3.5793051719665527\n",
      "Completed Epochs: 100 -> Loss: 2.4431710243225098\n",
      "Completed Epochs: 200 -> Loss: 1.113114833831787\n",
      "Completed Epochs: 300 -> Loss: 0.6751129627227783\n",
      "Completed Epochs: 400 -> Loss: 0.2598721981048584\n",
      "Completed Epochs: 500 -> Loss: 0.28296300768852234\n",
      "Completed Epochs: 600 -> Loss: 0.22908064723014832\n",
      "Completed Epochs: 700 -> Loss: 0.19578172266483307\n",
      "Completed Epochs: 800 -> Loss: 0.4741448163986206\n",
      "Completed Epochs: 900 -> Loss: 0.37046024203300476\n",
      "Completed Epochs: 1000 -> Loss: 0.21676291525363922\n",
      "Completed Epochs: 1100 -> Loss: 0.1741177886724472\n",
      "Completed Epochs: 1200 -> Loss: 0.5745912790298462\n",
      "Completed Epochs: 1300 -> Loss: 0.1163138821721077\n",
      "Completed Epochs: 1400 -> Loss: 0.12129074335098267\n",
      "Completed Epochs: 1500 -> Loss: 0.22089046239852905\n",
      "Completed Epochs: 1600 -> Loss: 0.10361021012067795\n",
      "Completed Epochs: 1700 -> Loss: 0.1024099662899971\n",
      "Completed Epochs: 1800 -> Loss: 0.07872648537158966\n",
      "Completed Epochs: 1900 -> Loss: 0.16129915416240692\n",
      "Completed Epochs: 2000 -> Loss: 0.27694663405418396\n",
      "Completed Epochs: 2100 -> Loss: 0.2022724449634552\n",
      "Completed Epochs: 2200 -> Loss: 0.10415931046009064\n",
      "Completed Epochs: 2300 -> Loss: 0.04590589553117752\n",
      "Completed Epochs: 2400 -> Loss: 0.11573132872581482\n"
     ]
    }
   ],
   "source": [
    "epochs = 2500\n",
    "hist_loss = []\n",
    "\n",
    "for epoch in range(epochs):\n",
    "    loss, h = model_train(data)\n",
    "    hist_loss.append(loss)\n",
    "    if epoch%100 == 0:\n",
    "        print(\"Completed Epochs: {} -> Loss: {}\".format(epoch, loss))"
   ]
  },
  {
   "cell_type": "code",
   "execution_count": 11,
   "metadata": {},
   "outputs": [],
   "source": [
    "# Save the Trained Model\n",
    "torch.save(baseModel, \"./models/ESOL_baseModel.pth\")"
   ]
  },
  {
   "cell_type": "markdown",
   "metadata": {},
   "source": [
    "<h3>Inspect the Loss Curve over successive Train Epochs</h3>"
   ]
  },
  {
   "cell_type": "code",
   "execution_count": 10,
   "metadata": {},
   "outputs": [
    {
     "data": {
      "text/plain": [
       "<matplotlib.axes._subplots.AxesSubplot at 0x21fcdd82808>"
      ]
     },
     "execution_count": 10,
     "metadata": {},
     "output_type": "execute_result"
    },
    {
     "data": {
      "image/png": "[encoded data removed]",
      "text/plain": [
       "<Figure size 432x288 with 1 Axes>"
      ]
     },
     "metadata": {
      "needs_background": "light"
     },
     "output_type": "display_data"
    }
   ],
   "source": [
    "%matplotlib inline\n",
    "\n",
    "# Baseline Model was trained over 2500 epochs\n",
    "hist_losses = [float(loss.cpu().detach().numpy()) for loss in hist_loss[:]]\n",
    "loss_index = [i for i in range(len(hist_losses))]\n",
    "\n",
    "plt = sns.lineplot(loss_index, hist_losses)\n",
    "plt"
   ]
  },
  {
   "cell_type": "markdown",
   "metadata": {},
   "source": [
    "<h3>Evaluate the Model over a Validation Dataset</h3>"
   ]
  },
  {
   "cell_type": "code",
   "execution_count": 21,
   "metadata": {},
   "outputs": [],
   "source": [
    "# Obtaining The test predictions - Load the Stored baseline model\n",
    "model_save_path = \"./models/ESOL_baseModel.pth\"\n",
    "base_model= torch.load( model_save_path )\n",
    "device = torch.device(\"cuda:0\" if torch.cuda.is_available() else \"cpu\")\n",
    "base_model = base_model.to(device)"
   ]
  },
  {
   "cell_type": "markdown",
   "metadata": {},
   "source": [
    "<h4>Obtain relevant predictions on the validation dataset</h4>"
   ]
  },
  {
   "cell_type": "code",
   "execution_count": 22,
   "metadata": {},
   "outputs": [
    {
     "name": "stderr",
     "output_type": "stream",
     "text": [
      "C:\\Users\\palin\\Anaconda3\\lib\\site-packages\\torch\\nn\\functional.py:1795: UserWarning: nn.functional.tanh is deprecated. Use torch.tanh instead.\n",
      "  warnings.warn(\"nn.functional.tanh is deprecated. Use torch.tanh instead.\")\n"
     ]
    },
    {
     "data": {
      "text/html": [
       "<div>\n",
       "<style scoped>\n",
       "    .dataframe tbody tr th:only-of-type {\n",
       "        vertical-align: middle;\n",
       "    }\n",
       "\n",
       "    .dataframe tbody tr th {\n",
       "        vertical-align: top;\n",
       "    }\n",
       "\n",
       "    .dataframe thead th {\n",
       "        text-align: right;\n",
       "    }\n",
       "</style>\n",
       "<table border=\"1\" class=\"dataframe\">\n",
       "  <thead>\n",
       "    <tr style=\"text-align: right;\">\n",
       "      <th></th>\n",
       "      <th>y_truth</th>\n",
       "      <th>y_predict</th>\n",
       "    </tr>\n",
       "  </thead>\n",
       "  <tbody>\n",
       "    <tr>\n",
       "      <th>0</th>\n",
       "      <td>-3.59</td>\n",
       "      <td>-5.357649</td>\n",
       "    </tr>\n",
       "    <tr>\n",
       "      <th>1</th>\n",
       "      <td>-0.17</td>\n",
       "      <td>-1.843094</td>\n",
       "    </tr>\n",
       "    <tr>\n",
       "      <th>2</th>\n",
       "      <td>-0.85</td>\n",
       "      <td>-0.854907</td>\n",
       "    </tr>\n",
       "    <tr>\n",
       "      <th>3</th>\n",
       "      <td>-3.10</td>\n",
       "      <td>-3.829373</td>\n",
       "    </tr>\n",
       "    <tr>\n",
       "      <th>4</th>\n",
       "      <td>-2.21</td>\n",
       "      <td>-2.132792</td>\n",
       "    </tr>\n",
       "    <tr>\n",
       "      <th>...</th>\n",
       "      <td>...</td>\n",
       "      <td>...</td>\n",
       "    </tr>\n",
       "    <tr>\n",
       "      <th>59</th>\n",
       "      <td>-3.15</td>\n",
       "      <td>-2.974726</td>\n",
       "    </tr>\n",
       "    <tr>\n",
       "      <th>60</th>\n",
       "      <td>-5.24</td>\n",
       "      <td>-5.256596</td>\n",
       "    </tr>\n",
       "    <tr>\n",
       "      <th>61</th>\n",
       "      <td>-1.01</td>\n",
       "      <td>-1.509138</td>\n",
       "    </tr>\n",
       "    <tr>\n",
       "      <th>62</th>\n",
       "      <td>0.51</td>\n",
       "      <td>0.150229</td>\n",
       "    </tr>\n",
       "    <tr>\n",
       "      <th>63</th>\n",
       "      <td>-2.34</td>\n",
       "      <td>-2.290824</td>\n",
       "    </tr>\n",
       "  </tbody>\n",
       "</table>\n",
       "<p>64 rows × 2 columns</p>\n",
       "</div>"
      ],
      "text/plain": [
       "    y_truth  y_predict\n",
       "0     -3.59  -5.357649\n",
       "1     -0.17  -1.843094\n",
       "2     -0.85  -0.854907\n",
       "3     -3.10  -3.829373\n",
       "4     -2.21  -2.132792\n",
       "..      ...        ...\n",
       "59    -3.15  -2.974726\n",
       "60    -5.24  -5.256596\n",
       "61    -1.01  -1.509138\n",
       "62     0.51   0.150229\n",
       "63    -2.34  -2.290824\n",
       "\n",
       "[64 rows x 2 columns]"
      ]
     },
     "metadata": {},
     "output_type": "display_data"
    }
   ],
   "source": [
    "test_batch_data = next(iter(test_data_loader))\n",
    "\n",
    "with torch.no_grad():\n",
    "    test_batch_data = test_batch_data.to(device)\n",
    "    prediction, embedding = base_model(test_batch_data.x.float(), test_batch_data.edge_index, test_batch_data.batch)\n",
    "    df = pd.DataFrame()\n",
    "    df['y_truth'] = test_batch_data.y.tolist()\n",
    "    df['y_predict'] = prediction.tolist()\n",
    "\n",
    "df['y_truth'] = df['y_truth'].apply(lambda row: row[0])\n",
    "df['y_predict'] = df['y_predict'].apply(lambda row: row[0])\n",
    "display(df)"
   ]
  },
  {
   "cell_type": "markdown",
   "metadata": {},
   "source": [
    "<hr style=\"border:3px double blue;\"></hr>\n",
    "<h3>Inspect Model Performance on Test Data</h3>\n",
    "\n",
    "Since this is a <b>Regression Problem</b> with a single target variable, a model which gives predicted value for solubility as close to the <em>target variable</em> as possible is the one which is most desireable. So if we use <b><em>('Ground-Truth', 'Prediction')</em></b> as absicca - ordinate pair to define a data-point & plot it on a cartesian plane i.e. <em>X = \"Ground-Truth\" | Y = \"Prediction\"</em> - an ideal model's prediction would return a line <u>close to</u> (<em>but not exactly</em>) <b>X ≈ Y</b> i.e. <b><em>\"Prediction\" ≈ \"Ground-Truth\"</em></b>.\n",
    "\n",
    "<b>NOTE: </b>Identity Line, <em><b>X = Y</b></em> is shown in <span style=\"color: red\">red</span>."
   ]
  },
  {
   "cell_type": "code",
   "execution_count": 28,
   "metadata": {},
   "outputs": [
    {
     "data": {
      "text/plain": [
       "<matplotlib.axes._subplots.AxesSubplot at 0x1d5de83db48>"
      ]
     },
     "execution_count": 28,
     "metadata": {},
     "output_type": "execute_result"
    },
    {
     "data": {
      "image/png": "[encoded data removed]",
      "text/plain": [
       "<Figure size 432x288 with 1 Axes>"
      ]
     },
     "metadata": {
      "needs_background": "light"
     },
     "output_type": "display_data"
    }
   ],
   "source": [
    "%matplotlib inline\n",
    "\n",
    "plot=sns.scatterplot(data=df, x=\"y_truth\", y=\"y_predict\")\n",
    "sns.lineplot([-12, 2], [-12, 2], color=\"r\", dashes=[(2, 2)])\n",
    "plot.set(xlim=(-10, 1.5))\n",
    "plot.set(ylim=(-10, 1.5))\n",
    "\n",
    "plot"
   ]
  },
  {
   "cell_type": "markdown",
   "metadata": {},
   "source": [
    "<h4>Inspect Baseline-Model Performance on the entire dataset</h4>"
   ]
  },
  {
   "cell_type": "code",
   "execution_count": 3,
   "metadata": {},
   "outputs": [],
   "source": [
    "def all_data_eval(data, model, device=torch.device(\"cuda:0\" if torch.cuda.is_available() else \"cpu\") ):\n",
    "    all_data = DataLoader(data, batch_size=batch_size, shuffle=True)\n",
    "    # all_data_iter = next(iter(all_data))\n",
    "    df = {'y_truth': [], 'y_predict': []}\n",
    "    with torch.no_grad():\n",
    "        for all_data_batch in all_data:\n",
    "            all_data_batch = all_data_batch.to(device)\n",
    "            prediction, embedding = model(all_data_batch.x.float(), all_data_batch.edge_index, all_data_batch.batch)\n",
    "\n",
    "            df['y_truth']+= all_data_batch.y.tolist()\n",
    "            df['y_predict']+= prediction.tolist()\n",
    "    \n",
    "    df = pd.DataFrame(df)\n",
    "    df['y_truth'] = df['y_truth'].apply(lambda row: row[0])\n",
    "    df['y_predict'] = df['y_predict'].apply(lambda row: row[0])\n",
    "    \n",
    "    return df"
   ]
  },
  {
   "cell_type": "code",
   "execution_count": 30,
   "metadata": {},
   "outputs": [
    {
     "name": "stderr",
     "output_type": "stream",
     "text": [
      "C:\\Users\\palin\\Anaconda3\\lib\\site-packages\\torch_geometric\\deprecation.py:12: UserWarning: 'data.DataLoader' is deprecated, use 'loader.DataLoader' instead\n",
      "  warnings.warn(out)\n",
      "C:\\Users\\palin\\Anaconda3\\lib\\site-packages\\torch\\nn\\functional.py:1795: UserWarning: nn.functional.tanh is deprecated. Use torch.tanh instead.\n",
      "  warnings.warn(\"nn.functional.tanh is deprecated. Use torch.tanh instead.\")\n"
     ]
    },
    {
     "data": {
      "text/html": [
       "<div>\n",
       "<style scoped>\n",
       "    .dataframe tbody tr th:only-of-type {\n",
       "        vertical-align: middle;\n",
       "    }\n",
       "\n",
       "    .dataframe tbody tr th {\n",
       "        vertical-align: top;\n",
       "    }\n",
       "\n",
       "    .dataframe thead th {\n",
       "        text-align: right;\n",
       "    }\n",
       "</style>\n",
       "<table border=\"1\" class=\"dataframe\">\n",
       "  <thead>\n",
       "    <tr style=\"text-align: right;\">\n",
       "      <th></th>\n",
       "      <th>y_truth</th>\n",
       "      <th>y_predict</th>\n",
       "    </tr>\n",
       "  </thead>\n",
       "  <tbody>\n",
       "    <tr>\n",
       "      <th>0</th>\n",
       "      <td>1.120</td>\n",
       "      <td>1.167301</td>\n",
       "    </tr>\n",
       "    <tr>\n",
       "      <th>1</th>\n",
       "      <td>-3.730</td>\n",
       "      <td>-3.542468</td>\n",
       "    </tr>\n",
       "    <tr>\n",
       "      <th>2</th>\n",
       "      <td>0.740</td>\n",
       "      <td>0.827182</td>\n",
       "    </tr>\n",
       "    <tr>\n",
       "      <th>3</th>\n",
       "      <td>-1.230</td>\n",
       "      <td>-1.288209</td>\n",
       "    </tr>\n",
       "    <tr>\n",
       "      <th>4</th>\n",
       "      <td>-3.140</td>\n",
       "      <td>-3.078417</td>\n",
       "    </tr>\n",
       "    <tr>\n",
       "      <th>...</th>\n",
       "      <td>...</td>\n",
       "      <td>...</td>\n",
       "    </tr>\n",
       "    <tr>\n",
       "      <th>1123</th>\n",
       "      <td>-2.658</td>\n",
       "      <td>-2.424474</td>\n",
       "    </tr>\n",
       "    <tr>\n",
       "      <th>1124</th>\n",
       "      <td>0.540</td>\n",
       "      <td>0.564313</td>\n",
       "    </tr>\n",
       "    <tr>\n",
       "      <th>1125</th>\n",
       "      <td>-2.560</td>\n",
       "      <td>-2.635663</td>\n",
       "    </tr>\n",
       "    <tr>\n",
       "      <th>1126</th>\n",
       "      <td>-6.620</td>\n",
       "      <td>-6.722585</td>\n",
       "    </tr>\n",
       "    <tr>\n",
       "      <th>1127</th>\n",
       "      <td>-3.400</td>\n",
       "      <td>-3.212191</td>\n",
       "    </tr>\n",
       "  </tbody>\n",
       "</table>\n",
       "<p>1128 rows × 2 columns</p>\n",
       "</div>"
      ],
      "text/plain": [
       "      y_truth  y_predict\n",
       "0       1.120   1.167301\n",
       "1      -3.730  -3.542468\n",
       "2       0.740   0.827182\n",
       "3      -1.230  -1.288209\n",
       "4      -3.140  -3.078417\n",
       "...       ...        ...\n",
       "1123   -2.658  -2.424474\n",
       "1124    0.540   0.564313\n",
       "1125   -2.560  -2.635663\n",
       "1126   -6.620  -6.722585\n",
       "1127   -3.400  -3.212191\n",
       "\n",
       "[1128 rows x 2 columns]"
      ]
     },
     "execution_count": 30,
     "metadata": {},
     "output_type": "execute_result"
    }
   ],
   "source": [
    "base_pred_df = all_data_eval(data, base_model)\n",
    "base_pred_df"
   ]
  },
  {
   "cell_type": "code",
   "execution_count": 31,
   "metadata": {},
   "outputs": [
    {
     "name": "stdout",
     "output_type": "stream",
     "text": [
      "MSE of the Base Model predictions over the entire dataset: 0.21219844920930298 | Mean Absolute Error: 0.24474308388439794\n"
     ]
    },
    {
     "data": {
      "text/plain": [
       "<matplotlib.axes._subplots.AxesSubplot at 0x1d5edd8c248>"
      ]
     },
     "execution_count": 31,
     "metadata": {},
     "output_type": "execute_result"
    },
    {
     "data": {
      "image/png": "[encoded data removed]",
      "text/plain": [
       "<Figure size 432x288 with 1 Axes>"
      ]
     },
     "metadata": {
      "needs_background": "light"
     },
     "output_type": "display_data"
    }
   ],
   "source": [
    "%matplotlib inline\n",
    "\n",
    "print(\"MSE of the Base Model predictions over the entire dataset: {} | Mean Absolute Error: {}\".format(\n",
    "                                                                  mean_squared_error(base_pred_df.y_truth, base_pred_df.y_predict),\n",
    "                                                                  mean_absolute_error(base_pred_df.y_truth, base_pred_df.y_predict)\n",
    "                                                                                                  )\n",
    "     )\n",
    "\n",
    "plot=sns.scatterplot(data=base_pred_df, x=\"y_truth\", y=\"y_predict\")\n",
    "sns.lineplot([-12, 2], [-12, 2], color=\"r\")\n",
    "plot.set(xlim=(-12, 2))\n",
    "plot.set(ylim=(-12, 2))\n",
    "\n",
    "plot"
   ]
  },
  {
   "cell_type": "markdown",
   "metadata": {},
   "source": [
    "<h4>Baseline Model Performance Observation -</h4>\n",
    "\n",
    "The Baseline Model perform surprisingly well with an <b>MSE</b> of <em>0.212</em>. While inspecting the plot with each datapoints' absicca & ordinate values given as<em>x = \"Ground-Truth\" | y = \"Prediction\")</em>, it can be observed that the plot could be more condensed to a straigth line <em>(X=Y)</em> with a couple of <em>straggler</em> data-points which can be better predicted with a more refined model."
   ]
  },
  {
   "cell_type": "markdown",
   "metadata": {},
   "source": [
    "<h3>Building a refined Model & Evaluting its Performance</h3>\n",
    "\n",
    "Before instantiating the refined model, we need to figure out a <b>Learning-Rate Scheduler</b> which decays the learning-rate over successive epochs."
   ]
  },
  {
   "cell_type": "code",
   "execution_count": 6,
   "metadata": {},
   "outputs": [
    {
     "data": {
      "text/plain": [
       "<matplotlib.axes._subplots.AxesSubplot at 0x2052b5737c8>"
      ]
     },
     "execution_count": 6,
     "metadata": {},
     "output_type": "execute_result"
    },
    {
     "data": {
      "image/png": "[encoded data removed]",
      "text/plain": [
       "<Figure size 432x288 with 1 Axes>"
      ]
     },
     "metadata": {
      "needs_background": "light"
     },
     "output_type": "display_data"
    }
   ],
   "source": [
    "%matplotlib inline\n",
    "\n",
    "a = []\n",
    "# intial value of the Learning-rate\n",
    "initLR = 0.001\n",
    "\n",
    "for epo in range(5000):\n",
    "    a.append( initLR*(np.e**(-epo/20000)) )\n",
    "\n",
    "# plot the learning rate value over successive epochs as it decays over time\n",
    "pd.DataFrame({'a' : a}).plot()"
   ]
  },
  {
   "cell_type": "code",
   "execution_count": 5,
   "metadata": {},
   "outputs": [
    {
     "data": {
      "text/plain": [
       "esolModel(\n",
       "  (in_conv): GCNConv(9, 64)\n",
       "  (conv1): GATv2Conv(64, 64, heads=4)\n",
       "  (gnorm): GraphNorm(64)\n",
       "  (conv2): GCNConv(64, 64)\n",
       "  (gnorm2): GraphNorm(64)\n",
       "  (conv3): GCNConv(64, 64)\n",
       "  (conv4): GCNConv(64, 64)\n",
       "  (out): Linear(in_features=128, out_features=1, bias=True)\n",
       ")"
      ]
     },
     "metadata": {},
     "output_type": "display_data"
    },
    {
     "name": "stdout",
     "output_type": "stream",
     "text": [
      "Number of Model Parameters:  47233\n"
     ]
    }
   ],
   "source": [
    "emb_size = 64\n",
    "device = torch.device(\"cuda:0\" if torch.cuda.is_available() else \"cpu\")\n",
    "model = esolModel(data.num_features, emb_size)\n",
    "model = model.to(device)\n",
    "\n",
    "display(model)\n",
    "# Summarize the instantiated Model\n",
    "print(\"Number of Model Parameters: \", sum(m.numel() for m in model.parameters()))"
   ]
  },
  {
   "cell_type": "markdown",
   "metadata": {},
   "source": [
    "The <em>refined model</em> has more than <b>twice</b> the number of learnable parameters as the <b><em>Base Model</em></b>.\n",
    "\n",
    "<hr style=\"border: 3px double blue;\"></hr>\n",
    "\n",
    "<h3>Compile & Train the Model</h3>"
   ]
  },
  {
   "cell_type": "code",
   "execution_count": 7,
   "metadata": {},
   "outputs": [
    {
     "name": "stderr",
     "output_type": "stream",
     "text": [
      "C:\\Users\\palin\\Anaconda3\\lib\\site-packages\\torch_geometric\\deprecation.py:12: UserWarning: 'data.DataLoader' is deprecated, use 'loader.DataLoader' instead\n",
      "  warnings.warn(out)\n"
     ]
    }
   ],
   "source": [
    "# Use the GPU for Model training if available\n",
    "# MSE -> Objective / Loss Funciton\n",
    "loss_function = torch.nn.MSELoss()\n",
    "optimizer = torch.optim.Adam(model.parameters(), lr = 0.0005)\n",
    "num_epochs = 5000\n",
    "decay_const = 4.5*num_epochs\n",
    "\n",
    "lr_schedule = lambda epoch: (np.e)**(-epoch/decay_const)\n",
    "scheduler = torch.optim.lr_scheduler.LambdaLR(optimizer, lr_lambda=lr_schedule)\n",
    "\n",
    "# Use Data Loader to collate Data into batches\n",
    "data_size = len(data)\n",
    "batch_size = 64\n",
    "\n",
    "# Pass 75% of the data as Train to the Data Loader\n",
    "train_data_loader = DataLoader(data[:int(data_size * 0.75)], batch_size=batch_size, shuffle=True)\n",
    "\n",
    "# Pass 25% of the data as Test to the Data Loader\n",
    "test_data_loader = DataLoader(data[int(data_size * 0.75):], batch_size=batch_size, shuffle=True)\n",
    "\n",
    "def model_train(data):\n",
    "    \n",
    "    for batch_data in train_data_loader:\n",
    "        \n",
    "        batch_data=batch_data.to(device)\n",
    "        optimizer.zero_grad()\n",
    "        prediction, embedding = model(batch_data.x.float(), batch_data.edge_index, batch_data.batch)\n",
    "        loss_val = loss_function(prediction, batch_data.y)\n",
    "        loss_val.backward()\n",
    "        \n",
    "        optimizer.step()\n",
    "        \n",
    "    return loss_val, embedding"
   ]
  },
  {
   "cell_type": "code",
   "execution_count": 8,
   "metadata": {},
   "outputs": [
    {
     "name": "stderr",
     "output_type": "stream",
     "text": [
      "C:\\Users\\palin\\Anaconda3\\lib\\site-packages\\torch\\nn\\functional.py:1795: UserWarning: nn.functional.tanh is deprecated. Use torch.tanh instead.\n",
      "  warnings.warn(\"nn.functional.tanh is deprecated. Use torch.tanh instead.\")\n"
     ]
    },
    {
     "name": "stdout",
     "output_type": "stream",
     "text": [
      "Completed Epochs: 0 -> Loss: 4.633730411529541\n",
      "Completed Epochs: 100 -> Loss: 1.6038485765457153\n",
      "Completed Epochs: 200 -> Loss: 0.5125581622123718\n",
      "Completed Epochs: 300 -> Loss: 0.2636226713657379\n",
      "Completed Epochs: 400 -> Loss: 0.14102110266685486\n",
      "Completed Epochs: 500 -> Loss: 0.13448098301887512\n",
      "Completed Epochs: 600 -> Loss: 0.047903046011924744\n",
      "Completed Epochs: 700 -> Loss: 0.040809184312820435\n",
      "Completed Epochs: 800 -> Loss: 0.03769299015402794\n",
      "Completed Epochs: 900 -> Loss: 0.21341626346111298\n",
      "Completed Epochs: 1000 -> Loss: 0.037583693861961365\n",
      "Completed Epochs: 1100 -> Loss: 0.07403724640607834\n",
      "Completed Epochs: 1200 -> Loss: 0.1523086279630661\n",
      "Completed Epochs: 1300 -> Loss: 0.013843780383467674\n",
      "Completed Epochs: 1400 -> Loss: 0.06211886554956436\n",
      "Completed Epochs: 1500 -> Loss: 0.02931373193860054\n",
      "Completed Epochs: 1600 -> Loss: 0.05154039338231087\n",
      "Completed Epochs: 1700 -> Loss: 0.026229839771986008\n",
      "Completed Epochs: 1800 -> Loss: 0.007462234701961279\n",
      "Completed Epochs: 1900 -> Loss: 0.013662640936672688\n",
      "Completed Epochs: 2000 -> Loss: 0.03378399461507797\n",
      "Completed Epochs: 2100 -> Loss: 0.028834465891122818\n",
      "Completed Epochs: 2200 -> Loss: 0.009236267767846584\n",
      "Completed Epochs: 2300 -> Loss: 0.03165874257683754\n",
      "Completed Epochs: 2400 -> Loss: 0.020648382604122162\n",
      "Completed Epochs: 2500 -> Loss: 0.010165050625801086\n",
      "Completed Epochs: 2600 -> Loss: 0.023495828732848167\n",
      "Completed Epochs: 2700 -> Loss: 0.08172400295734406\n",
      "Completed Epochs: 2800 -> Loss: 0.020279088988900185\n",
      "Completed Epochs: 2900 -> Loss: 0.014304076321423054\n",
      "Completed Epochs: 3000 -> Loss: 0.01657840423285961\n",
      "Completed Epochs: 3100 -> Loss: 0.05347267538309097\n",
      "Completed Epochs: 3200 -> Loss: 0.015669647604227066\n",
      "Completed Epochs: 3300 -> Loss: 0.004649443086236715\n",
      "Completed Epochs: 3400 -> Loss: 0.013344609178602695\n",
      "Completed Epochs: 3500 -> Loss: 0.012006676755845547\n",
      "Completed Epochs: 3600 -> Loss: 0.00853284914046526\n",
      "Completed Epochs: 3700 -> Loss: 0.015296872705221176\n",
      "Completed Epochs: 3800 -> Loss: 0.01239884551614523\n",
      "Completed Epochs: 3900 -> Loss: 0.008272439241409302\n",
      "Completed Epochs: 4000 -> Loss: 0.005832189228385687\n",
      "Completed Epochs: 4100 -> Loss: 0.01196039654314518\n",
      "Completed Epochs: 4200 -> Loss: 0.004111026413738728\n",
      "Completed Epochs: 4300 -> Loss: 0.005470163654536009\n",
      "Completed Epochs: 4400 -> Loss: 0.01676117070019245\n",
      "Completed Epochs: 4500 -> Loss: 0.005434074439108372\n",
      "Completed Epochs: 4600 -> Loss: 0.0038777149748057127\n",
      "Completed Epochs: 4700 -> Loss: 0.043210212141275406\n",
      "Completed Epochs: 4800 -> Loss: 0.009169518947601318\n",
      "Completed Epochs: 4900 -> Loss: 0.005182074382901192\n"
     ]
    }
   ],
   "source": [
    "hist_loss = []\n",
    "\n",
    "for epoch in range(num_epochs):\n",
    "    loss, _ = model_train(data)\n",
    "    hist_loss.append(loss)\n",
    "    if epoch%100 == 0:\n",
    "        print(\"Completed Epochs: {} -> Loss: {}\".format(epoch, loss))\n",
    "    scheduler.step()"
   ]
  },
  {
   "cell_type": "markdown",
   "metadata": {},
   "source": [
    "<h4>Inspect the Loss over successive train-epochs</h4>"
   ]
  },
  {
   "cell_type": "code",
   "execution_count": 11,
   "metadata": {},
   "outputs": [
    {
     "data": {
      "text/plain": [
       "<matplotlib.axes._subplots.AxesSubplot at 0x20533d2e188>"
      ]
     },
     "execution_count": 11,
     "metadata": {},
     "output_type": "execute_result"
    },
    {
     "data": {
      "image/png": "[encoded data removed]",
      "text/plain": [
       "<Figure size 432x288 with 1 Axes>"
      ]
     },
     "metadata": {
      "needs_background": "light"
     },
     "output_type": "display_data"
    }
   ],
   "source": [
    "%matplotlib inline\n",
    "\n",
    "# Inspect the model Loss\n",
    "hist_losses = [float(loss.cpu().detach().numpy()) for loss in hist_loss]\n",
    "loss_index = [i for i in range(len(hist_losses))]\n",
    "\n",
    "plt = sns.lineplot(loss_index, hist_losses)\n",
    "plt"
   ]
  },
  {
   "cell_type": "code",
   "execution_count": 17,
   "metadata": {},
   "outputs": [],
   "source": [
    "# save the Model\n",
    "#torch.save(model, \"./models/ESOL_betaModel.pth\")\n",
    "torch.save(model, \"./models/ESOL_betaModel_v2.0.pth\")"
   ]
  },
  {
   "cell_type": "markdown",
   "metadata": {},
   "source": [
    "<h3>Obtain & Inspect predictions over the Test Dataset</h3>"
   ]
  },
  {
   "cell_type": "code",
   "execution_count": 12,
   "metadata": {},
   "outputs": [
    {
     "name": "stderr",
     "output_type": "stream",
     "text": [
      "C:\\Users\\palin\\Anaconda3\\lib\\site-packages\\torch\\nn\\functional.py:1795: UserWarning: nn.functional.tanh is deprecated. Use torch.tanh instead.\n",
      "  warnings.warn(\"nn.functional.tanh is deprecated. Use torch.tanh instead.\")\n"
     ]
    },
    {
     "data": {
      "text/html": [
       "<div>\n",
       "<style scoped>\n",
       "    .dataframe tbody tr th:only-of-type {\n",
       "        vertical-align: middle;\n",
       "    }\n",
       "\n",
       "    .dataframe tbody tr th {\n",
       "        vertical-align: top;\n",
       "    }\n",
       "\n",
       "    .dataframe thead th {\n",
       "        text-align: right;\n",
       "    }\n",
       "</style>\n",
       "<table border=\"1\" class=\"dataframe\">\n",
       "  <thead>\n",
       "    <tr style=\"text-align: right;\">\n",
       "      <th></th>\n",
       "      <th>y_truth</th>\n",
       "      <th>y_predict</th>\n",
       "    </tr>\n",
       "  </thead>\n",
       "  <tbody>\n",
       "    <tr>\n",
       "      <th>0</th>\n",
       "      <td>-6.680</td>\n",
       "      <td>-7.194107</td>\n",
       "    </tr>\n",
       "    <tr>\n",
       "      <th>1</th>\n",
       "      <td>-3.246</td>\n",
       "      <td>-3.050872</td>\n",
       "    </tr>\n",
       "    <tr>\n",
       "      <th>2</th>\n",
       "      <td>-4.445</td>\n",
       "      <td>-5.349409</td>\n",
       "    </tr>\n",
       "    <tr>\n",
       "      <th>3</th>\n",
       "      <td>-7.820</td>\n",
       "      <td>-8.340064</td>\n",
       "    </tr>\n",
       "    <tr>\n",
       "      <th>4</th>\n",
       "      <td>-5.230</td>\n",
       "      <td>-3.740345</td>\n",
       "    </tr>\n",
       "    <tr>\n",
       "      <th>...</th>\n",
       "      <td>...</td>\n",
       "      <td>...</td>\n",
       "    </tr>\n",
       "    <tr>\n",
       "      <th>59</th>\n",
       "      <td>-1.790</td>\n",
       "      <td>-1.623713</td>\n",
       "    </tr>\n",
       "    <tr>\n",
       "      <th>60</th>\n",
       "      <td>-0.670</td>\n",
       "      <td>-0.948405</td>\n",
       "    </tr>\n",
       "    <tr>\n",
       "      <th>61</th>\n",
       "      <td>-4.799</td>\n",
       "      <td>-4.055529</td>\n",
       "    </tr>\n",
       "    <tr>\n",
       "      <th>62</th>\n",
       "      <td>-3.500</td>\n",
       "      <td>-2.897092</td>\n",
       "    </tr>\n",
       "    <tr>\n",
       "      <th>63</th>\n",
       "      <td>-2.460</td>\n",
       "      <td>-3.023239</td>\n",
       "    </tr>\n",
       "  </tbody>\n",
       "</table>\n",
       "<p>64 rows × 2 columns</p>\n",
       "</div>"
      ],
      "text/plain": [
       "    y_truth  y_predict\n",
       "0    -6.680  -7.194107\n",
       "1    -3.246  -3.050872\n",
       "2    -4.445  -5.349409\n",
       "3    -7.820  -8.340064\n",
       "4    -5.230  -3.740345\n",
       "..      ...        ...\n",
       "59   -1.790  -1.623713\n",
       "60   -0.670  -0.948405\n",
       "61   -4.799  -4.055529\n",
       "62   -3.500  -2.897092\n",
       "63   -2.460  -3.023239\n",
       "\n",
       "[64 rows x 2 columns]"
      ]
     },
     "metadata": {},
     "output_type": "display_data"
    }
   ],
   "source": [
    "model = torch.load(\"./models/ESOL_betaModel_v2.0.pth\")\n",
    "device = torch.device(\"cuda:0\" if torch.cuda.is_available() else \"cpu\")\n",
    "model = model.to(device)\n",
    "\n",
    "test_batch_data = next(iter(test_data_loader))\n",
    "\n",
    "with torch.no_grad():\n",
    "    test_batch_data = test_batch_data.to(device)\n",
    "    prediction, embedding = model(test_batch_data.x.float(), test_batch_data.edge_index, test_batch_data.batch)\n",
    "    df = pd.DataFrame()\n",
    "    df['y_truth'] = test_batch_data.y.tolist()\n",
    "    df['y_predict'] = prediction.tolist()\n",
    "\n",
    "df['y_truth'] = df['y_truth'].apply(lambda row: row[0])\n",
    "df['y_predict'] = df['y_predict'].apply(lambda row: row[0])\n",
    "display(df)"
   ]
  },
  {
   "cell_type": "code",
   "execution_count": 13,
   "metadata": {},
   "outputs": [
    {
     "name": "stdout",
     "output_type": "stream",
     "text": [
      "Range of the Predicted variable -> Min: -8.872827529907227 | Max: 1.0390598773956299\n",
      "Range of the Target variable -> Min: -7.820000171661377 | Max: 1.1440000534057617\n"
     ]
    }
   ],
   "source": [
    "print(\"Range of the Predicted variable -> Min: {} | Max: {}\".format(df.y_predict.min(), df.y_predict.max()))\n",
    "print(\"Range of the Target variable -> Min: {} | Max: {}\".format(df.y_truth.min(), df.y_truth.max()))"
   ]
  },
  {
   "cell_type": "code",
   "execution_count": 74,
   "metadata": {},
   "outputs": [
    {
     "data": {
      "text/plain": [
       "<matplotlib.axes._subplots.AxesSubplot at 0x2747f2bf588>"
      ]
     },
     "execution_count": 74,
     "metadata": {},
     "output_type": "execute_result"
    },
    {
     "data": {
      "image/png": "[encoded data removed]",
      "text/plain": [
       "<Figure size 432x288 with 1 Axes>"
      ]
     },
     "metadata": {
      "needs_background": "light"
     },
     "output_type": "display_data"
    }
   ],
   "source": [
    "%matplotlib inline\n",
    "\n",
    "plot=sns.scatterplot(data=df, x=\"y_truth\", y=\"y_predict\")\n",
    "\n",
    "plot.set(xlim=(-10, 2))\n",
    "plot.set(ylim=(-10, 2))\n",
    "\n",
    "plot"
   ]
  },
  {
   "cell_type": "markdown",
   "metadata": {},
   "source": [
    "<h3>Inspect Model Predictions for the Entire Dataset</h3>"
   ]
  },
  {
   "cell_type": "code",
   "execution_count": 15,
   "metadata": {},
   "outputs": [
    {
     "name": "stderr",
     "output_type": "stream",
     "text": [
      "C:\\Users\\palin\\Anaconda3\\lib\\site-packages\\torch_geometric\\deprecation.py:12: UserWarning: 'data.DataLoader' is deprecated, use 'loader.DataLoader' instead\n",
      "  warnings.warn(out)\n",
      "C:\\Users\\palin\\Anaconda3\\lib\\site-packages\\torch\\nn\\functional.py:1795: UserWarning: nn.functional.tanh is deprecated. Use torch.tanh instead.\n",
      "  warnings.warn(\"nn.functional.tanh is deprecated. Use torch.tanh instead.\")\n"
     ]
    },
    {
     "name": "stdout",
     "output_type": "stream",
     "text": [
      "Range of the Predicted variable -> Min: -11.675378799438477 | Max: 1.5713399648666382\n",
      "Range of the Target variable -> Min: -11.600000381469727 | Max: 1.5800000429153442\n"
     ]
    },
    {
     "data": {
      "text/html": [
       "<div>\n",
       "<style scoped>\n",
       "    .dataframe tbody tr th:only-of-type {\n",
       "        vertical-align: middle;\n",
       "    }\n",
       "\n",
       "    .dataframe tbody tr th {\n",
       "        vertical-align: top;\n",
       "    }\n",
       "\n",
       "    .dataframe thead th {\n",
       "        text-align: right;\n",
       "    }\n",
       "</style>\n",
       "<table border=\"1\" class=\"dataframe\">\n",
       "  <thead>\n",
       "    <tr style=\"text-align: right;\">\n",
       "      <th></th>\n",
       "      <th>y_truth</th>\n",
       "      <th>y_predict</th>\n",
       "    </tr>\n",
       "  </thead>\n",
       "  <tbody>\n",
       "    <tr>\n",
       "      <th>0</th>\n",
       "      <td>-1.000</td>\n",
       "      <td>-0.972344</td>\n",
       "    </tr>\n",
       "    <tr>\n",
       "      <th>1</th>\n",
       "      <td>-1.850</td>\n",
       "      <td>-1.810759</td>\n",
       "    </tr>\n",
       "    <tr>\n",
       "      <th>2</th>\n",
       "      <td>-0.490</td>\n",
       "      <td>-0.591831</td>\n",
       "    </tr>\n",
       "    <tr>\n",
       "      <th>3</th>\n",
       "      <td>-4.862</td>\n",
       "      <td>-4.854700</td>\n",
       "    </tr>\n",
       "    <tr>\n",
       "      <th>4</th>\n",
       "      <td>-3.270</td>\n",
       "      <td>-3.194841</td>\n",
       "    </tr>\n",
       "    <tr>\n",
       "      <th>...</th>\n",
       "      <td>...</td>\n",
       "      <td>...</td>\n",
       "    </tr>\n",
       "    <tr>\n",
       "      <th>1123</th>\n",
       "      <td>-3.610</td>\n",
       "      <td>-3.606540</td>\n",
       "    </tr>\n",
       "    <tr>\n",
       "      <th>1124</th>\n",
       "      <td>-0.807</td>\n",
       "      <td>-0.849019</td>\n",
       "    </tr>\n",
       "    <tr>\n",
       "      <th>1125</th>\n",
       "      <td>1.100</td>\n",
       "      <td>1.319252</td>\n",
       "    </tr>\n",
       "    <tr>\n",
       "      <th>1126</th>\n",
       "      <td>-1.090</td>\n",
       "      <td>-1.025608</td>\n",
       "    </tr>\n",
       "    <tr>\n",
       "      <th>1127</th>\n",
       "      <td>-3.550</td>\n",
       "      <td>-3.460228</td>\n",
       "    </tr>\n",
       "  </tbody>\n",
       "</table>\n",
       "<p>1128 rows × 2 columns</p>\n",
       "</div>"
      ],
      "text/plain": [
       "      y_truth  y_predict\n",
       "0      -1.000  -0.972344\n",
       "1      -1.850  -1.810759\n",
       "2      -0.490  -0.591831\n",
       "3      -4.862  -4.854700\n",
       "4      -3.270  -3.194841\n",
       "...       ...        ...\n",
       "1123   -3.610  -3.606540\n",
       "1124   -0.807  -0.849019\n",
       "1125    1.100   1.319252\n",
       "1126   -1.090  -1.025608\n",
       "1127   -3.550  -3.460228\n",
       "\n",
       "[1128 rows x 2 columns]"
      ]
     },
     "metadata": {},
     "output_type": "display_data"
    }
   ],
   "source": [
    "pred_df = all_data_eval(data, model)\n",
    "\n",
    "print(\"Range of the Predicted variable -> Min: {} | Max: {}\".format(pred_df.y_predict.min(), pred_df.y_predict.max()))\n",
    "print(\"Range of the Target variable -> Min: {} | Max: {}\".format(pred_df.y_truth.min(), pred_df.y_truth.max()))\n",
    "\n",
    "display(pred_df)"
   ]
  },
  {
   "cell_type": "code",
   "execution_count": 16,
   "metadata": {},
   "outputs": [
    {
     "data": {
      "text/plain": [
       "<matplotlib.axes._subplots.AxesSubplot at 0x2053ace7108>"
      ]
     },
     "execution_count": 16,
     "metadata": {},
     "output_type": "execute_result"
    },
    {
     "data": {
      "image/png": "[encoded data removed]",
      "text/plain": [
       "<Figure size 432x288 with 1 Axes>"
      ]
     },
     "metadata": {
      "needs_background": "light"
     },
     "output_type": "display_data"
    }
   ],
   "source": [
    "%matplotlib inline\n",
    "\n",
    "# inspect the data plots with absicca as ground-truth values & ordinate as predicted values\n",
    "plot=sns.scatterplot(data=pred_df, x=\"y_truth\", y=\"y_predict\")\n",
    "sns.lineplot([-12, 2], [-12, 2], color=\"r\")\n",
    "plot.set(xlim=(-12, 2))\n",
    "plot.set(ylim=(-12, 2))\n",
    "\n",
    "plot"
   ]
  },
  {
   "cell_type": "code",
   "execution_count": 14,
   "metadata": {},
   "outputs": [
    {
     "name": "stdout",
     "output_type": "stream",
     "text": [
      "MSE of the model predictions over the entire dataset: 0.1838070614214383 | Mean Absolute Error: 0.20784129944121374\n"
     ]
    }
   ],
   "source": [
    "print(\"MSE of the model predictions over the entire dataset: {} | Mean Absolute Error: {}\".format(\n",
    "                                                                  mean_squared_error(pred_df.y_truth, pred_df.y_predict),\n",
    "                                                                  mean_absolute_error(pred_df.y_truth, pred_df.y_predict)\n",
    "                                                                                                  )\n",
    "     )"
   ]
  },
  {
   "cell_type": "markdown",
   "metadata": {},
   "source": [
    "<hr style='border: 4px double blue'></hr>\n",
    "<h3>Observation- Refined Model Performance</h3>\n",
    "\n",
    "The Model performs better than the baseline with <b>MSE</b> of <em>0.183</em>. The plot with each datapoints' absicca & ordinate values given as<em>x = \"Ground-Truth\" | y = \"Prediction\")</em>, is also more tightly packed and closer to the <b>Identity Line</b> <em style=\"color: red;\">(X=Y)</em> which indicates better performance than the base-line model."
   ]
  }
 ],
 "metadata": {
  "kernelspec": {
   "display_name": "Python 3",
   "language": "python",
   "name": "python3"
  },
  "language_info": {
   "codemirror_mode": {
    "name": "ipython",
    "version": 3
   },
   "file_extension": ".py",
   "mimetype": "text/x-python",
   "name": "python",
   "nbconvert_exporter": "python",
   "pygments_lexer": "ipython3",
   "version": "3.7.4"
  }
 },
 "nbformat": 4,
 "nbformat_minor": 2
}
