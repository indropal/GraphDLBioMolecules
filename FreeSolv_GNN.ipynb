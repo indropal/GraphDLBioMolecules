{
 "cells": [
  {
   "cell_type": "markdown",
   "metadata": {},
   "source": [
    "<h1>Predicting Hydration Free Energy of Organic molecules in water from their Molecular Structure</h1>\n",
    "\n",
    "In this project, the <em><b>Hydration Free Energy</b></em> of a samll Organic Molecule is estimated from features derived from the Graph-representation of its molecular structure with a Deep Learning Model (Graph Neural Net.). \n",
    "<br>\n",
    "To train and validate the model, we make use of the <a href=\"https://moleculenet.org/datasets-1\">FreeSolv Dataset</a> - which comprises of <em>642</em> common organic molecules. In this small dataset, each molecule's structure is represented by its respective <b>SMILES</b> string. <em><b>Hydration Free Energy</b></em> is the amount of energy released when one mole of ions undergoes hydration is a <b><em>physical property</em></b> - not requiring assessment of any of its molecular chemical properties, hence information of the relative molecular conformers is not necessary i.e. 3D coordinates of molecular components."
   ]
  },
  {
   "cell_type": "code",
   "execution_count": 1,
   "metadata": {},
   "outputs": [
    {
     "name": "stderr",
     "output_type": "stream",
     "text": [
      "C:\\Users\\palin\\Anaconda3\\lib\\site-packages\\statsmodels\\tools\\_testing.py:19: FutureWarning: pandas.util.testing is deprecated. Use the functions in the public API at pandas.testing instead.\n",
      "  import pandas.util.testing as tm\n"
     ]
    }
   ],
   "source": [
    "import sys\n",
    "from rdkit import Chem\n",
    "import torch\n",
    "import torch.nn.functional as F\n",
    "\n",
    "from torch_geometric.nn import GCNConv, TopKPooling\n",
    "from torch_geometric.nn import global_mean_pool as gap\n",
    "from torch_geometric.nn import global_max_pool as gmp\n",
    "from torch_geometric.datasets import MoleculeNet\n",
    "from torch_geometric.data import DataLoader\n",
    "\n",
    "import seaborn as sns\n",
    "import pandas as pd\n",
    "import numpy as np\n",
    "from sklearn.metrics import mean_squared_error, mean_absolute_error\n",
    "\n",
    "import warnings\n",
    "\n",
    "sys.path.append(\"./gnns/\")\n",
    "from baseFreeSolvModel import baseFreeSolvModel\n",
    "from freeSolveModel import freeSolveModel"
   ]
  },
  {
   "cell_type": "markdown",
   "metadata": {},
   "source": [
    "<h1>Inspect & Preview the Dataset</h1>"
   ]
  },
  {
   "cell_type": "code",
   "execution_count": 2,
   "metadata": {},
   "outputs": [
    {
     "data": {
      "text/plain": [
       "FreeSolv(642)"
      ]
     },
     "execution_count": 2,
     "metadata": {},
     "output_type": "execute_result"
    }
   ],
   "source": [
    "# Load the 'ESOL' component of the dataset\n",
    "data = MoleculeNet(root='.', name=\"FreeSolv\")\n",
    "data"
   ]
  },
  {
   "cell_type": "code",
   "execution_count": 3,
   "metadata": {},
   "outputs": [
    {
     "name": "stdout",
     "output_type": "stream",
     "text": [
      "Inspecting the dataset...\n",
      "Dataset Type: <class 'torch_geometric.datasets.molecule_net.MoleculeNet'>\n",
      "Number of features per molecule: 9 | Number of Classes: 485\n",
      "Number of Datapoints: <bound method InMemoryDataset.len of FreeSolv(642)>\n",
      "Inspecting a Molecule Graph data sample..\n",
      "First Molecule Graph Data in dataset: Data(x=[13, 9], edge_index=[2, 26], edge_attr=[26, 3], y=[1, 1], smiles='CN(C)C(=O)c1ccc(cc1)OC')\n",
      "Number of Nodes in Molecule Graph: 13 | Number of Edges in Molecule Graph: 26\n",
      "\n",
      "Inspect the features in the data sample:\n"
     ]
    },
    {
     "data": {
      "text/plain": [
       "tensor([[6, 0, 4, 5, 3, 0, 4, 0, 0],\n",
       "        [7, 0, 3, 5, 0, 0, 3, 0, 0],\n",
       "        [6, 0, 4, 5, 3, 0, 4, 0, 0],\n",
       "        [6, 0, 3, 5, 0, 0, 3, 0, 0],\n",
       "        [8, 0, 1, 5, 0, 0, 3, 0, 0],\n",
       "        [6, 0, 3, 5, 0, 0, 3, 1, 1],\n",
       "        [6, 0, 3, 5, 1, 0, 3, 1, 1],\n",
       "        [6, 0, 3, 5, 1, 0, 3, 1, 1],\n",
       "        [6, 0, 3, 5, 0, 0, 3, 1, 1],\n",
       "        [6, 0, 3, 5, 1, 0, 3, 1, 1],\n",
       "        [6, 0, 3, 5, 1, 0, 3, 1, 1],\n",
       "        [8, 0, 2, 5, 0, 0, 3, 0, 0],\n",
       "        [6, 0, 4, 5, 3, 0, 4, 0, 0]])"
      ]
     },
     "metadata": {},
     "output_type": "display_data"
    },
    {
     "name": "stdout",
     "output_type": "stream",
     "text": [
      "\n",
      "The target variable for the Graph Data sample:\n"
     ]
    },
    {
     "data": {
      "text/plain": [
       "tensor([[-11.0100]])"
      ]
     },
     "metadata": {},
     "output_type": "display_data"
    },
    {
     "name": "stdout",
     "output_type": "stream",
     "text": [
      "The graph data has 13 nodes & each node is comprised of Node-features which consists of a tensor of 9 features for each node.\n"
     ]
    }
   ],
   "source": [
    "# inspect the dataset\n",
    "print(\"Inspecting the dataset...\\nDataset Type: {}\\nNumber of features per molecule: {} | Number of Classes: {}\\nNumber of Datapoints: {}\".format(type(data), data.num_features, data.num_classes, data.len))\n",
    "\n",
    "# inspecting a sample of the dataset\n",
    "print(\"Inspecting a Molecule Graph data sample..\\nFirst Molecule Graph Data in dataset: {}\\nNumber of Nodes in Molecule Graph: {} | Number of Edges in Molecule Graph: {}\".format(data[0], data[0].num_nodes, data[0].num_edges))\n",
    "print(\"\\nInspect the features in the data sample:\")\n",
    "display(data[0].x)\n",
    "print(\"\\nThe target variable for the Graph Data sample:\")\n",
    "display(data[0].y)\n",
    "# print(data[0].edge_index.t()) # Get the Edge Insformation i.e. tuple of nodes connected by an edge.\n",
    "print(\"The graph data has 13 nodes & each node is comprised of Node-features which consists of a tensor of 9 features for each node.\")"
   ]
  },
  {
   "cell_type": "markdown",
   "metadata": {},
   "source": [
    "<h3>Visualize Molecules for a small sample of molecules in the dataset</h3>"
   ]
  },
  {
   "cell_type": "code",
   "execution_count": 4,
   "metadata": {
    "scrolled": false
   },
   "outputs": [
    {
     "name": "stdout",
     "output_type": "stream",
     "text": [
      "Molecule SMILES string:  CN(C)C(=O)c1ccc(cc1)OC\n"
     ]
    },
    {
     "data": {
      "image/png": "[encoded data removed]",
      "text/plain": [
       "<rdkit.Chem.rdchem.Mol at 0x1ca23d89670>"
      ]
     },
     "metadata": {},
     "output_type": "display_data"
    },
    {
     "name": "stdout",
     "output_type": "stream",
     "text": [
      "---------------------------------------------\n",
      "Molecule SMILES string:  CS(=O)(=O)Cl\n"
     ]
    },
    {
     "data": {
      "image/png": "[encoded data removed]",
      "text/plain": [
       "<rdkit.Chem.rdchem.Mol at 0x1ca23dc6e40>"
      ]
     },
     "metadata": {},
     "output_type": "display_data"
    },
    {
     "name": "stdout",
     "output_type": "stream",
     "text": [
      "---------------------------------------------\n",
      "Molecule SMILES string:  CC(C)C=C\n"
     ]
    },
    {
     "data": {
      "image/png": "[encoded data removed]",
      "text/plain": [
       "<rdkit.Chem.rdchem.Mol at 0x1ca23dcc170>"
      ]
     },
     "metadata": {},
     "output_type": "display_data"
    },
    {
     "name": "stdout",
     "output_type": "stream",
     "text": [
      "---------------------------------------------\n",
      "Molecule SMILES string:  CCc1cnccn1\n"
     ]
    },
    {
     "data": {
      "image/png": "[encoded data removed]",
      "text/plain": [
       "<rdkit.Chem.rdchem.Mol at 0x1ca23dcc490>"
      ]
     },
     "metadata": {},
     "output_type": "display_data"
    },
    {
     "name": "stdout",
     "output_type": "stream",
     "text": [
      "---------------------------------------------\n",
      "Molecule SMILES string:  CCCCCCCO\n"
     ]
    },
    {
     "data": {
      "image/png": "[encoded data removed]",
      "text/plain": [
       "<rdkit.Chem.rdchem.Mol at 0x1ca23dcc9e0>"
      ]
     },
     "metadata": {},
     "output_type": "display_data"
    },
    {
     "name": "stdout",
     "output_type": "stream",
     "text": [
      "---------------------------------------------\n",
      "Molecule SMILES string:  Cc1cc(cc(c1)O)C\n"
     ]
    },
    {
     "data": {
      "image/png": "[encoded data removed]",
      "text/plain": [
       "<rdkit.Chem.rdchem.Mol at 0x1ca23dcf030>"
      ]
     },
     "metadata": {},
     "output_type": "display_data"
    },
    {
     "name": "stdout",
     "output_type": "stream",
     "text": [
      "---------------------------------------------\n",
      "Molecule SMILES string:  CC(C)C(C)C\n"
     ]
    },
    {
     "data": {
      "image/png": "[encoded data removed]",
      "text/plain": [
       "<rdkit.Chem.rdchem.Mol at 0x1ca23dcf620>"
      ]
     },
     "metadata": {},
     "output_type": "display_data"
    },
    {
     "name": "stdout",
     "output_type": "stream",
     "text": [
      "---------------------------------------------\n",
      "Molecule SMILES string:  CCCC(C)(C)O\n"
     ]
    },
    {
     "data": {
      "image/png": "[encoded data removed]",
      "text/plain": [
       "<rdkit.Chem.rdchem.Mol at 0x1ca23dcf8f0>"
      ]
     },
     "metadata": {},
     "output_type": "display_data"
    },
    {
     "name": "stdout",
     "output_type": "stream",
     "text": [
      "---------------------------------------------\n",
      "Molecule SMILES string:  C[C@@H]1CCCC[C@@H]1C\n"
     ]
    },
    {
     "data": {
      "image/png": "[encoded data removed]",
      "text/plain": [
       "<rdkit.Chem.rdchem.Mol at 0x1ca23dcfd00>"
      ]
     },
     "metadata": {},
     "output_type": "display_data"
    },
    {
     "name": "stdout",
     "output_type": "stream",
     "text": [
      "---------------------------------------------\n",
      "Molecule SMILES string:  CC[C@H](C)O\n"
     ]
    },
    {
     "data": {
      "image/png": "[encoded data removed]",
      "text/plain": [
       "<rdkit.Chem.rdchem.Mol at 0x1ca23dd3300>"
      ]
     },
     "metadata": {},
     "output_type": "display_data"
    },
    {
     "name": "stdout",
     "output_type": "stream",
     "text": [
      "---------------------------------------------\n"
     ]
    }
   ],
   "source": [
    "# Visualizing Molecules\n",
    "# Use RDKit to visualize molecular features of first 10 graph data samples\n",
    "\n",
    "for i in range(10):\n",
    "    molecule = Chem.MolFromSmiles(data[i]['smiles'])\n",
    "    print(\"Molecule SMILES string: \", data[i]['smiles'])\n",
    "    display(molecule)\n",
    "    print('---------------------------------------------')"
   ]
  },
  {
   "cell_type": "markdown",
   "metadata": {},
   "source": [
    "<hr style=\"border: 4px double orange;\"></hr>\n",
    "<h3>Baseline Predictive Model with Deep Graph Neural Nets</h3>\n",
    "\n",
    "Create a baseline Model to benchmark the performance, on top of which a refined GNN model can be built to obtain improved predictions on <em>Hydration Free Energy</em>.\n",
    "<br>\n",
    "Upon inspecting the dataset - The target variable comprises of a single real (<em>float</em>) value - which indicates this as a <b><em>graph-level prediction problem</em></b>."
   ]
  },
  {
   "cell_type": "code",
   "execution_count": 5,
   "metadata": {},
   "outputs": [
    {
     "data": {
      "text/plain": [
       "baseFreeSolvModel(\n",
       "  (in_conv): GCNConv(9, 128)\n",
       "  (conv1): GCNConv(128, 128)\n",
       "  (conv2): GCNConv(128, 128)\n",
       "  (conv3): GCNConv(128, 128)\n",
       "  (conv4): GCNConv(128, 128)\n",
       "  (out): Linear(in_features=256, out_features=1, bias=True)\n",
       ")"
      ]
     },
     "metadata": {},
     "output_type": "display_data"
    }
   ],
   "source": [
    "# Embedding size for each Graph NN layer\n",
    "emb_size = 128\n",
    "\n",
    "# Instantiating the Base Model\n",
    "baseModel = baseFreeSolvModel(data.num_features, emb_size)\n",
    "\n",
    "display(baseModel)"
   ]
  },
  {
   "cell_type": "code",
   "execution_count": 6,
   "metadata": {},
   "outputs": [
    {
     "name": "stdout",
     "output_type": "stream",
     "text": [
      "Number of Model Parameters:  67585\n"
     ]
    }
   ],
   "source": [
    "# Summarize the instantiated Base Model\n",
    "print(\"Number of Model Parameters: \", sum(p.numel() for p in baseModel.parameters()))"
   ]
  },
  {
   "cell_type": "markdown",
   "metadata": {},
   "source": [
    "<h4>Compile the <em>baseline</em> model & define the Loss & Optimisation functions</h4>"
   ]
  },
  {
   "cell_type": "code",
   "execution_count": 7,
   "metadata": {},
   "outputs": [
    {
     "name": "stderr",
     "output_type": "stream",
     "text": [
      "C:\\Users\\palin\\Anaconda3\\lib\\site-packages\\torch_geometric\\deprecation.py:12: UserWarning: 'data.DataLoader' is deprecated, use 'loader.DataLoader' instead\n",
      "  warnings.warn(out)\n"
     ]
    }
   ],
   "source": [
    "# Use the GPU for Model training if available\n",
    "device = torch.device(\"cuda:0\" if torch.cuda.is_available() else \"cpu\")\n",
    "baseModel = baseModel.to(device)\n",
    "\n",
    "# Define the Objective Function for Base Model compilation\n",
    "# MSE -> Objective / Loss Funciton\n",
    "loss_function = torch.nn.MSELoss()\n",
    "optimizer = torch.optim.RMSprop(baseModel.parameters(), lr = 0.0001, momentum=0.9)\n",
    "\n",
    "# Use Data Loader to collate Data into batches\n",
    "data_size = len(data)\n",
    "batch_size = 64\n",
    "\n",
    "# Pass 70% of the data as Train to the Data Loader\n",
    "train_data_loader = DataLoader(data[:int(data_size * 0.80)], batch_size=batch_size, shuffle=True)\n",
    "\n",
    "# Pass 20% of the data as Test to the Data Loader\n",
    "test_data_loader = DataLoader(data[int(data_size * 0.80):], batch_size=batch_size, shuffle=True)\n",
    "\n",
    "def model_train(train_data_loader=train_data_loader):\n",
    "    \n",
    "    for batch_data in train_data_loader:\n",
    "        \n",
    "        batch_data=batch_data.to(device)\n",
    "        optimizer.zero_grad()\n",
    "        prediction, embedding = baseModel(batch_data.x.float(), batch_data.edge_index, batch_data.batch)\n",
    "        loss_val = loss_function(prediction, batch_data.y)\n",
    "        loss_val.backward()\n",
    "        optimizer.step()\n",
    "    return loss_val, embedding"
   ]
  },
  {
   "cell_type": "markdown",
   "metadata": {},
   "source": [
    "<hr style=\"border: 2px double gray\"></hr>\n",
    "<h3>Train the Baseline Model</h3>"
   ]
  },
  {
   "cell_type": "code",
   "execution_count": 8,
   "metadata": {},
   "outputs": [
    {
     "name": "stderr",
     "output_type": "stream",
     "text": [
      "C:\\Users\\palin\\Anaconda3\\lib\\site-packages\\torch\\nn\\functional.py:1795: UserWarning: nn.functional.tanh is deprecated. Use torch.tanh instead.\n",
      "  warnings.warn(\"nn.functional.tanh is deprecated. Use torch.tanh instead.\")\n"
     ]
    },
    {
     "name": "stdout",
     "output_type": "stream",
     "text": [
      "Completed Epochs: 0 -> Loss: 0.2654896676540375\n",
      "Completed Epochs: 50 -> Loss: 4.079735279083252\n",
      "Completed Epochs: 100 -> Loss: 2.974464178085327\n",
      "Completed Epochs: 150 -> Loss: 0.2945805490016937\n",
      "Completed Epochs: 200 -> Loss: 2.0872559547424316\n",
      "Completed Epochs: 250 -> Loss: 6.2555646896362305\n",
      "Completed Epochs: 300 -> Loss: 1.5750854015350342\n",
      "Completed Epochs: 350 -> Loss: 8.54786205291748\n",
      "Completed Epochs: 400 -> Loss: 0.12430177628993988\n",
      "Completed Epochs: 450 -> Loss: 2.2593767642974854\n",
      "Completed Epochs: 500 -> Loss: 1.391201376914978\n",
      "Completed Epochs: 550 -> Loss: 0.8310549855232239\n",
      "Completed Epochs: 600 -> Loss: 3.224425792694092\n",
      "Completed Epochs: 650 -> Loss: 0.10348481684923172\n",
      "Completed Epochs: 700 -> Loss: 0.2235272377729416\n",
      "Completed Epochs: 750 -> Loss: 0.00027829405735246837\n",
      "Completed Epochs: 800 -> Loss: 0.0022921913769096136\n",
      "Completed Epochs: 850 -> Loss: 0.20373326539993286\n",
      "Completed Epochs: 900 -> Loss: 0.015977200120687485\n",
      "Completed Epochs: 950 -> Loss: 0.23479124903678894\n",
      "Completed Epochs: 1000 -> Loss: 0.9729092717170715\n",
      "Completed Epochs: 1050 -> Loss: 0.08481204509735107\n",
      "Completed Epochs: 1100 -> Loss: 3.0700178146362305\n",
      "Completed Epochs: 1150 -> Loss: 0.6949818730354309\n",
      "Completed Epochs: 1200 -> Loss: 3.614131450653076\n",
      "Completed Epochs: 1250 -> Loss: 0.390474796295166\n",
      "Completed Epochs: 1300 -> Loss: 10.970053672790527\n",
      "Completed Epochs: 1350 -> Loss: 0.012018132954835892\n",
      "Completed Epochs: 1400 -> Loss: 0.0029005601536482573\n",
      "Completed Epochs: 1450 -> Loss: 0.09780322760343552\n"
     ]
    }
   ],
   "source": [
    "epochs = 1500\n",
    "hist_loss = []\n",
    "\n",
    "for epoch in range(epochs):\n",
    "    loss, h = model_train(train_data_loader)\n",
    "    hist_loss.append(loss)\n",
    "    if epoch%50 == 0:\n",
    "        print(\"Completed Epochs: {} -> Loss: {}\".format(epoch, loss))"
   ]
  },
  {
   "cell_type": "code",
   "execution_count": 29,
   "metadata": {},
   "outputs": [
    {
     "data": {
      "text/plain": [
       "<matplotlib.axes._subplots.AxesSubplot at 0x1ca88c44948>"
      ]
     },
     "execution_count": 29,
     "metadata": {},
     "output_type": "execute_result"
    },
    {
     "data": {
      "image/png": "[encoded data removed]",
      "text/plain": [
       "<Figure size 432x288 with 1 Axes>"
      ]
     },
     "metadata": {
      "needs_background": "light"
     },
     "output_type": "display_data"
    }
   ],
   "source": [
    "%matplotlib inline\n",
    "\n",
    "# Baseline Model was trained at 7500 epochs - visualizing only the last 2500 epochs\n",
    "hist_losses = [float(loss.cpu().detach().numpy()) for loss in hist_loss[:]]\n",
    "loss_index = [i for i in range(len(hist_losses))]\n",
    "\n",
    "plt = sns.lineplot(loss_index, hist_losses)\n",
    "plt"
   ]
  },
  {
   "cell_type": "code",
   "execution_count": 18,
   "metadata": {},
   "outputs": [],
   "source": [
    "model_save_path = \"./models/FreeSolv_baseModel.pth\"\n",
    "torch.save(baseModel, model_save_path)"
   ]
  },
  {
   "cell_type": "markdown",
   "metadata": {},
   "source": [
    "<h4>Observation from the Loss-Curve</h4>\n",
    "\n",
    "The Model has a very jittery loss curve with lots of instance of spikes in the loss value over successive iterations.\n",
    "This could be improved by introducing 'Batch-Normalization' layers in the model-architecture. Also, the model could be made slightly mode complex - by ensuring the node-embedding used for overall graph representation capture most node features by increaing the node-embedding dimensions.\n",
    "\n",
    "<h4>Evaluate Model performance over the Test data</h4>"
   ]
  },
  {
   "cell_type": "code",
   "execution_count": 19,
   "metadata": {},
   "outputs": [],
   "source": [
    "# Obtaining The test predictions - Load the Stored baseline model\n",
    "base_model= torch.load( model_save_path )\n",
    "device = torch.device(\"cuda:0\" if torch.cuda.is_available() else \"cpu\")\n",
    "base_model = base_model.to(device)"
   ]
  },
  {
   "cell_type": "code",
   "execution_count": 20,
   "metadata": {},
   "outputs": [
    {
     "name": "stderr",
     "output_type": "stream",
     "text": [
      "C:\\Users\\palin\\Anaconda3\\lib\\site-packages\\torch\\nn\\functional.py:1795: UserWarning: nn.functional.tanh is deprecated. Use torch.tanh instead.\n",
      "  warnings.warn(\"nn.functional.tanh is deprecated. Use torch.tanh instead.\")\n"
     ]
    },
    {
     "data": {
      "text/html": [
       "<div>\n",
       "<style scoped>\n",
       "    .dataframe tbody tr th:only-of-type {\n",
       "        vertical-align: middle;\n",
       "    }\n",
       "\n",
       "    .dataframe tbody tr th {\n",
       "        vertical-align: top;\n",
       "    }\n",
       "\n",
       "    .dataframe thead th {\n",
       "        text-align: right;\n",
       "    }\n",
       "</style>\n",
       "<table border=\"1\" class=\"dataframe\">\n",
       "  <thead>\n",
       "    <tr style=\"text-align: right;\">\n",
       "      <th></th>\n",
       "      <th>y_truth</th>\n",
       "      <th>y_predict</th>\n",
       "    </tr>\n",
       "  </thead>\n",
       "  <tbody>\n",
       "    <tr>\n",
       "      <th>0</th>\n",
       "      <td>-4.58</td>\n",
       "      <td>-7.874415</td>\n",
       "    </tr>\n",
       "    <tr>\n",
       "      <th>1</th>\n",
       "      <td>-11.14</td>\n",
       "      <td>-13.898327</td>\n",
       "    </tr>\n",
       "    <tr>\n",
       "      <th>2</th>\n",
       "      <td>-6.62</td>\n",
       "      <td>-7.338458</td>\n",
       "    </tr>\n",
       "    <tr>\n",
       "      <th>3</th>\n",
       "      <td>-6.79</td>\n",
       "      <td>-7.102839</td>\n",
       "    </tr>\n",
       "    <tr>\n",
       "      <th>4</th>\n",
       "      <td>-6.55</td>\n",
       "      <td>-2.824160</td>\n",
       "    </tr>\n",
       "    <tr>\n",
       "      <th>...</th>\n",
       "      <td>...</td>\n",
       "      <td>...</td>\n",
       "    </tr>\n",
       "    <tr>\n",
       "      <th>59</th>\n",
       "      <td>-9.37</td>\n",
       "      <td>-8.862805</td>\n",
       "    </tr>\n",
       "    <tr>\n",
       "      <th>60</th>\n",
       "      <td>-10.21</td>\n",
       "      <td>-9.717736</td>\n",
       "    </tr>\n",
       "    <tr>\n",
       "      <th>61</th>\n",
       "      <td>-4.16</td>\n",
       "      <td>-2.792576</td>\n",
       "    </tr>\n",
       "    <tr>\n",
       "      <th>62</th>\n",
       "      <td>-4.40</td>\n",
       "      <td>-8.843917</td>\n",
       "    </tr>\n",
       "    <tr>\n",
       "      <th>63</th>\n",
       "      <td>-4.20</td>\n",
       "      <td>-7.223330</td>\n",
       "    </tr>\n",
       "  </tbody>\n",
       "</table>\n",
       "<p>64 rows × 2 columns</p>\n",
       "</div>"
      ],
      "text/plain": [
       "    y_truth  y_predict\n",
       "0     -4.58  -7.874415\n",
       "1    -11.14 -13.898327\n",
       "2     -6.62  -7.338458\n",
       "3     -6.79  -7.102839\n",
       "4     -6.55  -2.824160\n",
       "..      ...        ...\n",
       "59    -9.37  -8.862805\n",
       "60   -10.21  -9.717736\n",
       "61    -4.16  -2.792576\n",
       "62    -4.40  -8.843917\n",
       "63    -4.20  -7.223330\n",
       "\n",
       "[64 rows x 2 columns]"
      ]
     },
     "metadata": {},
     "output_type": "display_data"
    }
   ],
   "source": [
    "test_batch_data = next(iter(test_data_loader))\n",
    "\n",
    "with torch.no_grad():\n",
    "    test_batch_data = test_batch_data.to(device)\n",
    "    prediction, embedding = base_model(test_batch_data.x.float(), test_batch_data.edge_index, test_batch_data.batch)\n",
    "    df = pd.DataFrame()\n",
    "    df['y_truth'] = test_batch_data.y.tolist()\n",
    "    df['y_predict'] = prediction.tolist()\n",
    "\n",
    "df['y_truth'] = df['y_truth'].apply(lambda row: row[0])\n",
    "df['y_predict'] = df['y_predict'].apply(lambda row: row[0])\n",
    "display(df)"
   ]
  },
  {
   "cell_type": "code",
   "execution_count": 21,
   "metadata": {},
   "outputs": [
    {
     "data": {
      "text/plain": [
       "<matplotlib.axes._subplots.AxesSubplot at 0x1ca526f3fc8>"
      ]
     },
     "execution_count": 21,
     "metadata": {},
     "output_type": "execute_result"
    },
    {
     "data": {
      "image/png": "[encoded data removed]",
      "text/plain": [
       "<Figure size 432x288 with 1 Axes>"
      ]
     },
     "metadata": {
      "needs_background": "light"
     },
     "output_type": "display_data"
    }
   ],
   "source": [
    "%matplotlib inline\n",
    "\n",
    "plot=sns.scatterplot(data=df, x=\"y_truth\", y=\"y_predict\")\n",
    "sns.lineplot([-12, 2], [-12, 2], color=\"r\", dashes=[(2, 2)])\n",
    "plot.set(xlim=(-10, 1.5))\n",
    "plot.set(ylim=(-10, 1.5))\n",
    "\n",
    "plot"
   ]
  },
  {
   "cell_type": "markdown",
   "metadata": {},
   "source": [
    "<p>\n",
    "    Since this is a <b>Regression Problem</b> with a single target variable, a model which gives predicted value as close to the <em>target variable</em> as possible is the one which is most desireable. So if we use <b><em>('Ground-Truth', 'Prediction')</em></b> as absicca - ordinate pair to define a data-point & plot it on a cartesian plane i.e. <em>X = \"Ground-Truth\" | Y = \"Prediction\"</em> - an ideal model's prediction would return a line <u>close to</u> (<em>but not exactly</em>) <b>X ≈ Y</b> i.e. <b><em>\"Prediction\" ≈ \"Ground-Truth\"</em></b>.\n",
    "</p>\n",
    "<br>\n",
    "<b>NOTE: </b>Identity Line, <em><b>X = Y</b></em> is shown in <span style=\"color: red\">red</span>."
   ]
  },
  {
   "cell_type": "code",
   "execution_count": 35,
   "metadata": {},
   "outputs": [],
   "source": [
    "def all_data_eval(data, model, device=torch.device(\"cuda:0\" if torch.cuda.is_available() else \"cpu\") ):\n",
    "    all_data = DataLoader(data, batch_size=batch_size, shuffle=True)\n",
    "    # all_data_iter = next(iter(all_data))\n",
    "    df = {'y_truth': [], 'y_predict': []}\n",
    "    with torch.no_grad():\n",
    "        for all_data_batch in all_data:\n",
    "            all_data_batch = all_data_batch.to(device)\n",
    "            prediction, embedding = model(all_data_batch.x.float(), all_data_batch.edge_index, all_data_batch.batch)\n",
    "\n",
    "            df['y_truth']+= all_data_batch.y.tolist()\n",
    "            df['y_predict']+= prediction.tolist()\n",
    "    \n",
    "    df = pd.DataFrame(df)\n",
    "    df['y_truth'] = df['y_truth'].apply(lambda row: row[0])\n",
    "    df['y_predict'] = df['y_predict'].apply(lambda row: row[0])\n",
    "    \n",
    "    return df"
   ]
  },
  {
   "cell_type": "markdown",
   "metadata": {},
   "source": [
    "<hr style=\"border: 3px blue double;\"></hr>\n",
    "<h3>Inspect performance of the Base-line Model over the Entire dataset</h3>"
   ]
  },
  {
   "cell_type": "code",
   "execution_count": 28,
   "metadata": {},
   "outputs": [
    {
     "name": "stderr",
     "output_type": "stream",
     "text": [
      "C:\\Users\\palin\\Anaconda3\\lib\\site-packages\\torch_geometric\\deprecation.py:12: UserWarning: 'data.DataLoader' is deprecated, use 'loader.DataLoader' instead\n",
      "  warnings.warn(out)\n",
      "C:\\Users\\palin\\Anaconda3\\lib\\site-packages\\torch\\nn\\functional.py:1795: UserWarning: nn.functional.tanh is deprecated. Use torch.tanh instead.\n",
      "  warnings.warn(\"nn.functional.tanh is deprecated. Use torch.tanh instead.\")\n"
     ]
    },
    {
     "name": "stdout",
     "output_type": "stream",
     "text": [
      "MSE of the Base Model predictions over the entire dataset: 0.8274045181096339 | Mean Absolute Error: 0.5016675711989496\n"
     ]
    },
    {
     "data": {
      "text/plain": [
       "<matplotlib.axes._subplots.AxesSubplot at 0x1ca7c91ba48>"
      ]
     },
     "execution_count": 28,
     "metadata": {},
     "output_type": "execute_result"
    },
    {
     "data": {
      "image/png": "[encoded data removed]",
      "text/plain": [
       "<Figure size 432x288 with 1 Axes>"
      ]
     },
     "metadata": {
      "needs_background": "light"
     },
     "output_type": "display_data"
    }
   ],
   "source": [
    "%matplotlib inline\n",
    "\n",
    "base_pred_df = all_data_eval(data, base_model)\n",
    "\n",
    "print(\"MSE of the Base Model predictions over the entire dataset: {} | Mean Absolute Error: {}\".format(\n",
    "                                                                  mean_squared_error(base_pred_df.y_truth, base_pred_df.y_predict),\n",
    "                                                                  mean_absolute_error(base_pred_df.y_truth, base_pred_df.y_predict)\n",
    "                                                                                                  )\n",
    "     )\n",
    "\n",
    "plot=sns.scatterplot(data=base_pred_df, x=\"y_truth\", y=\"y_predict\")\n",
    "sns.lineplot([-25, 6], [-25, 6], color=\"r\")\n",
    "plot.set(xlim=(-25, 6))\n",
    "plot.set(ylim=(-25, 6))\n",
    "\n",
    "plot"
   ]
  },
  {
   "cell_type": "markdown",
   "metadata": {},
   "source": [
    "<h4>Baseline Model Performance Observation -</h4>\n",
    "\n",
    "The Baseline Model has an <b>MSE</b> of <em>0.83</em> & <b>MAE</b> of <em>0.50</em>. While inspecting the plot with each datapoints' absicca & ordinate values given as<em>x = \"Ground-Truth\" | y = \"Prediction\")</em>, it can be inferred that the plot could be more condensed to a straigth line <em>(X=Y)</em> i.e. better predictions could be obtained by building a more complex model."
   ]
  },
  {
   "cell_type": "markdown",
   "metadata": {},
   "source": [
    "<h3>Building a Refined Model & Evaluting its Performance</h3>\n",
    "\n",
    "The Refined Model to be used for predicting Hydration-Free Energy is more complex than the base-line model. It include <em>Batch-Norm</em> layers as well as <em>Graph Attention Convolution</em> Layers."
   ]
  },
  {
   "cell_type": "code",
   "execution_count": 4,
   "metadata": {},
   "outputs": [
    {
     "data": {
      "text/plain": [
       "freeSolveModel(\n",
       "  (in_conv): GCNConv(9, 128)\n",
       "  (conv1): GATv2Conv(128, 128, heads=4)\n",
       "  (gnorm): GraphNorm(128)\n",
       "  (conv2): GCNConv(128, 128)\n",
       "  (conv3): GATv2Conv(128, 128, heads=2)\n",
       "  (conv4): GCNConv(128, 128)\n",
       "  (out): Linear(in_features=256, out_features=1, bias=True)\n",
       ")"
      ]
     },
     "execution_count": 4,
     "metadata": {},
     "output_type": "execute_result"
    }
   ],
   "source": [
    "emb_size = 128\n",
    "device = torch.device(\"cuda:0\" if torch.cuda.is_available() else \"cpu:0\")\n",
    "model = freeSolveModel(data.num_features, emb_size)\n",
    "model = model.to(device)\n",
    "model"
   ]
  },
  {
   "cell_type": "code",
   "execution_count": 5,
   "metadata": {},
   "outputs": [
    {
     "name": "stdout",
     "output_type": "stream",
     "text": [
      "Number of Model Parameters:  234113\n"
     ]
    }
   ],
   "source": [
    "# Summarize the instantiated Model\n",
    "print(\"Number of Model Parameters: \", sum(m.numel() for m in model.parameters()))"
   ]
  },
  {
   "cell_type": "code",
   "execution_count": 6,
   "metadata": {},
   "outputs": [
    {
     "name": "stderr",
     "output_type": "stream",
     "text": [
      "C:\\Users\\palin\\Anaconda3\\lib\\site-packages\\torch_geometric\\deprecation.py:12: UserWarning: 'data.DataLoader' is deprecated, use 'loader.DataLoader' instead\n",
      "  warnings.warn(out)\n"
     ]
    }
   ],
   "source": [
    "# Use the GPU for Model training if available\n",
    "# MSE -> Objective / Loss Funciton\n",
    "loss_function = torch.nn.MSELoss()\n",
    "optimizer = torch.optim.Adam(model.parameters(), lr = 0.0005)\n",
    "num_epochs = 4000\n",
    "decay_const = 4.5*num_epochs\n",
    "\n",
    "lr_schedule = lambda epoch: (np.e)**(-epoch/decay_const)\n",
    "scheduler = torch.optim.lr_scheduler.LambdaLR(optimizer, lr_lambda=lr_schedule)\n",
    "\n",
    "# Use Data Loader to collate Data into batches\n",
    "data_size = len(data)\n",
    "batch_size = 64\n",
    "\n",
    "# Pass 75% of the data as Train to the Data Loader\n",
    "train_data_loader = DataLoader(data[:int(data_size * 0.75)], batch_size=batch_size, shuffle=True)\n",
    "\n",
    "# Pass 25% of the data as Test to the Data Loader\n",
    "test_data_loader = DataLoader(data[int(data_size * 0.75):], batch_size=batch_size, shuffle=True)\n"
   ]
  },
  {
   "cell_type": "markdown",
   "metadata": {},
   "source": [
    "<h3>Train the compiled Model</h3>"
   ]
  },
  {
   "cell_type": "code",
   "execution_count": 7,
   "metadata": {},
   "outputs": [],
   "source": [
    "def model_train(train_data_loader, model=model):\n",
    "    \n",
    "    for batch_data in train_data_loader:\n",
    "        \n",
    "        batch_data=batch_data.to(device)\n",
    "        optimizer.zero_grad()\n",
    "        prediction, embedding = model(batch_data.x.float(), batch_data.edge_index, batch_data.batch)\n",
    "        loss_val = loss_function(prediction, batch_data.y)\n",
    "        loss_val.backward()\n",
    "        \n",
    "        optimizer.step()\n",
    "        \n",
    "    return loss_val, embedding"
   ]
  },
  {
   "cell_type": "code",
   "execution_count": 26,
   "metadata": {},
   "outputs": [
    {
     "name": "stdout",
     "output_type": "stream",
     "text": [
      "Completed Epochs: 0 -> Loss: 0.031321678310632706\n",
      "Completed Epochs: 50 -> Loss: 0.01330238115042448\n",
      "Completed Epochs: 100 -> Loss: 0.028400955721735954\n",
      "Completed Epochs: 150 -> Loss: 0.023832473903894424\n",
      "Completed Epochs: 200 -> Loss: 0.014979450963437557\n"
     ]
    }
   ],
   "source": [
    "hist_loss = []\n",
    "\n",
    "for epoch in range(num_epochs):\n",
    "    loss, _ = model_train(train_data_loader)\n",
    "    hist_loss.append(loss)\n",
    "    if epoch%50 == 0:\n",
    "        print(\"Completed Epochs: {} -> Loss: {}\".format(epoch, loss))\n",
    "    scheduler.step()"
   ]
  },
  {
   "cell_type": "code",
   "execution_count": 28,
   "metadata": {},
   "outputs": [
    {
     "data": {
      "text/plain": [
       "<matplotlib.axes._subplots.AxesSubplot at 0x1bf17232b48>"
      ]
     },
     "execution_count": 28,
     "metadata": {},
     "output_type": "execute_result"
    },
    {
     "data": {
      "image/png": "[encoded data removed]",
      "text/plain": [
       "<Figure size 432x288 with 1 Axes>"
      ]
     },
     "metadata": {
      "needs_background": "light"
     },
     "output_type": "display_data"
    }
   ],
   "source": [
    "%matplotlib inline\n",
    "\n",
    "# Inspect the model Loss\n",
    "hist_losses = [float(loss.cpu().detach().numpy()) for loss in hist_loss]\n",
    "loss_index = [i for i in range(len(hist_losses))]\n",
    "\n",
    "plt = sns.lineplot(loss_index, hist_losses)\n",
    "plt"
   ]
  },
  {
   "cell_type": "code",
   "execution_count": 29,
   "metadata": {},
   "outputs": [],
   "source": [
    "# save the Model\n",
    "torch.save(model, \"./models/FreeSolv_Model_v5.0.pth\")"
   ]
  },
  {
   "cell_type": "markdown",
   "metadata": {},
   "source": [
    "A more complex model with an appropriate <em>Learning-Rate Schedule</em> results in a very smooth learning curve with gradual decrease in the MSE-loss of the model over successive train epochs. Also the Loss-per-epoch seem to be much lesser than those observed while training the base-line model.\n",
    "\n",
    "<h3>Evaluate performance of the Trained Model on Test Sample Dataset</h3>"
   ]
  },
  {
   "cell_type": "code",
   "execution_count": 30,
   "metadata": {},
   "outputs": [
    {
     "name": "stderr",
     "output_type": "stream",
     "text": [
      "C:\\Users\\palin\\Anaconda3\\lib\\site-packages\\torch\\nn\\functional.py:1795: UserWarning: nn.functional.tanh is deprecated. Use torch.tanh instead.\n",
      "  warnings.warn(\"nn.functional.tanh is deprecated. Use torch.tanh instead.\")\n"
     ]
    },
    {
     "name": "stdout",
     "output_type": "stream",
     "text": [
      "Range of the Predicted variable -> Min: -17.147245407104492 | Max: 2.6924612522125244\n",
      "Range of the Target variable -> Min: -17.739999771118164 | Max: 3.430000066757202\n"
     ]
    }
   ],
   "source": [
    "%matplotlib inline\n",
    "\n",
    "test_batch_data = next(iter(test_data_loader))\n",
    "\n",
    "with torch.no_grad():\n",
    "    test_batch_data = test_batch_data.to(device)\n",
    "    prediction, embedding = model(test_batch_data.x.float(), test_batch_data.edge_index, test_batch_data.batch)\n",
    "    df = pd.DataFrame()\n",
    "    df['y_truth'] = test_batch_data.y.tolist()\n",
    "    df['y_predict'] = prediction.tolist()\n",
    "\n",
    "df['y_truth'] = df['y_truth'].apply(lambda row: row[0])\n",
    "df['y_predict'] = df['y_predict'].apply(lambda row: row[0])\n",
    "#display(df)\n",
    "\n",
    "print(\"Range of the Predicted variable -> Min: {} | Max: {}\".format(df.y_predict.min(), df.y_predict.max()))\n",
    "print(\"Range of the Target variable -> Min: {} | Max: {}\".format(df.y_truth.min(), df.y_truth.max()))"
   ]
  },
  {
   "cell_type": "code",
   "execution_count": 33,
   "metadata": {},
   "outputs": [
    {
     "data": {
      "text/plain": [
       "<matplotlib.axes._subplots.AxesSubplot at 0x1bf173d0888>"
      ]
     },
     "execution_count": 33,
     "metadata": {},
     "output_type": "execute_result"
    },
    {
     "data": {
      "image/png": "[encoded data removed]",
      "text/plain": [
       "<Figure size 432x288 with 1 Axes>"
      ]
     },
     "metadata": {
      "needs_background": "light"
     },
     "output_type": "display_data"
    }
   ],
   "source": [
    "%matplotlib inline\n",
    "\n",
    "plot=sns.scatterplot(data=df, x=\"y_truth\", y=\"y_predict\")\n",
    "sns.lineplot([-20, 4], [-20, 4], color=\"r\")\n",
    "plot.set(xlim=(-20, 4))\n",
    "plot.set(ylim=(-20, 4))\n",
    "\n",
    "plot"
   ]
  },
  {
   "cell_type": "markdown",
   "metadata": {},
   "source": [
    "<hr style=\"border: 3px double orange;\"></hr>\n",
    "<h3>Inspect the Performance of the model over the Entire Dataset</h3>"
   ]
  },
  {
   "cell_type": "code",
   "execution_count": 39,
   "metadata": {},
   "outputs": [
    {
     "name": "stderr",
     "output_type": "stream",
     "text": [
      "C:\\Users\\palin\\Anaconda3\\lib\\site-packages\\torch_geometric\\deprecation.py:12: UserWarning: 'data.DataLoader' is deprecated, use 'loader.DataLoader' instead\n",
      "  warnings.warn(out)\n",
      "C:\\Users\\palin\\Anaconda3\\lib\\site-packages\\torch\\nn\\functional.py:1795: UserWarning: nn.functional.tanh is deprecated. Use torch.tanh instead.\n",
      "  warnings.warn(\"nn.functional.tanh is deprecated. Use torch.tanh instead.\")\n"
     ]
    },
    {
     "name": "stdout",
     "output_type": "stream",
     "text": [
      "Range of the Predicted variable -> Min: -25.637908935546875 | Max: 3.258385419845581\n",
      "Range of the Target variable -> Min: -25.469999313354492 | Max: 3.430000066757202\n",
      "MSE of the model predictions over the entire dataset: 0.46582797693446454 | Mean Absolute Error: 0.2876060950886052\n"
     ]
    },
    {
     "data": {
      "text/plain": [
       "<matplotlib.axes._subplots.AxesSubplot at 0x1bf171547c8>"
      ]
     },
     "execution_count": 39,
     "metadata": {},
     "output_type": "execute_result"
    },
    {
     "data": {
      "image/png": "[encoded data removed]",
      "text/plain": [
       "<Figure size 432x288 with 1 Axes>"
      ]
     },
     "metadata": {
      "needs_background": "light"
     },
     "output_type": "display_data"
    }
   ],
   "source": [
    "%matplotlib inline\n",
    "\n",
    "pred_df = all_data_eval(data, model)\n",
    "\n",
    "print(\"Range of the Predicted variable -> Min: {} | Max: {}\".format(pred_df.y_predict.min(), pred_df.y_predict.max()))\n",
    "print(\"Range of the Target variable -> Min: {} | Max: {}\".format(pred_df.y_truth.min(), pred_df.y_truth.max()))\n",
    "\n",
    "# inspect the data plots with absicca as ground-truth values & ordinate as predicted values\n",
    "plot=sns.scatterplot(data=pred_df, x=\"y_truth\", y=\"y_predict\")\n",
    "sns.lineplot([-26, 6], [-26, 6], color=\"r\")\n",
    "plot.set(xlim=(-26, 6))\n",
    "plot.set(ylim=(-26, 6))\n",
    "\n",
    "print(\"MSE of the model predictions over the entire dataset: {} | Mean Absolute Error: {}\".format(\n",
    "                                                                  mean_squared_error(pred_df.y_truth, pred_df.y_predict),\n",
    "                                                                  mean_absolute_error(pred_df.y_truth, pred_df.y_predict)\n",
    "                                                                                                  )\n",
    "     )\n",
    "\n",
    "plot"
   ]
  },
  {
   "cell_type": "markdown",
   "metadata": {},
   "source": [
    "<hr style='border: 4px double green'></hr>\n",
    "<h3>Observation- Refined Model Performance</h3>\n",
    "\n",
    "The Model performs significantly better than the Baseline with <b>MSE</b> of <em>0.465</em>, which is almost half of that of the baseline model and an <b>MAE</b> of <em>0.287</em>.\n",
    "\n",
    "The plot with each datapoints' absicca & ordinate values given as<em>x = \"Ground-Truth\" | y = \"Prediction\")</em>, is alot more tightly packed and closer to the <b>Identity Line</b> <em style=\"color: red;\">(X=Y)</em> which indicates better performance than the base-line model."
   ]
  }
 ],
 "metadata": {
  "kernelspec": {
   "display_name": "Python 3",
   "language": "python",
   "name": "python3"
  },
  "language_info": {
   "codemirror_mode": {
    "name": "ipython",
    "version": 3
   },
   "file_extension": ".py",
   "mimetype": "text/x-python",
   "name": "python",
   "nbconvert_exporter": "python",
   "pygments_lexer": "ipython3",
   "version": "3.7.4"
  }
 },
 "nbformat": 4,
 "nbformat_minor": 2
}
